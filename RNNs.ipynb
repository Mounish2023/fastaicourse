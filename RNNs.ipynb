{
  "nbformat": 4,
  "nbformat_minor": 0,
  "metadata": {
    "colab": {
      "provenance": [],
      "gpuType": "T4",
      "authorship_tag": "ABX9TyPGW8SkPqGuPa0UZa0W1AFS",
      "include_colab_link": true
    },
    "kernelspec": {
      "name": "python3",
      "display_name": "Python 3"
    },
    "language_info": {
      "name": "python"
    },
    "accelerator": "GPU"
  },
  "cells": [
    {
      "cell_type": "markdown",
      "metadata": {
        "id": "view-in-github",
        "colab_type": "text"
      },
      "source": [
        "<a href=\"https://colab.research.google.com/github/Mounish2023/fastaicourse/blob/main/RNNs.ipynb\" target=\"_parent\"><img src=\"https://colab.research.google.com/assets/colab-badge.svg\" alt=\"Open In Colab\"/></a>"
      ]
    },
    {
      "cell_type": "markdown",
      "source": [
        "# Data Exploration and loading"
      ],
      "metadata": {
        "id": "BtZFTPEc8rqz"
      }
    },
    {
      "cell_type": "code",
      "execution_count": 2,
      "metadata": {
        "id": "noth2Sxu5-3R"
      },
      "outputs": [],
      "source": [
        "from fastai.text.all import *"
      ]
    },
    {
      "cell_type": "code",
      "source": [
        "path = untar_data(URLs.IMDB)"
      ],
      "metadata": {
        "colab": {
          "base_uri": "https://localhost:8080/",
          "height": 37
        },
        "id": "4CvaDCLi6Fr2",
        "outputId": "f810353f-100d-48b0-bdb2-b4e330a62a38"
      },
      "execution_count": 3,
      "outputs": [
        {
          "output_type": "display_data",
          "data": {
            "text/plain": [
              "<IPython.core.display.HTML object>"
            ],
            "text/html": [
              "\n",
              "<style>\n",
              "    /* Turns off some styling */\n",
              "    progress {\n",
              "        /* gets rid of default border in Firefox and Opera. */\n",
              "        border: none;\n",
              "        /* Needs to be in here for Safari polyfill so background images work as expected. */\n",
              "        background-size: auto;\n",
              "    }\n",
              "    progress:not([value]), progress:not([value])::-webkit-progress-bar {\n",
              "        background: repeating-linear-gradient(45deg, #7e7e7e, #7e7e7e 10px, #5c5c5c 10px, #5c5c5c 20px);\n",
              "    }\n",
              "    .progress-bar-interrupted, .progress-bar-interrupted::-webkit-progress-bar {\n",
              "        background: #F44336;\n",
              "    }\n",
              "</style>\n"
            ]
          },
          "metadata": {}
        },
        {
          "output_type": "display_data",
          "data": {
            "text/plain": [
              "<IPython.core.display.HTML object>"
            ],
            "text/html": [
              "\n",
              "    <div>\n",
              "      <progress value='144441344' class='' max='144440600' style='width:300px; height:20px; vertical-align: middle;'></progress>\n",
              "      100.00% [144441344/144440600 00:02&lt;00:00]\n",
              "    </div>\n",
              "    "
            ]
          },
          "metadata": {}
        }
      ]
    },
    {
      "cell_type": "code",
      "source": [
        "path.ls()"
      ],
      "metadata": {
        "colab": {
          "base_uri": "https://localhost:8080/"
        },
        "id": "zmsLscfs6RwH",
        "outputId": "ef4b83af-4584-482b-962b-980d20455092"
      },
      "execution_count": 4,
      "outputs": [
        {
          "output_type": "execute_result",
          "data": {
            "text/plain": [
              "(#7) [Path('/root/.fastai/data/imdb/README'),Path('/root/.fastai/data/imdb/train'),Path('/root/.fastai/data/imdb/unsup'),Path('/root/.fastai/data/imdb/tmp_clas'),Path('/root/.fastai/data/imdb/tmp_lm'),Path('/root/.fastai/data/imdb/imdb.vocab'),Path('/root/.fastai/data/imdb/test')]"
            ]
          },
          "metadata": {},
          "execution_count": 4
        }
      ]
    },
    {
      "cell_type": "code",
      "source": [
        "path.ls()[1]"
      ],
      "metadata": {
        "colab": {
          "base_uri": "https://localhost:8080/"
        },
        "id": "l2yazQMv6UNX",
        "outputId": "697a59ec-33f9-48aa-f54d-f2ce14843e08"
      },
      "execution_count": 5,
      "outputs": [
        {
          "output_type": "execute_result",
          "data": {
            "text/plain": [
              "Path('/root/.fastai/data/imdb/train')"
            ]
          },
          "metadata": {},
          "execution_count": 5
        }
      ]
    },
    {
      "cell_type": "code",
      "source": [
        "# (path/'/root/.fastai/data/imdb/imdb.vocab').open().read()"
      ],
      "metadata": {
        "id": "lE-7McyJ8Syp"
      },
      "execution_count": 6,
      "outputs": []
    },
    {
      "cell_type": "code",
      "source": [
        "(path/'/root/.fastai/data/imdb/train').ls()"
      ],
      "metadata": {
        "colab": {
          "base_uri": "https://localhost:8080/"
        },
        "id": "jSPu7UFB8GJI",
        "outputId": "9f2ef601-3aed-4218-cbf9-a94bb07bb58a"
      },
      "execution_count": 7,
      "outputs": [
        {
          "output_type": "execute_result",
          "data": {
            "text/plain": [
              "(#4) [Path('/root/.fastai/data/imdb/train/unsupBow.feat'),Path('/root/.fastai/data/imdb/train/labeledBow.feat'),Path('/root/.fastai/data/imdb/train/pos'),Path('/root/.fastai/data/imdb/train/neg')]"
            ]
          },
          "metadata": {},
          "execution_count": 7
        }
      ]
    },
    {
      "cell_type": "code",
      "source": [
        "(path/'/root/.fastai/data/imdb/test').ls()"
      ],
      "metadata": {
        "colab": {
          "base_uri": "https://localhost:8080/"
        },
        "id": "QaVBlPKZ8jST",
        "outputId": "2ccd4ef5-5820-4c5a-95d7-bd1b4e21885e"
      },
      "execution_count": 8,
      "outputs": [
        {
          "output_type": "execute_result",
          "data": {
            "text/plain": [
              "(#3) [Path('/root/.fastai/data/imdb/test/labeledBow.feat'),Path('/root/.fastai/data/imdb/test/pos'),Path('/root/.fastai/data/imdb/test/neg')]"
            ]
          },
          "metadata": {},
          "execution_count": 8
        }
      ]
    },
    {
      "cell_type": "code",
      "source": [
        "(path/'/root/.fastai/data/imdb/README').open().read()"
      ],
      "metadata": {
        "colab": {
          "base_uri": "https://localhost:8080/",
          "height": 139
        },
        "id": "LKvxM90g6qdd",
        "outputId": "f92d2fa8-fe5c-42f7-d931-1b2be27310c3"
      },
      "execution_count": 9,
      "outputs": [
        {
          "output_type": "execute_result",
          "data": {
            "text/plain": [
              "\"Large Movie Review Dataset v1.0\\n\\nOverview\\n\\nThis dataset contains movie reviews along with their associated binary\\nsentiment polarity labels. It is intended to serve as a benchmark for\\nsentiment classification. This document outlines how the dataset was\\ngathered, and how to use the files provided. \\n\\nDataset \\n\\nThe core dataset contains 50,000 reviews split evenly into 25k train\\nand 25k test sets. The overall distribution of labels is balanced (25k\\npos and 25k neg). We also include an additional 50,000 unlabeled\\ndocuments for unsupervised learning. \\n\\nIn the entire collection, no more than 30 reviews are allowed for any\\ngiven movie because reviews for the same movie tend to have correlated\\nratings. Further, the train and test sets contain a disjoint set of\\nmovies, so no significant performance is obtained by memorizing\\nmovie-unique terms and their associated with observed labels.  In the\\nlabeled train/test sets, a negative review has a score <= 4 out of 10,\\nand a positive review has a score >= 7 out of 10. Thus reviews with\\nmore neutral ratings are not included in the train/test sets. In the\\nunsupervised set, reviews of any rating are included and there are an\\neven number of reviews > 5 and <= 5.\\n\\nFiles\\n\\nThere are two top-level directories [train/, test/] corresponding to\\nthe training and test sets. Each contains [pos/, neg/] directories for\\nthe reviews with binary labels positive and negative. Within these\\ndirectories, reviews are stored in text files named following the\\nconvention [[id]_[rating].txt] where [id] is a unique id and [rating] is\\nthe star rating for that review on a 1-10 scale. For example, the file\\n[test/pos/200_8.txt] is the text for a positive-labeled test set\\nexample with unique id 200 and star rating 8/10 from IMDb. The\\n[train/unsup/] directory has 0 for all ratings because the ratings are\\nomitted for this portion of the dataset.\\n\\nWe also include the IMDb URLs for each review in a separate\\n[urls_[pos, neg, unsup].txt] file. A review with unique id 200 will\\nhave its URL on line 200 of this file. Due the ever-changing IMDb, we\\nare unable to link directly to the review, but only to the movie's\\nreview page.\\n\\nIn addition to the review text files, we include already-tokenized bag\\nof words (BoW) features that were used in our experiments. These \\nare stored in .feat files in the train/test directories. Each .feat\\nfile is in LIBSVM format, an ascii sparse-vector format for labeled\\ndata.  The feature indices in these files start from 0, and the text\\ntokens corresponding to a feature index is found in [imdb.vocab]. So a\\nline with 0:7 in a .feat file means the first word in [imdb.vocab]\\n(the) appears 7 times in that review.\\n\\nLIBSVM page for details on .feat file format:\\nhttp://www.csie.ntu.edu.tw/~cjlin/libsvm/\\n\\nWe also include [imdbEr.txt] which contains the expected rating for\\neach token in [imdb.vocab] as computed by (Potts, 2011). The expected\\nrating is a good way to get a sense for the average polarity of a word\\nin the dataset.\\n\\nCiting the dataset\\n\\nWhen using this dataset please cite our ACL 2011 paper which\\nintroduces it. This paper also contains classification results which\\nyou may want to compare against.\\n\\n\\n@InProceedings{maas-EtAl:2011:ACL-HLT2011,\\n  author    = {Maas, Andrew L.  and  Daly, Raymond E.  and  Pham, Peter T.  and  Huang, Dan  and  Ng, Andrew Y.  and  Potts, Christopher},\\n  title     = {Learning Word Vectors for Sentiment Analysis},\\n  booktitle = {Proceedings of the 49th Annual Meeting of the Association for Computational Linguistics: Human Language Technologies},\\n  month     = {June},\\n  year      = {2011},\\n  address   = {Portland, Oregon, USA},\\n  publisher = {Association for Computational Linguistics},\\n  pages     = {142--150},\\n  url       = {http://www.aclweb.org/anthology/P11-1015}\\n}\\n\\nReferences\\n\\nPotts, Christopher. 2011. On the negativity of negation. In Nan Li and\\nDavid Lutz, eds., Proceedings of Semantics and Linguistic Theory 20,\\n636-659.\\n\\nContact\\n\\nFor questions/comments/corrections please contact Andrew Maas\\namaas@cs.stanford.edu\\n\""
            ],
            "application/vnd.google.colaboratory.intrinsic+json": {
              "type": "string"
            }
          },
          "metadata": {},
          "execution_count": 9
        }
      ]
    },
    {
      "cell_type": "code",
      "source": [
        "files = get_text_files(path, folders=['train','test','unsup'])"
      ],
      "metadata": {
        "id": "EKlzqOhX6xvf"
      },
      "execution_count": 10,
      "outputs": []
    },
    {
      "cell_type": "code",
      "source": [
        "txt = files[0].open().read()"
      ],
      "metadata": {
        "id": "dilnMsyr7R1-"
      },
      "execution_count": 11,
      "outputs": []
    },
    {
      "cell_type": "markdown",
      "source": [
        "# Tokenization and Numericalization"
      ],
      "metadata": {
        "id": "9tcUm52I8krW"
      }
    },
    {
      "cell_type": "code",
      "source": [
        "spacy = WordTokenizer()\n",
        "toks = first(spacy([txt]))"
      ],
      "metadata": {
        "id": "we_q5V1Y7S6E"
      },
      "execution_count": 12,
      "outputs": []
    },
    {
      "cell_type": "code",
      "source": [
        "# ??first"
      ],
      "metadata": {
        "id": "YSgAz3xHCM3L"
      },
      "execution_count": 13,
      "outputs": []
    },
    {
      "cell_type": "code",
      "source": [
        "toks"
      ],
      "metadata": {
        "colab": {
          "base_uri": "https://localhost:8080/"
        },
        "id": "XVDh5l-n9B-9",
        "outputId": "d1cc4b03-eb5d-4e49-f86f-4f26ed5163b9"
      },
      "execution_count": 14,
      "outputs": [
        {
          "output_type": "execute_result",
          "data": {
            "text/plain": [
              "(#167) ['I',\"'m\",'60','years','old',',','a','guitarist',',','(','lead','/','rhythm',')',',','and','over','the','last','forty'...]"
            ]
          },
          "metadata": {},
          "execution_count": 14
        }
      ]
    },
    {
      "cell_type": "code",
      "source": [
        "tkn = Tokenizer(spacy)\n",
        "print(coll_repr(tkn(txt), 31))"
      ],
      "metadata": {
        "colab": {
          "base_uri": "https://localhost:8080/"
        },
        "id": "Lz9t5XXk_Ggp",
        "outputId": "e579ff7e-60ee-4845-afe8-f4ea3376be6d"
      },
      "execution_count": 15,
      "outputs": [
        {
          "output_type": "stream",
          "name": "stdout",
          "text": [
            "(#184) ['xxbos','xxmaj','i',\"'m\",'60','years','old',',','a','guitarist',',','(','lead','/','rhythm',')',',','and','over','the','last','forty','years',',','xxmaj','i',\"'ve\",'been','in','four','bands'...]\n"
          ]
        }
      ]
    },
    {
      "cell_type": "code",
      "source": [
        "# tkn.vocab"
      ],
      "metadata": {
        "id": "SeThzqFiNWFN"
      },
      "execution_count": 16,
      "outputs": []
    },
    {
      "cell_type": "code",
      "source": [
        "txts = L(o.open().read() for o in files[:2000])"
      ],
      "metadata": {
        "id": "iVB3kg0P_php"
      },
      "execution_count": 17,
      "outputs": []
    },
    {
      "cell_type": "code",
      "source": [
        "# txts"
      ],
      "metadata": {
        "id": "F0njioW4ADqF"
      },
      "execution_count": 18,
      "outputs": []
    },
    {
      "cell_type": "code",
      "source": [
        "txt"
      ],
      "metadata": {
        "colab": {
          "base_uri": "https://localhost:8080/",
          "height": 104
        },
        "id": "dGNugwieEfFv",
        "outputId": "a55a2c45-1588-4aa5-e233-f96bc0225613"
      },
      "execution_count": 19,
      "outputs": [
        {
          "output_type": "execute_result",
          "data": {
            "text/plain": [
              "\"I'm 60 years old, a guitarist, (lead/rhythm), and over the last forty years, I've been in four bands, it's all there, the fights, the foul-ups, the rotten food, the worse accommodation, always travelling, little or no money, and every one was drunk or high. But, the clubs, the fans, and the music, made it all worth it! Just like Strange Fruit! I'm too damn old for it now, and the arthritis in the hands and hips mean no more rocking, but for the length of that video, it all came back, and it was all there! The birds, the brawls, and the booze! And I was young again! It's just like Billy Connolly's voice over, God likes that 70's stuff! Rock On Forever!\""
            ],
            "application/vnd.google.colaboratory.intrinsic+json": {
              "type": "string"
            }
          },
          "metadata": {},
          "execution_count": 19
        }
      ]
    },
    {
      "cell_type": "code",
      "source": [
        "def subword(sz):\n",
        "  sp = SubwordTokenizer(vocab_sz=sz)\n",
        "  sp.setup(txts)\n",
        "\n",
        "  return ' '.join((first(sp([txt]))[:40]))"
      ],
      "metadata": {
        "id": "_mlYZDLnAGCe"
      },
      "execution_count": 20,
      "outputs": []
    },
    {
      "cell_type": "code",
      "source": [
        "sb = subword(1000)"
      ],
      "metadata": {
        "colab": {
          "base_uri": "https://localhost:8080/",
          "height": 17
        },
        "id": "E-_RYHiwE_IJ",
        "outputId": "ea4f19c9-ef6c-42bf-ec58-6aabdee46ba2"
      },
      "execution_count": 21,
      "outputs": [
        {
          "output_type": "display_data",
          "data": {
            "text/plain": [
              "<IPython.core.display.HTML object>"
            ],
            "text/html": [
              "\n",
              "<style>\n",
              "    /* Turns off some styling */\n",
              "    progress {\n",
              "        /* gets rid of default border in Firefox and Opera. */\n",
              "        border: none;\n",
              "        /* Needs to be in here for Safari polyfill so background images work as expected. */\n",
              "        background-size: auto;\n",
              "    }\n",
              "    progress:not([value]), progress:not([value])::-webkit-progress-bar {\n",
              "        background: repeating-linear-gradient(45deg, #7e7e7e, #7e7e7e 10px, #5c5c5c 10px, #5c5c5c 20px);\n",
              "    }\n",
              "    .progress-bar-interrupted, .progress-bar-interrupted::-webkit-progress-bar {\n",
              "        background: #F44336;\n",
              "    }\n",
              "</style>\n"
            ]
          },
          "metadata": {}
        },
        {
          "output_type": "display_data",
          "data": {
            "text/plain": [
              "<IPython.core.display.HTML object>"
            ],
            "text/html": []
          },
          "metadata": {}
        }
      ]
    },
    {
      "cell_type": "code",
      "source": [
        "sb"
      ],
      "metadata": {
        "colab": {
          "base_uri": "https://localhost:8080/",
          "height": 35
        },
        "id": "5-UIls7cDRul",
        "outputId": "483bcab3-31f9-4582-cba1-0a4b6e728ab5"
      },
      "execution_count": 22,
      "outputs": [
        {
          "output_type": "execute_result",
          "data": {
            "text/plain": [
              "\"▁I ' m ▁ 6 0 ▁years ▁old , ▁a ▁g u it ar ist , ▁( le ad / r h y th m ), ▁and ▁over ▁the ▁last ▁for ty ▁years , ▁I ' ve ▁been ▁in ▁f\""
            ],
            "application/vnd.google.colaboratory.intrinsic+json": {
              "type": "string"
            }
          },
          "metadata": {},
          "execution_count": 22
        }
      ]
    },
    {
      "cell_type": "code",
      "source": [
        "subword(200)"
      ],
      "metadata": {
        "colab": {
          "base_uri": "https://localhost:8080/",
          "height": 35
        },
        "id": "CZNC46WnFPMO",
        "outputId": "021f3f49-13a5-4df6-c912-8b1cc3a0d343"
      },
      "execution_count": 23,
      "outputs": [
        {
          "output_type": "display_data",
          "data": {
            "text/plain": [
              "<IPython.core.display.HTML object>"
            ],
            "text/html": [
              "\n",
              "<style>\n",
              "    /* Turns off some styling */\n",
              "    progress {\n",
              "        /* gets rid of default border in Firefox and Opera. */\n",
              "        border: none;\n",
              "        /* Needs to be in here for Safari polyfill so background images work as expected. */\n",
              "        background-size: auto;\n",
              "    }\n",
              "    progress:not([value]), progress:not([value])::-webkit-progress-bar {\n",
              "        background: repeating-linear-gradient(45deg, #7e7e7e, #7e7e7e 10px, #5c5c5c 10px, #5c5c5c 20px);\n",
              "    }\n",
              "    .progress-bar-interrupted, .progress-bar-interrupted::-webkit-progress-bar {\n",
              "        background: #F44336;\n",
              "    }\n",
              "</style>\n"
            ]
          },
          "metadata": {}
        },
        {
          "output_type": "display_data",
          "data": {
            "text/plain": [
              "<IPython.core.display.HTML object>"
            ],
            "text/html": []
          },
          "metadata": {}
        },
        {
          "output_type": "execute_result",
          "data": {
            "text/plain": [
              "\"▁I ' m ▁ 6 0 ▁ y e ar s ▁ ol d , ▁a ▁g u i t ar i s t , ▁ ( le a d / r h y th m ) , ▁and ▁\""
            ],
            "application/vnd.google.colaboratory.intrinsic+json": {
              "type": "string"
            }
          },
          "metadata": {},
          "execution_count": 23
        }
      ]
    },
    {
      "cell_type": "code",
      "source": [
        "subword(10000)"
      ],
      "metadata": {
        "colab": {
          "base_uri": "https://localhost:8080/",
          "height": 52
        },
        "id": "SpCuGkBGFu2P",
        "outputId": "7fbcf0a4-9e6c-45df-8ffe-557e886b1427"
      },
      "execution_count": 24,
      "outputs": [
        {
          "output_type": "display_data",
          "data": {
            "text/plain": [
              "<IPython.core.display.HTML object>"
            ],
            "text/html": [
              "\n",
              "<style>\n",
              "    /* Turns off some styling */\n",
              "    progress {\n",
              "        /* gets rid of default border in Firefox and Opera. */\n",
              "        border: none;\n",
              "        /* Needs to be in here for Safari polyfill so background images work as expected. */\n",
              "        background-size: auto;\n",
              "    }\n",
              "    progress:not([value]), progress:not([value])::-webkit-progress-bar {\n",
              "        background: repeating-linear-gradient(45deg, #7e7e7e, #7e7e7e 10px, #5c5c5c 10px, #5c5c5c 20px);\n",
              "    }\n",
              "    .progress-bar-interrupted, .progress-bar-interrupted::-webkit-progress-bar {\n",
              "        background: #F44336;\n",
              "    }\n",
              "</style>\n"
            ]
          },
          "metadata": {}
        },
        {
          "output_type": "display_data",
          "data": {
            "text/plain": [
              "<IPython.core.display.HTML object>"
            ],
            "text/html": []
          },
          "metadata": {}
        },
        {
          "output_type": "execute_result",
          "data": {
            "text/plain": [
              "\"▁I ' m ▁60 ▁years ▁old , ▁a ▁ guitar ist , ▁( le ad / r hy th m ), ▁and ▁over ▁the ▁last ▁for ty ▁years , ▁I ' ve ▁been ▁in ▁four ▁bands , ▁it ' s\""
            ],
            "application/vnd.google.colaboratory.intrinsic+json": {
              "type": "string"
            }
          },
          "metadata": {},
          "execution_count": 24
        }
      ]
    },
    {
      "cell_type": "code",
      "source": [
        "toks = tkn(txt)"
      ],
      "metadata": {
        "id": "KAjXlN2dF3KE"
      },
      "execution_count": 25,
      "outputs": []
    },
    {
      "cell_type": "code",
      "source": [
        "toks"
      ],
      "metadata": {
        "colab": {
          "base_uri": "https://localhost:8080/"
        },
        "id": "oJqtsdVXIKy0",
        "outputId": "10040878-d7be-4eff-ea1a-8790b40ba99b"
      },
      "execution_count": 26,
      "outputs": [
        {
          "output_type": "execute_result",
          "data": {
            "text/plain": [
              "(#184) ['xxbos','xxmaj','i',\"'m\",'60','years','old',',','a','guitarist',',','(','lead','/','rhythm',')',',','and','over','the'...]"
            ]
          },
          "metadata": {},
          "execution_count": 26
        }
      ]
    },
    {
      "cell_type": "code",
      "source": [
        "print(coll_repr(tkn(txt),31))"
      ],
      "metadata": {
        "colab": {
          "base_uri": "https://localhost:8080/"
        },
        "id": "VVF01cq6ILan",
        "outputId": "1c45d25b-37aa-46a3-a6fd-2073b6b15c4c"
      },
      "execution_count": 27,
      "outputs": [
        {
          "output_type": "stream",
          "name": "stdout",
          "text": [
            "(#184) ['xxbos','xxmaj','i',\"'m\",'60','years','old',',','a','guitarist',',','(','lead','/','rhythm',')',',','and','over','the','last','forty','years',',','xxmaj','i',\"'ve\",'been','in','four','bands'...]\n"
          ]
        }
      ]
    },
    {
      "cell_type": "code",
      "source": [
        "# ??map"
      ],
      "metadata": {
        "id": "X1IY8VMtZw4A"
      },
      "execution_count": 29,
      "outputs": []
    },
    {
      "cell_type": "code",
      "source": [
        "toks200 = txts[:200].map(tkn)\n",
        "toks200[0]"
      ],
      "metadata": {
        "colab": {
          "base_uri": "https://localhost:8080/"
        },
        "id": "GtUPxMbrIdKZ",
        "outputId": "8b7fa06c-dbce-4954-806a-20fef66d3f64"
      },
      "execution_count": 30,
      "outputs": [
        {
          "output_type": "execute_result",
          "data": {
            "text/plain": [
              "(#184) ['xxbos','xxmaj','i',\"'m\",'60','years','old',',','a','guitarist',',','(','lead','/','rhythm',')',',','and','over','the'...]"
            ]
          },
          "metadata": {},
          "execution_count": 30
        }
      ]
    },
    {
      "cell_type": "markdown",
      "source": [
        "you pass the list of tokens available to the Numericalize object during setup. this will create the vocabulary and also the numericals needed for it."
      ],
      "metadata": {
        "id": "mU9xBFbRJ1b9"
      }
    },
    {
      "cell_type": "code",
      "source": [
        "num = Numericalize()\n",
        "num.setup(toks200)\n",
        "coll_repr(num.vocab,20)"
      ],
      "metadata": {
        "colab": {
          "base_uri": "https://localhost:8080/",
          "height": 35
        },
        "id": "_sV6zKuCJ8FJ",
        "outputId": "25df9265-f45a-4994-8120-1cbd82fbd9a2"
      },
      "execution_count": 31,
      "outputs": [
        {
          "output_type": "execute_result",
          "data": {
            "text/plain": [
              "\"(#2288) ['xxunk','xxpad','xxbos','xxeos','xxfld','xxrep','xxwrep','xxup','xxmaj','the',',','.','and','a','of','to','is','in','it','i'...]\""
            ],
            "application/vnd.google.colaboratory.intrinsic+json": {
              "type": "string"
            }
          },
          "metadata": {},
          "execution_count": 31
        }
      ]
    },
    {
      "cell_type": "code",
      "source": [
        "num.max_vocab,num.min_freq"
      ],
      "metadata": {
        "colab": {
          "base_uri": "https://localhost:8080/"
        },
        "id": "Tuj2Me-UaHar",
        "outputId": "21510dd4-c03f-48e3-d03d-1501f74338cb"
      },
      "execution_count": 32,
      "outputs": [
        {
          "output_type": "execute_result",
          "data": {
            "text/plain": [
              "(60000, 3)"
            ]
          },
          "metadata": {},
          "execution_count": 32
        }
      ]
    },
    {
      "cell_type": "code",
      "source": [
        "nums = num(toks)[:20]; nums"
      ],
      "metadata": {
        "colab": {
          "base_uri": "https://localhost:8080/"
        },
        "id": "5LvKFdu3K706",
        "outputId": "73792bb8-142e-43a7-9a2c-5094009fe7ac"
      },
      "execution_count": 33,
      "outputs": [
        {
          "output_type": "execute_result",
          "data": {
            "text/plain": [
              "TensorText([  2,   8,  19, 193, 949, 165, 170,  10,  13,   0,  10,  39, 585,\n",
              "            103,   0,  36,  10,  12, 143,   9])"
            ]
          },
          "metadata": {},
          "execution_count": 33
        }
      ]
    },
    {
      "cell_type": "code",
      "source": [
        "' '.join([num.vocab[o]  for o in nums])"
      ],
      "metadata": {
        "colab": {
          "base_uri": "https://localhost:8080/",
          "height": 35
        },
        "id": "pNY6H9Q-O5pn",
        "outputId": "963e5ec6-75bb-4437-f664-694198e7b1d1"
      },
      "execution_count": 34,
      "outputs": [
        {
          "output_type": "execute_result",
          "data": {
            "text/plain": [
              "\"xxbos xxmaj i 'm 60 years old , a xxunk , ( lead / xxunk ) , and over the\""
            ],
            "application/vnd.google.colaboratory.intrinsic+json": {
              "type": "string"
            }
          },
          "metadata": {},
          "execution_count": 34
        }
      ]
    },
    {
      "cell_type": "markdown",
      "source": [
        "# Dataloaders"
      ],
      "metadata": {
        "id": "wpB0u3s1Y3O5"
      }
    },
    {
      "cell_type": "code",
      "source": [
        "len(txts)"
      ],
      "metadata": {
        "colab": {
          "base_uri": "https://localhost:8080/"
        },
        "id": "FsQ2lsxTY-LG",
        "outputId": "a847dc65-783d-4fbf-df50-d6b61a165994"
      },
      "execution_count": 35,
      "outputs": [
        {
          "output_type": "execute_result",
          "data": {
            "text/plain": [
              "2000"
            ]
          },
          "metadata": {},
          "execution_count": 35
        }
      ]
    },
    {
      "cell_type": "code",
      "source": [
        "toks200[0]"
      ],
      "metadata": {
        "colab": {
          "base_uri": "https://localhost:8080/"
        },
        "id": "_t8cF6vZZGWx",
        "outputId": "dec5b5e4-3ed1-468f-956c-d0d3047bab82"
      },
      "execution_count": 36,
      "outputs": [
        {
          "output_type": "execute_result",
          "data": {
            "text/plain": [
              "(#184) ['xxbos','xxmaj','i',\"'m\",'60','years','old',',','a','guitarist',',','(','lead','/','rhythm',')',',','and','over','the'...]"
            ]
          },
          "metadata": {},
          "execution_count": 36
        }
      ]
    },
    {
      "cell_type": "code",
      "source": [
        "nums200 = toks200.map(num)"
      ],
      "metadata": {
        "id": "LCDBERMvZQO2"
      },
      "execution_count": 37,
      "outputs": []
    },
    {
      "cell_type": "code",
      "source": [
        "nums200[0]"
      ],
      "metadata": {
        "colab": {
          "base_uri": "https://localhost:8080/"
        },
        "id": "rscuWXJaahnu",
        "outputId": "a8ad8c37-b442-4d74-868a-96107b6873bc"
      },
      "execution_count": 38,
      "outputs": [
        {
          "output_type": "execute_result",
          "data": {
            "text/plain": [
              "TensorText([   2,    8,   19,  193,  949,  165,  170,   10,   13,    0,   10,\n",
              "              39,  585,  103,    0,   36,   10,   12,  143,    9,  230,    0,\n",
              "             165,   10,    8,   19,  152,  115,   17,  633,  586,   10,   18,\n",
              "              23,   45,   55,   10,    9, 1680,   10,    9,    0,   25,    0,\n",
              "              10,    9,    0, 1351,   10,    9, 1352,    0,   10,  242,    0,\n",
              "              10,  155,   70,  126,  587,   10,   12,  283,   42,   26,    0,\n",
              "              70,  526,   11,    8,   31,   10,    9,    0,   10,    9,  426,\n",
              "              10,   12,    9,  243,   10,  112,   18,   45,  362,   18,   51,\n",
              "               8,   68,   54,    8,  634,    8,    0,   51,    8,   19,  193,\n",
              "              88,    0,  170,   30,   18,  167,   10,   12,    9,    0,   17,\n",
              "               9,  950,   12,    0,  588,  126,   56,    0,   10,   31,   30,\n",
              "               9, 1128,   14,   20,  527,   10,   18,   45,  292,  132,   10,\n",
              "              12,   18,   26,   45,   55,   51,    8,    9,    0,   10,    9,\n",
              "               0,   10,   12,    9,    0,   51,    8,   12,   19,   26,  171,\n",
              "             172,   51,    8,   18,   23,   68,   54,    8,  805,    8,    0,\n",
              "              23,  951,  143,   10,    8,  952,  806,   20,    0,   23,  487,\n",
              "              51,    8,  180,    8,   34,    8, 1129,   51])"
            ]
          },
          "metadata": {},
          "execution_count": 38
        }
      ]
    },
    {
      "cell_type": "code",
      "source": [
        "dl = LMDataLoader(nums200)"
      ],
      "metadata": {
        "id": "9cRBzUXLaizh"
      },
      "execution_count": 39,
      "outputs": []
    },
    {
      "cell_type": "code",
      "source": [
        "x,y = first(dl)\n",
        "x.shape, y.shape"
      ],
      "metadata": {
        "colab": {
          "base_uri": "https://localhost:8080/"
        },
        "id": "7-L6jGNQartM",
        "outputId": "bf76dc96-e077-463e-a1cf-30bcbd7ba43b"
      },
      "execution_count": 40,
      "outputs": [
        {
          "output_type": "execute_result",
          "data": {
            "text/plain": [
              "(torch.Size([64, 72]), torch.Size([64, 72]))"
            ]
          },
          "metadata": {},
          "execution_count": 40
        }
      ]
    },
    {
      "cell_type": "markdown",
      "source": [
        "**Exploring the dataloaders**"
      ],
      "metadata": {
        "id": "X-Ha9Efq9II3"
      }
    },
    {
      "cell_type": "code",
      "source": [
        "' '.join([num.vocab[o] for o in x[0]])"
      ],
      "metadata": {
        "colab": {
          "base_uri": "https://localhost:8080/",
          "height": 52
        },
        "id": "7tHRTovNayjL",
        "outputId": "01ce2f14-1163-4ca2-db8c-3590c5fcc2f4"
      },
      "execution_count": 41,
      "outputs": [
        {
          "output_type": "execute_result",
          "data": {
            "text/plain": [
              "\"xxbos xxmaj i 'm 60 years old , a xxunk , ( lead / xxunk ) , and over the last xxunk years , xxmaj i 've been in four bands , it 's all there , the fights , the xxunk - xxunk , the xxunk food , the worse xxunk , always xxunk , little or no money , and every one was xxunk or high . xxmaj but ,\""
            ],
            "application/vnd.google.colaboratory.intrinsic+json": {
              "type": "string"
            }
          },
          "metadata": {},
          "execution_count": 41
        }
      ]
    },
    {
      "cell_type": "code",
      "source": [
        "' '.join([num.vocab[o] for o in y[0]])"
      ],
      "metadata": {
        "colab": {
          "base_uri": "https://localhost:8080/",
          "height": 52
        },
        "id": "EWzveVOMbPUe",
        "outputId": "3970c226-71a6-4661-c38e-02f586ca62d4"
      },
      "execution_count": 42,
      "outputs": [
        {
          "output_type": "execute_result",
          "data": {
            "text/plain": [
              "\"xxmaj i 'm 60 years old , a xxunk , ( lead / xxunk ) , and over the last xxunk years , xxmaj i 've been in four bands , it 's all there , the fights , the xxunk - xxunk , the xxunk food , the worse xxunk , always xxunk , little or no money , and every one was xxunk or high . xxmaj but , the\""
            ],
            "application/vnd.google.colaboratory.intrinsic+json": {
              "type": "string"
            }
          },
          "metadata": {},
          "execution_count": 42
        }
      ]
    },
    {
      "cell_type": "code",
      "source": [
        "' '.join([num.vocab[o] for o in x[1]])"
      ],
      "metadata": {
        "colab": {
          "base_uri": "https://localhost:8080/",
          "height": 70
        },
        "id": "AhesIAKDbUuh",
        "outputId": "122829c6-7097-4432-c0d2-588b89e2932d"
      },
      "execution_count": 43,
      "outputs": [
        {
          "output_type": "execute_result",
          "data": {
            "text/plain": [
              "\"play , and xxmaj bake xxunk begins to entertain them with some dancing , which ultimately helps xxunk the mood of the film , as well as bring happiness to the xxunk . \\n\\n xxmaj after xxunk to the couple 's xxunk stories , xxmaj sherry is trying to xxunk to xxmaj bake that she does not need his help with xxunk a job . xxmaj unfortunately xxmaj bake is unaware that\""
            ],
            "application/vnd.google.colaboratory.intrinsic+json": {
              "type": "string"
            }
          },
          "metadata": {},
          "execution_count": 43
        }
      ]
    },
    {
      "cell_type": "code",
      "source": [
        "' '.join([num.vocab[o] for o in y[1]])"
      ],
      "metadata": {
        "colab": {
          "base_uri": "https://localhost:8080/",
          "height": 70
        },
        "id": "47HJlrgJbXqW",
        "outputId": "6d841f2d-04c1-4ceb-d18b-aa2789c0d683"
      },
      "execution_count": 44,
      "outputs": [
        {
          "output_type": "execute_result",
          "data": {
            "text/plain": [
              "\", and xxmaj bake xxunk begins to entertain them with some dancing , which ultimately helps xxunk the mood of the film , as well as bring happiness to the xxunk . \\n\\n xxmaj after xxunk to the couple 's xxunk stories , xxmaj sherry is trying to xxunk to xxmaj bake that she does not need his help with xxunk a job . xxmaj unfortunately xxmaj bake is unaware that she\""
            ],
            "application/vnd.google.colaboratory.intrinsic+json": {
              "type": "string"
            }
          },
          "metadata": {},
          "execution_count": 44
        }
      ]
    },
    {
      "cell_type": "code",
      "source": [
        "dls = iter(dl)"
      ],
      "metadata": {
        "id": "A8UR7AALcR5u"
      },
      "execution_count": 45,
      "outputs": []
    },
    {
      "cell_type": "code",
      "source": [
        "x2,y2 = next(dls)\n",
        "x2.shape, y2.shape"
      ],
      "metadata": {
        "colab": {
          "base_uri": "https://localhost:8080/"
        },
        "id": "d6vITeyxa2V7",
        "outputId": "596728bc-e98f-46f5-f271-90d7b3fbaca8"
      },
      "execution_count": 46,
      "outputs": [
        {
          "output_type": "execute_result",
          "data": {
            "text/plain": [
              "(torch.Size([64, 72]), torch.Size([64, 72]))"
            ]
          },
          "metadata": {},
          "execution_count": 46
        }
      ]
    },
    {
      "cell_type": "code",
      "source": [
        "' '.join([num.vocab[o] for o in x2[0]])"
      ],
      "metadata": {
        "colab": {
          "base_uri": "https://localhost:8080/",
          "height": 52
        },
        "id": "pRGn-0Labz2-",
        "outputId": "aae7ee66-07f9-4ff8-d54f-0e8447c3ab97"
      },
      "execution_count": 47,
      "outputs": [
        {
          "output_type": "execute_result",
          "data": {
            "text/plain": [
              "\"xxbos xxmaj i 'm 60 years old , a xxunk , ( lead / xxunk ) , and over the last xxunk years , xxmaj i 've been in four bands , it 's all there , the fights , the xxunk - xxunk , the xxunk food , the worse xxunk , always xxunk , little or no money , and every one was xxunk or high . xxmaj but ,\""
            ],
            "application/vnd.google.colaboratory.intrinsic+json": {
              "type": "string"
            }
          },
          "metadata": {},
          "execution_count": 47
        }
      ]
    },
    {
      "cell_type": "code",
      "source": [
        "x3,y3 = next(dls)\n",
        "x3.shape, y3.shape"
      ],
      "metadata": {
        "colab": {
          "base_uri": "https://localhost:8080/"
        },
        "id": "cjRoGD4nccUV",
        "outputId": "25c6ff6a-a0dc-4063-c9f6-7f6552c0722c"
      },
      "execution_count": 48,
      "outputs": [
        {
          "output_type": "execute_result",
          "data": {
            "text/plain": [
              "(torch.Size([64, 72]), torch.Size([64, 72]))"
            ]
          },
          "metadata": {},
          "execution_count": 48
        }
      ]
    },
    {
      "cell_type": "code",
      "source": [],
      "metadata": {
        "id": "_f-p1wondLLh"
      },
      "execution_count": 48,
      "outputs": []
    },
    {
      "cell_type": "code",
      "source": [
        "' '.join([num.vocab[o] for o in x3[0]])"
      ],
      "metadata": {
        "colab": {
          "base_uri": "https://localhost:8080/",
          "height": 70
        },
        "id": "OGbH7PdQcaIW",
        "outputId": "d33d973a-934e-44eb-c6b9-d87b0a4ea233"
      },
      "execution_count": 49,
      "outputs": [
        {
          "output_type": "execute_result",
          "data": {
            "text/plain": [
              "\"the xxunk , the fans , and the music , made it all worth it ! xxmaj just like xxmaj strange xxmaj xxunk ! xxmaj i 'm too xxunk old for it now , and the xxunk in the hands and xxunk mean no more xxunk , but for the length of that video , it all came back , and it was all there ! xxmaj the xxunk , the xxunk\""
            ],
            "application/vnd.google.colaboratory.intrinsic+json": {
              "type": "string"
            }
          },
          "metadata": {},
          "execution_count": 49
        }
      ]
    },
    {
      "cell_type": "code",
      "source": [
        "dl_list = list(dl)\n",
        "x_last, y_last = dl_list[-1]"
      ],
      "metadata": {
        "id": "QPbV7yuYcjHG"
      },
      "execution_count": 50,
      "outputs": []
    },
    {
      "cell_type": "code",
      "source": [
        "x_last.shape, y_last.shape"
      ],
      "metadata": {
        "colab": {
          "base_uri": "https://localhost:8080/"
        },
        "id": "Wz6w5iv_dSHh",
        "outputId": "9ada4cfd-2e83-4912-c807-f9350a13c457"
      },
      "execution_count": 51,
      "outputs": [
        {
          "output_type": "execute_result",
          "data": {
            "text/plain": [
              "(torch.Size([64, 31]), torch.Size([64, 31]))"
            ]
          },
          "metadata": {},
          "execution_count": 51
        }
      ]
    },
    {
      "cell_type": "code",
      "source": [
        "' '.join([num.vocab[o] for o in x_last[0]])"
      ],
      "metadata": {
        "colab": {
          "base_uri": "https://localhost:8080/",
          "height": 52
        },
        "id": "DhhSn3TRdabQ",
        "outputId": "40281a9f-33d0-4b9f-bad5-a437ca4c13ee"
      },
      "execution_count": 52,
      "outputs": [
        {
          "output_type": "execute_result",
          "data": {
            "text/plain": [
              "'playing coming from xxmaj bake and his xxunk when they missed the xxunk to xxunk on xxunk for the company . xxmaj the ladies are intrigued and ask to hear them'"
            ],
            "application/vnd.google.colaboratory.intrinsic+json": {
              "type": "string"
            }
          },
          "metadata": {},
          "execution_count": 52
        }
      ]
    },
    {
      "cell_type": "code",
      "source": [
        "x_lastb, y_lastb = dl_list[-2]"
      ],
      "metadata": {
        "id": "AHszOLT2di2a"
      },
      "execution_count": 53,
      "outputs": []
    },
    {
      "cell_type": "code",
      "source": [
        "x_lastb.shape,y_lastb.shape"
      ],
      "metadata": {
        "colab": {
          "base_uri": "https://localhost:8080/"
        },
        "id": "_8EbqT4_eJC6",
        "outputId": "3ba749e4-fd24-4700-e90a-bdf27deee100"
      },
      "execution_count": 54,
      "outputs": [
        {
          "output_type": "execute_result",
          "data": {
            "text/plain": [
              "(torch.Size([64, 72]), torch.Size([64, 72]))"
            ]
          },
          "metadata": {},
          "execution_count": 54
        }
      ]
    },
    {
      "cell_type": "code",
      "source": [
        "' '.join([num.vocab[o] for o in x_lastb[0]])"
      ],
      "metadata": {
        "colab": {
          "base_uri": "https://localhost:8080/",
          "height": 70
        },
        "id": "vkpTy9laeMXK",
        "outputId": "fe9e3581-52a3-4e8e-fa52-210494c11d41"
      },
      "execution_count": 55,
      "outputs": [
        {
          "output_type": "execute_result",
          "data": {
            "text/plain": [
              "'changed as another xxunk is xxunk into the film when a \" party of big shots \" is taking a tour of the ship . xxmaj this xxunk storyline is used to create a xxunk between the stories of the two main relationships of the film , as well as help xxunk xxunk and xxunk of xxmaj bake \\'s overall good xxunk . xxmaj the party is xxunk by the xxunk music'"
            ],
            "application/vnd.google.colaboratory.intrinsic+json": {
              "type": "string"
            }
          },
          "metadata": {},
          "execution_count": 55
        }
      ]
    },
    {
      "cell_type": "markdown",
      "source": [
        "# ULMFit Approach"
      ],
      "metadata": {
        "id": "rS2T1PpymJnx"
      }
    },
    {
      "cell_type": "markdown",
      "source": [
        "# Training a fine-tuned model on IMDB dataset"
      ],
      "metadata": {
        "id": "EvtPNVJuecwD"
      }
    },
    {
      "cell_type": "code",
      "source": [
        "get_imdb = partial(get_text_files, folders=['train','test','unsup'])\n",
        "dls_lm = DataBlock(\n",
        "    blocks=TextBlock.from_folder(path=path,is_lm=True),\n",
        "    get_items=get_imdb,\n",
        "    splitter= RandomSplitter(0.1)\n",
        ").dataloaders(source=path,path=path,bs=64,seq_len=80)"
      ],
      "metadata": {
        "id": "_-lnp0rDeQYx"
      },
      "execution_count": 81,
      "outputs": []
    },
    {
      "cell_type": "code",
      "source": [
        "dls_lm.show_batch(max_n=2)"
      ],
      "metadata": {
        "colab": {
          "base_uri": "https://localhost:8080/",
          "height": 251
        },
        "id": "p-bRF4Dik760",
        "outputId": "c7eaf988-ccb4-451c-c122-cb651353f309"
      },
      "execution_count": 82,
      "outputs": [
        {
          "output_type": "display_data",
          "data": {
            "text/plain": [
              "<IPython.core.display.HTML object>"
            ],
            "text/html": [
              "<table border=\"1\" class=\"dataframe\">\n",
              "  <thead>\n",
              "    <tr style=\"text-align: right;\">\n",
              "      <th></th>\n",
              "      <th>text</th>\n",
              "      <th>text_</th>\n",
              "    </tr>\n",
              "  </thead>\n",
              "  <tbody>\n",
              "    <tr>\n",
              "      <th>0</th>\n",
              "      <td>xxbos xxmaj if you want to checkout a good xxmaj jason xxmaj scott xxmaj lee film , i recommend the following : \\n\\n xxmaj dragon : xxmaj the xxmaj bruce xxmaj lee xxmaj story \\n\\n xxmaj xxunk xxmaj nui \\n\\n \" timecop 2 : xxmaj the xxmaj berlin xxmaj decision \" is an awful film . xxmaj awful production values . xxmaj awful acting . xxmaj awful script . i would not recommend this film to be watched by anyone</td>\n",
              "      <td>xxmaj if you want to checkout a good xxmaj jason xxmaj scott xxmaj lee film , i recommend the following : \\n\\n xxmaj dragon : xxmaj the xxmaj bruce xxmaj lee xxmaj story \\n\\n xxmaj xxunk xxmaj nui \\n\\n \" timecop 2 : xxmaj the xxmaj berlin xxmaj decision \" is an awful film . xxmaj awful production values . xxmaj awful acting . xxmaj awful script . i would not recommend this film to be watched by anyone who</td>\n",
              "    </tr>\n",
              "    <tr>\n",
              "      <th>1</th>\n",
              "      <td>kill him . xxmaj chills . i also love the frogs falling from the sky scene and i love xxmaj scully 's need to explain it somehow and showing up to tell xxmaj mulder about the tornadoes that could have picked them up and dropped them down on top of them . i love the pig coming alive and the girl totally freaking out and screaming bloody murder . xxmaj that must have been an interesting class to be in</td>\n",
              "      <td>him . xxmaj chills . i also love the frogs falling from the sky scene and i love xxmaj scully 's need to explain it somehow and showing up to tell xxmaj mulder about the tornadoes that could have picked them up and dropped them down on top of them . i love the pig coming alive and the girl totally freaking out and screaming bloody murder . xxmaj that must have been an interesting class to be in you</td>\n",
              "    </tr>\n",
              "  </tbody>\n",
              "</table>"
            ]
          },
          "metadata": {}
        }
      ]
    },
    {
      "cell_type": "code",
      "source": [
        "learn = language_model_learner(\n",
        "    dls_lm,AWD_LSTM,drop_mult=0.3,\n",
        "    metrics=[accuracy,Perplexity()]\n",
        ").to_fp16()"
      ],
      "metadata": {
        "colab": {
          "base_uri": "https://localhost:8080/",
          "height": 37
        },
        "id": "-8As6lqjnAHc",
        "outputId": "2a472f5c-d4d2-4cfc-88da-109895880e7e"
      },
      "execution_count": 58,
      "outputs": [
        {
          "output_type": "display_data",
          "data": {
            "text/plain": [
              "<IPython.core.display.HTML object>"
            ],
            "text/html": [
              "\n",
              "<style>\n",
              "    /* Turns off some styling */\n",
              "    progress {\n",
              "        /* gets rid of default border in Firefox and Opera. */\n",
              "        border: none;\n",
              "        /* Needs to be in here for Safari polyfill so background images work as expected. */\n",
              "        background-size: auto;\n",
              "    }\n",
              "    progress:not([value]), progress:not([value])::-webkit-progress-bar {\n",
              "        background: repeating-linear-gradient(45deg, #7e7e7e, #7e7e7e 10px, #5c5c5c 10px, #5c5c5c 20px);\n",
              "    }\n",
              "    .progress-bar-interrupted, .progress-bar-interrupted::-webkit-progress-bar {\n",
              "        background: #F44336;\n",
              "    }\n",
              "</style>\n"
            ]
          },
          "metadata": {}
        },
        {
          "output_type": "display_data",
          "data": {
            "text/plain": [
              "<IPython.core.display.HTML object>"
            ],
            "text/html": [
              "\n",
              "    <div>\n",
              "      <progress value='105070592' class='' max='105067061' style='width:300px; height:20px; vertical-align: middle;'></progress>\n",
              "      100.00% [105070592/105067061 00:02&lt;00:00]\n",
              "    </div>\n",
              "    "
            ]
          },
          "metadata": {}
        }
      ]
    },
    {
      "cell_type": "code",
      "source": [
        "learn.fit_one_cycle(1,2e-2)"
      ],
      "metadata": {
        "colab": {
          "base_uri": "https://localhost:8080/",
          "height": 170
        },
        "id": "dIsZ55P3nWjp",
        "outputId": "67dd084a-2904-491c-cc07-9988966a287b"
      },
      "execution_count": 59,
      "outputs": [
        {
          "output_type": "stream",
          "name": "stderr",
          "text": [
            "/usr/local/lib/python3.11/dist-packages/fastai/callback/fp16.py:47: FutureWarning: `torch.cuda.amp.autocast(args...)` is deprecated. Please use `torch.amp.autocast('cuda', args...)` instead.\n",
            "  self.autocast,self.learn.scaler,self.scales = autocast(dtype=dtype),GradScaler(**self.kwargs),L()\n",
            "/usr/local/lib/python3.11/dist-packages/fastai/callback/fp16.py:47: FutureWarning: `torch.cuda.amp.GradScaler(args...)` is deprecated. Please use `torch.amp.GradScaler('cuda', args...)` instead.\n",
            "  self.autocast,self.learn.scaler,self.scales = autocast(dtype=dtype),GradScaler(**self.kwargs),L()\n"
          ]
        },
        {
          "output_type": "display_data",
          "data": {
            "text/plain": [
              "<IPython.core.display.HTML object>"
            ],
            "text/html": [
              "\n",
              "<style>\n",
              "    /* Turns off some styling */\n",
              "    progress {\n",
              "        /* gets rid of default border in Firefox and Opera. */\n",
              "        border: none;\n",
              "        /* Needs to be in here for Safari polyfill so background images work as expected. */\n",
              "        background-size: auto;\n",
              "    }\n",
              "    progress:not([value]), progress:not([value])::-webkit-progress-bar {\n",
              "        background: repeating-linear-gradient(45deg, #7e7e7e, #7e7e7e 10px, #5c5c5c 10px, #5c5c5c 20px);\n",
              "    }\n",
              "    .progress-bar-interrupted, .progress-bar-interrupted::-webkit-progress-bar {\n",
              "        background: #F44336;\n",
              "    }\n",
              "</style>\n"
            ]
          },
          "metadata": {}
        },
        {
          "output_type": "display_data",
          "data": {
            "text/plain": [
              "<IPython.core.display.HTML object>"
            ],
            "text/html": [
              "<table border=\"1\" class=\"dataframe\">\n",
              "  <thead>\n",
              "    <tr style=\"text-align: left;\">\n",
              "      <th>epoch</th>\n",
              "      <th>train_loss</th>\n",
              "      <th>valid_loss</th>\n",
              "      <th>accuracy</th>\n",
              "      <th>perplexity</th>\n",
              "      <th>time</th>\n",
              "    </tr>\n",
              "  </thead>\n",
              "  <tbody>\n",
              "    <tr>\n",
              "      <td>0</td>\n",
              "      <td>3.994165</td>\n",
              "      <td>3.904962</td>\n",
              "      <td>0.300679</td>\n",
              "      <td>49.648209</td>\n",
              "      <td>20:25</td>\n",
              "    </tr>\n",
              "  </tbody>\n",
              "</table>"
            ]
          },
          "metadata": {}
        }
      ]
    },
    {
      "cell_type": "code",
      "source": [
        "learn.save('1epoch')"
      ],
      "metadata": {
        "colab": {
          "base_uri": "https://localhost:8080/"
        },
        "id": "-DGMsCDinkVZ",
        "outputId": "0b09dd67-531c-423e-884b-018f2ba97326"
      },
      "execution_count": 60,
      "outputs": [
        {
          "output_type": "execute_result",
          "data": {
            "text/plain": [
              "Path('/root/.fastai/data/imdb/models/1epoch.pth')"
            ]
          },
          "metadata": {},
          "execution_count": 60
        }
      ]
    },
    {
      "cell_type": "code",
      "source": [
        "!ls /root/.fastai/data/imdb/models/\n"
      ],
      "metadata": {
        "colab": {
          "base_uri": "https://localhost:8080/"
        },
        "id": "cLaPgAMNEse8",
        "outputId": "8e2b162f-4411-4350-fbd1-6fa91155e3e2"
      },
      "execution_count": 61,
      "outputs": [
        {
          "output_type": "stream",
          "name": "stdout",
          "text": [
            "1epoch.pth\n"
          ]
        }
      ]
    },
    {
      "cell_type": "code",
      "source": [
        "!cp /root/.fastai/data/imdb/models/1epoch.pth /content/\n"
      ],
      "metadata": {
        "id": "94fUfYkZE8aS"
      },
      "execution_count": 62,
      "outputs": []
    },
    {
      "cell_type": "markdown",
      "source": [
        "learn.load() was not working to load the model. after PyTorch > 2.6, the pytorch changed the weights_only parameter to True as a default for security reasons. we have to make it false to get the parameters. and this cannot be done using fastai. so have to load it using torch.load(path, weights_only=False). the path has to be full path to the model saved. and the result is a dict not the model_state alone. and to load the model we have reinstantiate the model with dataloaders and architectures. and the model state can be loaded with learn2.model.load_state_dict(state=model_state)"
      ],
      "metadata": {
        "id": "9xqLvubtKdtb"
      }
    },
    {
      "cell_type": "code",
      "source": [],
      "metadata": {
        "id": "edEqR-srKbEs"
      },
      "execution_count": null,
      "outputs": []
    },
    {
      "cell_type": "code",
      "source": [
        "# learn = torch.load('1epoch', weights_only=True)"
      ],
      "metadata": {
        "id": "VP7xY_eUubO8"
      },
      "execution_count": null,
      "outputs": []
    },
    {
      "cell_type": "code",
      "source": [
        "# learn =learn.load('1epoch')"
      ],
      "metadata": {
        "id": "DDtVXEM7tq-G"
      },
      "execution_count": null,
      "outputs": []
    },
    {
      "cell_type": "code",
      "source": [
        "from google.colab import drive\n",
        "drive.mount('/content/drive')\n",
        "\n",
        "!cp /root/.fastai/data/imdb/models/1epoch.pth /content/drive/MyDrive/fastai/\n"
      ],
      "metadata": {
        "colab": {
          "base_uri": "https://localhost:8080/"
        },
        "id": "IAHMovZLFDv_",
        "outputId": "88564104-3f31-4b3f-da46-64cb8675673c"
      },
      "execution_count": 68,
      "outputs": [
        {
          "output_type": "stream",
          "name": "stdout",
          "text": [
            "Mounted at /content/drive\n"
          ]
        }
      ]
    },
    {
      "cell_type": "code",
      "source": [
        "learn2 = language_model_learner(\n",
        "    dls_lm, AWD_LSTM, drop_mult=0.3,\n",
        "    metrics = [accuracy, Perplexity()]\n",
        ").to_fp16()"
      ],
      "metadata": {
        "id": "K7xPp30UH6fV"
      },
      "execution_count": 83,
      "outputs": []
    },
    {
      "cell_type": "code",
      "source": [
        "import torch\n",
        "checkpoint =torch.load('/root/.fastai/data/imdb/models/1epoch.pth', weights_only=False)\n",
        "model_state = checkpoint['model']\n",
        "learn2.model.load_state_dict(model_state)\n"
      ],
      "metadata": {
        "colab": {
          "base_uri": "https://localhost:8080/"
        },
        "id": "tXDleNQvGSz-",
        "outputId": "fb0bc17b-f977-48c2-b132-6d50c802220d"
      },
      "execution_count": 84,
      "outputs": [
        {
          "output_type": "execute_result",
          "data": {
            "text/plain": [
              "<All keys matched successfully>"
            ]
          },
          "metadata": {},
          "execution_count": 84
        }
      ]
    },
    {
      "cell_type": "code",
      "source": [
        "total_params = sum(p.numel() for p in learn2.parameters())\n",
        "total_params"
      ],
      "metadata": {
        "colab": {
          "base_uri": "https://localhost:8080/"
        },
        "id": "DfpP1WoSR-gT",
        "outputId": "5544d5ba-8a89-44ca-8e79-41a21bb6b398"
      },
      "execution_count": 85,
      "outputs": [
        {
          "output_type": "execute_result",
          "data": {
            "text/plain": [
              "44336488"
            ]
          },
          "metadata": {},
          "execution_count": 85
        }
      ]
    },
    {
      "cell_type": "code",
      "source": [
        "model = learn2\n",
        "param_size = 0\n",
        "for param in model.parameters():\n",
        "    param_size += param.nelement() * param.element_size()\n",
        "buffer_size = 0\n",
        "for buffer in model.buffers():\n",
        "    buffer_size += buffer.nelement() * buffer.element_size()\n",
        "size_all_mb = (param_size + buffer_size) / 1024**2\n",
        "print(f\"Approx. model size in memory: {size_all_mb:.2f} MB\")\n"
      ],
      "metadata": {
        "colab": {
          "base_uri": "https://localhost:8080/"
        },
        "id": "_-ZBxVI3SyGD",
        "outputId": "b064d627-f731-4524-8de9-f198d9ee411a"
      },
      "execution_count": 80,
      "outputs": [
        {
          "output_type": "stream",
          "name": "stdout",
          "text": [
            "Approx. model size in memory: 169.13 MB\n"
          ]
        }
      ]
    },
    {
      "cell_type": "code",
      "source": [
        "learn2.unfreeze()\n",
        "learn2.fit_one_cycle(2,2e-3)"
      ],
      "metadata": {
        "colab": {
          "base_uri": "https://localhost:8080/",
          "height": 158
        },
        "id": "_xW5XzG3tvBQ",
        "outputId": "07418c65-bc2f-4153-9b41-531ae2701635"
      },
      "execution_count": 1,
      "outputs": [
        {
          "output_type": "error",
          "ename": "NameError",
          "evalue": "name 'learn2' is not defined",
          "traceback": [
            "\u001b[0;31m---------------------------------------------------------------------------\u001b[0m",
            "\u001b[0;31mNameError\u001b[0m                                 Traceback (most recent call last)",
            "\u001b[0;32m/tmp/ipython-input-1-4082523403.py\u001b[0m in \u001b[0;36m<cell line: 0>\u001b[0;34m()\u001b[0m\n\u001b[0;32m----> 1\u001b[0;31m \u001b[0mlearn2\u001b[0m\u001b[0;34m.\u001b[0m\u001b[0munfreeze\u001b[0m\u001b[0;34m(\u001b[0m\u001b[0;34m)\u001b[0m\u001b[0;34m\u001b[0m\u001b[0;34m\u001b[0m\u001b[0m\n\u001b[0m\u001b[1;32m      2\u001b[0m \u001b[0mlearn2\u001b[0m\u001b[0;34m.\u001b[0m\u001b[0mfit_one_cycle\u001b[0m\u001b[0;34m(\u001b[0m\u001b[0;36m2\u001b[0m\u001b[0;34m,\u001b[0m\u001b[0;36m2e-3\u001b[0m\u001b[0;34m)\u001b[0m\u001b[0;34m\u001b[0m\u001b[0;34m\u001b[0m\u001b[0m\n",
            "\u001b[0;31mNameError\u001b[0m: name 'learn2' is not defined"
          ]
        }
      ]
    },
    {
      "cell_type": "code",
      "source": [],
      "metadata": {
        "id": "45pFnD1_usS_"
      },
      "execution_count": null,
      "outputs": []
    }
  ]
}