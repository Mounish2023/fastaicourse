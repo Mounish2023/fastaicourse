{
  "nbformat": 4,
  "nbformat_minor": 0,
  "metadata": {
    "colab": {
      "provenance": [],
      "authorship_tag": "ABX9TyMUDisz/Z8+iEwpNkSWjB3B",
      "include_colab_link": true
    },
    "kernelspec": {
      "name": "python3",
      "display_name": "Python 3"
    },
    "language_info": {
      "name": "python"
    }
  },
  "cells": [
    {
      "cell_type": "markdown",
      "metadata": {
        "id": "view-in-github",
        "colab_type": "text"
      },
      "source": [
        "<a href=\"https://colab.research.google.com/github/Mounish2023/fastaicourse/blob/main/DigitClassifier.ipynb\" target=\"_parent\"><img src=\"https://colab.research.google.com/assets/colab-badge.svg\" alt=\"Open In Colab\"/></a>"
      ]
    },
    {
      "cell_type": "code",
      "source": [
        "%pip install fastai --quiet"
      ],
      "metadata": {
        "colab": {
          "base_uri": "https://localhost:8080/"
        },
        "id": "HEFJdbeX849E",
        "outputId": "6aaef8fa-f886-4fd5-8f2f-553cc32be3ca"
      },
      "execution_count": null,
      "outputs": [
        {
          "output_type": "stream",
          "name": "stdout",
          "text": [
            "\u001b[2K   \u001b[90m━━━━━━━━━━━━━━━━━━━━━━━━━━━━━━━━━━━━━━━━\u001b[0m \u001b[32m363.4/363.4 MB\u001b[0m \u001b[31m4.3 MB/s\u001b[0m eta \u001b[36m0:00:00\u001b[0m\n",
            "\u001b[2K   \u001b[90m━━━━━━━━━━━━━━━━━━━━━━━━━━━━━━━━━━━━━━━━\u001b[0m \u001b[32m13.8/13.8 MB\u001b[0m \u001b[31m42.7 MB/s\u001b[0m eta \u001b[36m0:00:00\u001b[0m\n",
            "\u001b[2K   \u001b[90m━━━━━━━━━━━━━━━━━━━━━━━━━━━━━━━━━━━━━━━━\u001b[0m \u001b[32m24.6/24.6 MB\u001b[0m \u001b[31m52.1 MB/s\u001b[0m eta \u001b[36m0:00:00\u001b[0m\n",
            "\u001b[2K   \u001b[90m━━━━━━━━━━━━━━━━━━━━━━━━━━━━━━━━━━━━━━━━\u001b[0m \u001b[32m883.7/883.7 kB\u001b[0m \u001b[31m40.7 MB/s\u001b[0m eta \u001b[36m0:00:00\u001b[0m\n",
            "\u001b[2K   \u001b[90m━━━━━━━━━━━━━━━━━━━━━━━━━━━━━━━━━━━━━━━━\u001b[0m \u001b[32m664.8/664.8 MB\u001b[0m \u001b[31m3.0 MB/s\u001b[0m eta \u001b[36m0:00:00\u001b[0m\n",
            "\u001b[2K   \u001b[90m━━━━━━━━━━━━━━━━━━━━━━━━━━━━━━━━━━━━━━━━\u001b[0m \u001b[32m211.5/211.5 MB\u001b[0m \u001b[31m5.6 MB/s\u001b[0m eta \u001b[36m0:00:00\u001b[0m\n",
            "\u001b[2K   \u001b[90m━━━━━━━━━━━━━━━━━━━━━━━━━━━━━━━━━━━━━━━━\u001b[0m \u001b[32m56.3/56.3 MB\u001b[0m \u001b[31m13.2 MB/s\u001b[0m eta \u001b[36m0:00:00\u001b[0m\n",
            "\u001b[2K   \u001b[90m━━━━━━━━━━━━━━━━━━━━━━━━━━━━━━━━━━━━━━━━\u001b[0m \u001b[32m127.9/127.9 MB\u001b[0m \u001b[31m7.9 MB/s\u001b[0m eta \u001b[36m0:00:00\u001b[0m\n",
            "\u001b[2K   \u001b[90m━━━━━━━━━━━━━━━━━━━━━━━━━━━━━━━━━━━━━━━━\u001b[0m \u001b[32m207.5/207.5 MB\u001b[0m \u001b[31m5.9 MB/s\u001b[0m eta \u001b[36m0:00:00\u001b[0m\n",
            "\u001b[2K   \u001b[90m━━━━━━━━━━━━━━━━━━━━━━━━━━━━━━━━━━━━━━━━\u001b[0m \u001b[32m21.1/21.1 MB\u001b[0m \u001b[31m108.2 MB/s\u001b[0m eta \u001b[36m0:00:00\u001b[0m\n",
            "\u001b[?25h"
          ]
        }
      ]
    },
    {
      "cell_type": "code",
      "execution_count": null,
      "metadata": {
        "colab": {
          "base_uri": "https://localhost:8080/",
          "height": 37
        },
        "id": "yDwktE8dfD77",
        "outputId": "b8f81ca9-a106-45df-b198-bf5d6c013af5"
      },
      "outputs": [
        {
          "output_type": "display_data",
          "data": {
            "text/plain": [
              "<IPython.core.display.HTML object>"
            ],
            "text/html": [
              "\n",
              "<style>\n",
              "    /* Turns off some styling */\n",
              "    progress {\n",
              "        /* gets rid of default border in Firefox and Opera. */\n",
              "        border: none;\n",
              "        /* Needs to be in here for Safari polyfill so background images work as expected. */\n",
              "        background-size: auto;\n",
              "    }\n",
              "    progress:not([value]), progress:not([value])::-webkit-progress-bar {\n",
              "        background: repeating-linear-gradient(45deg, #7e7e7e, #7e7e7e 10px, #5c5c5c 10px, #5c5c5c 20px);\n",
              "    }\n",
              "    .progress-bar-interrupted, .progress-bar-interrupted::-webkit-progress-bar {\n",
              "        background: #F44336;\n",
              "    }\n",
              "</style>\n"
            ]
          },
          "metadata": {}
        },
        {
          "output_type": "display_data",
          "data": {
            "text/plain": [
              "<IPython.core.display.HTML object>"
            ],
            "text/html": [
              "\n",
              "    <div>\n",
              "      <progress value='3219456' class='' max='3214948' style='width:300px; height:20px; vertical-align: middle;'></progress>\n",
              "      100.14% [3219456/3214948 00:00&lt;00:00]\n",
              "    </div>\n",
              "    "
            ]
          },
          "metadata": {}
        }
      ],
      "source": [
        "from fastai.data.external import untar_data, URLs\n",
        "\n",
        "path = untar_data(URLs.MNIST_SAMPLE)"
      ]
    },
    {
      "cell_type": "code",
      "source": [
        "path.ls()"
      ],
      "metadata": {
        "colab": {
          "base_uri": "https://localhost:8080/"
        },
        "id": "RvVzWXjC8oel",
        "outputId": "19de7be9-7a2c-4b47-f2dc-3ff5e1bc3c53"
      },
      "execution_count": null,
      "outputs": [
        {
          "output_type": "execute_result",
          "data": {
            "text/plain": [
              "(#3) [Path('/root/.fastai/data/mnist_sample/train'),Path('/root/.fastai/data/mnist_sample/labels.csv'),Path('/root/.fastai/data/mnist_sample/valid')]"
            ]
          },
          "metadata": {},
          "execution_count": 3
        }
      ]
    },
    {
      "cell_type": "code",
      "source": [
        "(path/'/root/.fastai/data/mnist_sample/train').ls()"
      ],
      "metadata": {
        "colab": {
          "base_uri": "https://localhost:8080/"
        },
        "id": "ZVRsDjAJ9sYx",
        "outputId": "afe2e96b-df41-45e6-d282-17d970a4aca4"
      },
      "execution_count": null,
      "outputs": [
        {
          "output_type": "execute_result",
          "data": {
            "text/plain": [
              "(#2) [Path('/root/.fastai/data/mnist_sample/train/7'),Path('/root/.fastai/data/mnist_sample/train/3')]"
            ]
          },
          "metadata": {},
          "execution_count": 4
        }
      ]
    },
    {
      "cell_type": "code",
      "source": [
        "sevens = (path/'/root/.fastai/data/mnist_sample/train/7').ls().sorted()\n",
        "threes = (path/'/root/.fastai/data/mnist_sample/train/3').ls().sorted()\n",
        "threes"
      ],
      "metadata": {
        "colab": {
          "base_uri": "https://localhost:8080/"
        },
        "id": "G9gaEc5x-Wuv",
        "outputId": "9a261732-ed47-4df0-a6b1-ce8708b3ec7a"
      },
      "execution_count": null,
      "outputs": [
        {
          "output_type": "execute_result",
          "data": {
            "text/plain": [
              "(#6131) [Path('/root/.fastai/data/mnist_sample/train/3/10.png'),Path('/root/.fastai/data/mnist_sample/train/3/10000.png'),Path('/root/.fastai/data/mnist_sample/train/3/10011.png'),Path('/root/.fastai/data/mnist_sample/train/3/10031.png'),Path('/root/.fastai/data/mnist_sample/train/3/10034.png'),Path('/root/.fastai/data/mnist_sample/train/3/10042.png'),Path('/root/.fastai/data/mnist_sample/train/3/10052.png'),Path('/root/.fastai/data/mnist_sample/train/3/1007.png'),Path('/root/.fastai/data/mnist_sample/train/3/10074.png'),Path('/root/.fastai/data/mnist_sample/train/3/10091.png'),Path('/root/.fastai/data/mnist_sample/train/3/10093.png'),Path('/root/.fastai/data/mnist_sample/train/3/10097.png'),Path('/root/.fastai/data/mnist_sample/train/3/10099.png'),Path('/root/.fastai/data/mnist_sample/train/3/10116.png'),Path('/root/.fastai/data/mnist_sample/train/3/10125.png'),Path('/root/.fastai/data/mnist_sample/train/3/10137.png'),Path('/root/.fastai/data/mnist_sample/train/3/10141.png'),Path('/root/.fastai/data/mnist_sample/train/3/10144.png'),Path('/root/.fastai/data/mnist_sample/train/3/10155.png'),Path('/root/.fastai/data/mnist_sample/train/3/10161.png')...]"
            ]
          },
          "metadata": {},
          "execution_count": 5
        }
      ]
    },
    {
      "cell_type": "code",
      "source": [
        "from PIL import Image\n",
        "imag_path = threes[1]\n",
        "img = Image.open(imag_path)\n",
        "img"
      ],
      "metadata": {
        "colab": {
          "base_uri": "https://localhost:8080/",
          "height": 45
        },
        "id": "IajxdjgU-wLd",
        "outputId": "f616c8b9-a65a-4b2d-c5b8-efab772d9b10"
      },
      "execution_count": null,
      "outputs": [
        {
          "output_type": "execute_result",
          "data": {
            "text/plain": [
              "<PIL.PngImagePlugin.PngImageFile image mode=L size=28x28>"
            ],
            "image/png": "[encoded data removed]",
            "image/jpeg": "[encoded data removed]"
          },
          "metadata": {},
          "execution_count": 6
        }
      ]
    },
    {
      "cell_type": "code",
      "source": [
        "import numpy as np\n",
        "\n",
        "np.array(img)[4:10, 4:10]"
      ],
      "metadata": {
        "colab": {
          "base_uri": "https://localhost:8080/"
        },
        "id": "bLz3cDhw_T0b",
        "outputId": "eeb8894f-9f4f-498a-99a2-848a68503395"
      },
      "execution_count": null,
      "outputs": [
        {
          "output_type": "execute_result",
          "data": {
            "text/plain": [
              "array([[  0,   0,   0,   0,   0,   0],\n",
              "       [  0,   0,   0,   0,   0,  29],\n",
              "       [  0,   0,   0,  48, 166, 224],\n",
              "       [  0,  93, 244, 249, 253, 187],\n",
              "       [  0, 107, 253, 253, 230,  48],\n",
              "       [  0,   3,  20,  20,  15,   0]], dtype=uint8)"
            ]
          },
          "metadata": {},
          "execution_count": 7
        }
      ]
    },
    {
      "cell_type": "code",
      "source": [
        "from PIL import Image\n",
        "from torchvision.transforms import ToTensor\n",
        "\n",
        "# Load image as grayscale\n",
        "# img = Image.open(imag_path).convert('L')\n",
        "img = Image.open(imag_path)\n",
        "# Convert to float tensor (0–1 range)\n",
        "img_tensor = ToTensor()(img)\n",
        "\n",
        "# Scale to 0–255 and convert to uint8\n",
        "img_tensor = (img_tensor * 255).byte()\n",
        "\n",
        "# Extract the patch\n",
        "patch = img_tensor[0, 4:10, 4:10]  # [channel, height slice, width slice]\n",
        "print(patch)\n"
      ],
      "metadata": {
        "colab": {
          "base_uri": "https://localhost:8080/"
        },
        "id": "bUblNU3q_yYp",
        "outputId": "5fbab5a2-6e78-4e57-c85d-f420782dec7f"
      },
      "execution_count": null,
      "outputs": [
        {
          "output_type": "stream",
          "name": "stdout",
          "text": [
            "tensor([[  0,   0,   0,   0,   0,   0],\n",
            "        [  0,   0,   0,   0,   0,  29],\n",
            "        [  0,   0,   0,  48, 166, 224],\n",
            "        [  0,  93, 244, 249, 253, 187],\n",
            "        [  0, 107, 253, 253, 230,  48],\n",
            "        [  0,   3,  20,  20,  15,   0]], dtype=torch.uint8)\n"
          ]
        }
      ]
    },
    {
      "cell_type": "code",
      "source": [
        "img_tensor.shape"
      ],
      "metadata": {
        "colab": {
          "base_uri": "https://localhost:8080/"
        },
        "id": "0hpwDxwOyHX8",
        "outputId": "cba89ee2-0e05-4c8c-f3ba-aa64eedb575c"
      },
      "execution_count": null,
      "outputs": [
        {
          "output_type": "execute_result",
          "data": {
            "text/plain": [
              "torch.Size([1, 28, 28])"
            ]
          },
          "metadata": {},
          "execution_count": 9
        }
      ]
    },
    {
      "cell_type": "code",
      "source": [
        "import pandas as pd\n",
        "df = pd.DataFrame(img_tensor[0,4:15,4:22])"
      ],
      "metadata": {
        "id": "Yy-8aOC3BktW"
      },
      "execution_count": null,
      "outputs": []
    },
    {
      "cell_type": "code",
      "source": [
        "df.style.set_properties(**{'font-size':'6pt'}).background_gradient('Greys')"
      ],
      "metadata": {
        "colab": {
          "base_uri": "https://localhost:8080/",
          "height": 394
        },
        "id": "X4offTEvD737",
        "outputId": "76ea58e1-f710-4157-cc75-5ae5c2de9c62"
      },
      "execution_count": null,
      "outputs": [
        {
          "output_type": "execute_result",
          "data": {
            "text/plain": [
              "<pandas.io.formats.style.Styler at 0x7ca589a37e10>"
            ],
            "text/html": [
              "<style type=\"text/css\">\n",
              "#T_1ded0_row0_col0, #T_1ded0_row0_col1, #T_1ded0_row0_col2, #T_1ded0_row0_col3, #T_1ded0_row0_col4, #T_1ded0_row0_col5, #T_1ded0_row0_col6, #T_1ded0_row0_col7, #T_1ded0_row0_col8, #T_1ded0_row0_col9, #T_1ded0_row0_col10, #T_1ded0_row0_col11, #T_1ded0_row0_col12, #T_1ded0_row0_col13, #T_1ded0_row0_col14, #T_1ded0_row0_col15, #T_1ded0_row0_col16, #T_1ded0_row0_col17, #T_1ded0_row1_col0, #T_1ded0_row1_col1, #T_1ded0_row1_col2, #T_1ded0_row1_col3, #T_1ded0_row1_col4, #T_1ded0_row1_col15, #T_1ded0_row1_col16, #T_1ded0_row1_col17, #T_1ded0_row2_col0, #T_1ded0_row2_col1, #T_1ded0_row2_col2, #T_1ded0_row2_col15, #T_1ded0_row2_col16, #T_1ded0_row2_col17, #T_1ded0_row3_col0, #T_1ded0_row3_col15, #T_1ded0_row3_col16, #T_1ded0_row3_col17, #T_1ded0_row4_col0, #T_1ded0_row4_col6, #T_1ded0_row4_col7, #T_1ded0_row4_col8, #T_1ded0_row4_col9, #T_1ded0_row4_col10, #T_1ded0_row4_col15, #T_1ded0_row4_col16, #T_1ded0_row4_col17, #T_1ded0_row5_col0, #T_1ded0_row5_col5, #T_1ded0_row5_col6, #T_1ded0_row5_col7, #T_1ded0_row5_col8, #T_1ded0_row5_col9, #T_1ded0_row5_col15, #T_1ded0_row5_col16, #T_1ded0_row5_col17, #T_1ded0_row6_col0, #T_1ded0_row6_col1, #T_1ded0_row6_col2, #T_1ded0_row6_col3, #T_1ded0_row6_col4, #T_1ded0_row6_col5, #T_1ded0_row6_col6, #T_1ded0_row6_col7, #T_1ded0_row6_col8, #T_1ded0_row6_col9, #T_1ded0_row6_col14, #T_1ded0_row6_col15, #T_1ded0_row6_col16, #T_1ded0_row6_col17, #T_1ded0_row7_col0, #T_1ded0_row7_col1, #T_1ded0_row7_col2, #T_1ded0_row7_col3, #T_1ded0_row7_col4, #T_1ded0_row7_col5, #T_1ded0_row7_col6, #T_1ded0_row7_col13, #T_1ded0_row7_col14, #T_1ded0_row7_col15, #T_1ded0_row7_col16, #T_1ded0_row7_col17, #T_1ded0_row8_col0, #T_1ded0_row8_col1, #T_1ded0_row8_col2, #T_1ded0_row8_col3, #T_1ded0_row8_col4, #T_1ded0_row8_col13, #T_1ded0_row8_col14, #T_1ded0_row8_col15, #T_1ded0_row8_col16, #T_1ded0_row8_col17, #T_1ded0_row9_col0, #T_1ded0_row9_col1, #T_1ded0_row9_col2, #T_1ded0_row9_col3, #T_1ded0_row9_col4, #T_1ded0_row9_col16, #T_1ded0_row9_col17, #T_1ded0_row10_col0, #T_1ded0_row10_col1, #T_1ded0_row10_col2, #T_1ded0_row10_col3, #T_1ded0_row10_col4, #T_1ded0_row10_col5, #T_1ded0_row10_col6, #T_1ded0_row10_col17 {\n",
              "  font-size: 6pt;\n",
              "  background-color: #ffffff;\n",
              "  color: #000000;\n",
              "}\n",
              "#T_1ded0_row1_col5 {\n",
              "  font-size: 6pt;\n",
              "  background-color: #efefef;\n",
              "  color: #000000;\n",
              "}\n",
              "#T_1ded0_row1_col6, #T_1ded0_row1_col13 {\n",
              "  font-size: 6pt;\n",
              "  background-color: #7c7c7c;\n",
              "  color: #f1f1f1;\n",
              "}\n",
              "#T_1ded0_row1_col7 {\n",
              "  font-size: 6pt;\n",
              "  background-color: #4a4a4a;\n",
              "  color: #f1f1f1;\n",
              "}\n",
              "#T_1ded0_row1_col8, #T_1ded0_row1_col9, #T_1ded0_row1_col10, #T_1ded0_row2_col5, #T_1ded0_row2_col6, #T_1ded0_row2_col7, #T_1ded0_row2_col11, #T_1ded0_row2_col12, #T_1ded0_row2_col13, #T_1ded0_row3_col4, #T_1ded0_row3_col12, #T_1ded0_row3_col13, #T_1ded0_row4_col1, #T_1ded0_row4_col2, #T_1ded0_row4_col3, #T_1ded0_row4_col12, #T_1ded0_row4_col13, #T_1ded0_row5_col12, #T_1ded0_row6_col11, #T_1ded0_row9_col11, #T_1ded0_row10_col11, #T_1ded0_row10_col12, #T_1ded0_row10_col13, #T_1ded0_row10_col14, #T_1ded0_row10_col15, #T_1ded0_row10_col16 {\n",
              "  font-size: 6pt;\n",
              "  background-color: #000000;\n",
              "  color: #f1f1f1;\n",
              "}\n",
              "#T_1ded0_row1_col11 {\n",
              "  font-size: 6pt;\n",
              "  background-color: #606060;\n",
              "  color: #f1f1f1;\n",
              "}\n",
              "#T_1ded0_row1_col12 {\n",
              "  font-size: 6pt;\n",
              "  background-color: #4d4d4d;\n",
              "  color: #f1f1f1;\n",
              "}\n",
              "#T_1ded0_row1_col14 {\n",
              "  font-size: 6pt;\n",
              "  background-color: #bbbbbb;\n",
              "  color: #000000;\n",
              "}\n",
              "#T_1ded0_row2_col3 {\n",
              "  font-size: 6pt;\n",
              "  background-color: #e4e4e4;\n",
              "  color: #000000;\n",
              "}\n",
              "#T_1ded0_row2_col4, #T_1ded0_row8_col6 {\n",
              "  font-size: 6pt;\n",
              "  background-color: #6b6b6b;\n",
              "  color: #f1f1f1;\n",
              "}\n",
              "#T_1ded0_row2_col8, #T_1ded0_row2_col14, #T_1ded0_row3_col14 {\n",
              "  font-size: 6pt;\n",
              "  background-color: #171717;\n",
              "  color: #f1f1f1;\n",
              "}\n",
              "#T_1ded0_row2_col9, #T_1ded0_row3_col11 {\n",
              "  font-size: 6pt;\n",
              "  background-color: #4b4b4b;\n",
              "  color: #f1f1f1;\n",
              "}\n",
              "#T_1ded0_row2_col10, #T_1ded0_row7_col10, #T_1ded0_row8_col8, #T_1ded0_row8_col10, #T_1ded0_row9_col8, #T_1ded0_row9_col10 {\n",
              "  font-size: 6pt;\n",
              "  background-color: #010101;\n",
              "  color: #f1f1f1;\n",
              "}\n",
              "#T_1ded0_row3_col1 {\n",
              "  font-size: 6pt;\n",
              "  background-color: #272727;\n",
              "  color: #f1f1f1;\n",
              "}\n",
              "#T_1ded0_row3_col2 {\n",
              "  font-size: 6pt;\n",
              "  background-color: #0a0a0a;\n",
              "  color: #f1f1f1;\n",
              "}\n",
              "#T_1ded0_row3_col3 {\n",
              "  font-size: 6pt;\n",
              "  background-color: #050505;\n",
              "  color: #f1f1f1;\n",
              "}\n",
              "#T_1ded0_row3_col5 {\n",
              "  font-size: 6pt;\n",
              "  background-color: #333333;\n",
              "  color: #f1f1f1;\n",
              "}\n",
              "#T_1ded0_row3_col6 {\n",
              "  font-size: 6pt;\n",
              "  background-color: #e6e6e6;\n",
              "  color: #000000;\n",
              "}\n",
              "#T_1ded0_row3_col7, #T_1ded0_row3_col10 {\n",
              "  font-size: 6pt;\n",
              "  background-color: #fafafa;\n",
              "  color: #000000;\n",
              "}\n",
              "#T_1ded0_row3_col8 {\n",
              "  font-size: 6pt;\n",
              "  background-color: #fbfbfb;\n",
              "  color: #000000;\n",
              "}\n",
              "#T_1ded0_row3_col9 {\n",
              "  font-size: 6pt;\n",
              "  background-color: #fdfdfd;\n",
              "  color: #000000;\n",
              "}\n",
              "#T_1ded0_row4_col4 {\n",
              "  font-size: 6pt;\n",
              "  background-color: #1b1b1b;\n",
              "  color: #f1f1f1;\n",
              "}\n",
              "#T_1ded0_row4_col5 {\n",
              "  font-size: 6pt;\n",
              "  background-color: #e0e0e0;\n",
              "  color: #000000;\n",
              "}\n",
              "#T_1ded0_row4_col11 {\n",
              "  font-size: 6pt;\n",
              "  background-color: #4e4e4e;\n",
              "  color: #f1f1f1;\n",
              "}\n",
              "#T_1ded0_row4_col14 {\n",
              "  font-size: 6pt;\n",
              "  background-color: #767676;\n",
              "  color: #f1f1f1;\n",
              "}\n",
              "#T_1ded0_row5_col1 {\n",
              "  font-size: 6pt;\n",
              "  background-color: #fcfcfc;\n",
              "  color: #000000;\n",
              "}\n",
              "#T_1ded0_row5_col2, #T_1ded0_row5_col3 {\n",
              "  font-size: 6pt;\n",
              "  background-color: #f6f6f6;\n",
              "  color: #000000;\n",
              "}\n",
              "#T_1ded0_row5_col4, #T_1ded0_row7_col7 {\n",
              "  font-size: 6pt;\n",
              "  background-color: #f8f8f8;\n",
              "  color: #000000;\n",
              "}\n",
              "#T_1ded0_row5_col10, #T_1ded0_row10_col7 {\n",
              "  font-size: 6pt;\n",
              "  background-color: #e8e8e8;\n",
              "  color: #000000;\n",
              "}\n",
              "#T_1ded0_row5_col11 {\n",
              "  font-size: 6pt;\n",
              "  background-color: #222222;\n",
              "  color: #f1f1f1;\n",
              "}\n",
              "#T_1ded0_row5_col13, #T_1ded0_row6_col12 {\n",
              "  font-size: 6pt;\n",
              "  background-color: #090909;\n",
              "  color: #f1f1f1;\n",
              "}\n",
              "#T_1ded0_row5_col14 {\n",
              "  font-size: 6pt;\n",
              "  background-color: #d0d0d0;\n",
              "  color: #000000;\n",
              "}\n",
              "#T_1ded0_row6_col10, #T_1ded0_row7_col11, #T_1ded0_row9_col6 {\n",
              "  font-size: 6pt;\n",
              "  background-color: #060606;\n",
              "  color: #f1f1f1;\n",
              "}\n",
              "#T_1ded0_row6_col13 {\n",
              "  font-size: 6pt;\n",
              "  background-color: #979797;\n",
              "  color: #f1f1f1;\n",
              "}\n",
              "#T_1ded0_row7_col8 {\n",
              "  font-size: 6pt;\n",
              "  background-color: #b6b6b6;\n",
              "  color: #000000;\n",
              "}\n",
              "#T_1ded0_row7_col9 {\n",
              "  font-size: 6pt;\n",
              "  background-color: #252525;\n",
              "  color: #f1f1f1;\n",
              "}\n",
              "#T_1ded0_row7_col12 {\n",
              "  font-size: 6pt;\n",
              "  background-color: #999999;\n",
              "  color: #f1f1f1;\n",
              "}\n",
              "#T_1ded0_row8_col5 {\n",
              "  font-size: 6pt;\n",
              "  background-color: #f9f9f9;\n",
              "  color: #000000;\n",
              "}\n",
              "#T_1ded0_row8_col7 {\n",
              "  font-size: 6pt;\n",
              "  background-color: #101010;\n",
              "  color: #f1f1f1;\n",
              "}\n",
              "#T_1ded0_row8_col9, #T_1ded0_row9_col9 {\n",
              "  font-size: 6pt;\n",
              "  background-color: #020202;\n",
              "  color: #f1f1f1;\n",
              "}\n",
              "#T_1ded0_row8_col11 {\n",
              "  font-size: 6pt;\n",
              "  background-color: #545454;\n",
              "  color: #f1f1f1;\n",
              "}\n",
              "#T_1ded0_row8_col12 {\n",
              "  font-size: 6pt;\n",
              "  background-color: #f1f1f1;\n",
              "  color: #000000;\n",
              "}\n",
              "#T_1ded0_row9_col5 {\n",
              "  font-size: 6pt;\n",
              "  background-color: #f7f7f7;\n",
              "  color: #000000;\n",
              "}\n",
              "#T_1ded0_row9_col7 {\n",
              "  font-size: 6pt;\n",
              "  background-color: #030303;\n",
              "  color: #f1f1f1;\n",
              "}\n",
              "#T_1ded0_row9_col12 {\n",
              "  font-size: 6pt;\n",
              "  background-color: #181818;\n",
              "  color: #f1f1f1;\n",
              "}\n",
              "#T_1ded0_row9_col13 {\n",
              "  font-size: 6pt;\n",
              "  background-color: #303030;\n",
              "  color: #f1f1f1;\n",
              "}\n",
              "#T_1ded0_row9_col14 {\n",
              "  font-size: 6pt;\n",
              "  background-color: #a9a9a9;\n",
              "  color: #f1f1f1;\n",
              "}\n",
              "#T_1ded0_row9_col15 {\n",
              "  font-size: 6pt;\n",
              "  background-color: #fefefe;\n",
              "  color: #000000;\n",
              "}\n",
              "#T_1ded0_row10_col8, #T_1ded0_row10_col9 {\n",
              "  font-size: 6pt;\n",
              "  background-color: #bababa;\n",
              "  color: #000000;\n",
              "}\n",
              "#T_1ded0_row10_col10 {\n",
              "  font-size: 6pt;\n",
              "  background-color: #393939;\n",
              "  color: #f1f1f1;\n",
              "}\n",
              "</style>\n",
              "<table id=\"T_1ded0\" class=\"dataframe\">\n",
              "  <thead>\n",
              "    <tr>\n",
              "      <th class=\"blank level0\" >&nbsp;</th>\n",
              "      <th id=\"T_1ded0_level0_col0\" class=\"col_heading level0 col0\" >0</th>\n",
              "      <th id=\"T_1ded0_level0_col1\" class=\"col_heading level0 col1\" >1</th>\n",
              "      <th id=\"T_1ded0_level0_col2\" class=\"col_heading level0 col2\" >2</th>\n",
              "      <th id=\"T_1ded0_level0_col3\" class=\"col_heading level0 col3\" >3</th>\n",
              "      <th id=\"T_1ded0_level0_col4\" class=\"col_heading level0 col4\" >4</th>\n",
              "      <th id=\"T_1ded0_level0_col5\" class=\"col_heading level0 col5\" >5</th>\n",
              "      <th id=\"T_1ded0_level0_col6\" class=\"col_heading level0 col6\" >6</th>\n",
              "      <th id=\"T_1ded0_level0_col7\" class=\"col_heading level0 col7\" >7</th>\n",
              "      <th id=\"T_1ded0_level0_col8\" class=\"col_heading level0 col8\" >8</th>\n",
              "      <th id=\"T_1ded0_level0_col9\" class=\"col_heading level0 col9\" >9</th>\n",
              "      <th id=\"T_1ded0_level0_col10\" class=\"col_heading level0 col10\" >10</th>\n",
              "      <th id=\"T_1ded0_level0_col11\" class=\"col_heading level0 col11\" >11</th>\n",
              "      <th id=\"T_1ded0_level0_col12\" class=\"col_heading level0 col12\" >12</th>\n",
              "      <th id=\"T_1ded0_level0_col13\" class=\"col_heading level0 col13\" >13</th>\n",
              "      <th id=\"T_1ded0_level0_col14\" class=\"col_heading level0 col14\" >14</th>\n",
              "      <th id=\"T_1ded0_level0_col15\" class=\"col_heading level0 col15\" >15</th>\n",
              "      <th id=\"T_1ded0_level0_col16\" class=\"col_heading level0 col16\" >16</th>\n",
              "      <th id=\"T_1ded0_level0_col17\" class=\"col_heading level0 col17\" >17</th>\n",
              "    </tr>\n",
              "  </thead>\n",
              "  <tbody>\n",
              "    <tr>\n",
              "      <th id=\"T_1ded0_level0_row0\" class=\"row_heading level0 row0\" >0</th>\n",
              "      <td id=\"T_1ded0_row0_col0\" class=\"data row0 col0\" >0</td>\n",
              "      <td id=\"T_1ded0_row0_col1\" class=\"data row0 col1\" >0</td>\n",
              "      <td id=\"T_1ded0_row0_col2\" class=\"data row0 col2\" >0</td>\n",
              "      <td id=\"T_1ded0_row0_col3\" class=\"data row0 col3\" >0</td>\n",
              "      <td id=\"T_1ded0_row0_col4\" class=\"data row0 col4\" >0</td>\n",
              "      <td id=\"T_1ded0_row0_col5\" class=\"data row0 col5\" >0</td>\n",
              "      <td id=\"T_1ded0_row0_col6\" class=\"data row0 col6\" >0</td>\n",
              "      <td id=\"T_1ded0_row0_col7\" class=\"data row0 col7\" >0</td>\n",
              "      <td id=\"T_1ded0_row0_col8\" class=\"data row0 col8\" >0</td>\n",
              "      <td id=\"T_1ded0_row0_col9\" class=\"data row0 col9\" >0</td>\n",
              "      <td id=\"T_1ded0_row0_col10\" class=\"data row0 col10\" >0</td>\n",
              "      <td id=\"T_1ded0_row0_col11\" class=\"data row0 col11\" >0</td>\n",
              "      <td id=\"T_1ded0_row0_col12\" class=\"data row0 col12\" >0</td>\n",
              "      <td id=\"T_1ded0_row0_col13\" class=\"data row0 col13\" >0</td>\n",
              "      <td id=\"T_1ded0_row0_col14\" class=\"data row0 col14\" >0</td>\n",
              "      <td id=\"T_1ded0_row0_col15\" class=\"data row0 col15\" >0</td>\n",
              "      <td id=\"T_1ded0_row0_col16\" class=\"data row0 col16\" >0</td>\n",
              "      <td id=\"T_1ded0_row0_col17\" class=\"data row0 col17\" >0</td>\n",
              "    </tr>\n",
              "    <tr>\n",
              "      <th id=\"T_1ded0_level0_row1\" class=\"row_heading level0 row1\" >1</th>\n",
              "      <td id=\"T_1ded0_row1_col0\" class=\"data row1 col0\" >0</td>\n",
              "      <td id=\"T_1ded0_row1_col1\" class=\"data row1 col1\" >0</td>\n",
              "      <td id=\"T_1ded0_row1_col2\" class=\"data row1 col2\" >0</td>\n",
              "      <td id=\"T_1ded0_row1_col3\" class=\"data row1 col3\" >0</td>\n",
              "      <td id=\"T_1ded0_row1_col4\" class=\"data row1 col4\" >0</td>\n",
              "      <td id=\"T_1ded0_row1_col5\" class=\"data row1 col5\" >29</td>\n",
              "      <td id=\"T_1ded0_row1_col6\" class=\"data row1 col6\" >150</td>\n",
              "      <td id=\"T_1ded0_row1_col7\" class=\"data row1 col7\" >195</td>\n",
              "      <td id=\"T_1ded0_row1_col8\" class=\"data row1 col8\" >254</td>\n",
              "      <td id=\"T_1ded0_row1_col9\" class=\"data row1 col9\" >255</td>\n",
              "      <td id=\"T_1ded0_row1_col10\" class=\"data row1 col10\" >254</td>\n",
              "      <td id=\"T_1ded0_row1_col11\" class=\"data row1 col11\" >176</td>\n",
              "      <td id=\"T_1ded0_row1_col12\" class=\"data row1 col12\" >193</td>\n",
              "      <td id=\"T_1ded0_row1_col13\" class=\"data row1 col13\" >150</td>\n",
              "      <td id=\"T_1ded0_row1_col14\" class=\"data row1 col14\" >96</td>\n",
              "      <td id=\"T_1ded0_row1_col15\" class=\"data row1 col15\" >0</td>\n",
              "      <td id=\"T_1ded0_row1_col16\" class=\"data row1 col16\" >0</td>\n",
              "      <td id=\"T_1ded0_row1_col17\" class=\"data row1 col17\" >0</td>\n",
              "    </tr>\n",
              "    <tr>\n",
              "      <th id=\"T_1ded0_level0_row2\" class=\"row_heading level0 row2\" >2</th>\n",
              "      <td id=\"T_1ded0_row2_col0\" class=\"data row2 col0\" >0</td>\n",
              "      <td id=\"T_1ded0_row2_col1\" class=\"data row2 col1\" >0</td>\n",
              "      <td id=\"T_1ded0_row2_col2\" class=\"data row2 col2\" >0</td>\n",
              "      <td id=\"T_1ded0_row2_col3\" class=\"data row2 col3\" >48</td>\n",
              "      <td id=\"T_1ded0_row2_col4\" class=\"data row2 col4\" >166</td>\n",
              "      <td id=\"T_1ded0_row2_col5\" class=\"data row2 col5\" >224</td>\n",
              "      <td id=\"T_1ded0_row2_col6\" class=\"data row2 col6\" >253</td>\n",
              "      <td id=\"T_1ded0_row2_col7\" class=\"data row2 col7\" >253</td>\n",
              "      <td id=\"T_1ded0_row2_col8\" class=\"data row2 col8\" >234</td>\n",
              "      <td id=\"T_1ded0_row2_col9\" class=\"data row2 col9\" >196</td>\n",
              "      <td id=\"T_1ded0_row2_col10\" class=\"data row2 col10\" >253</td>\n",
              "      <td id=\"T_1ded0_row2_col11\" class=\"data row2 col11\" >253</td>\n",
              "      <td id=\"T_1ded0_row2_col12\" class=\"data row2 col12\" >253</td>\n",
              "      <td id=\"T_1ded0_row2_col13\" class=\"data row2 col13\" >253</td>\n",
              "      <td id=\"T_1ded0_row2_col14\" class=\"data row2 col14\" >233</td>\n",
              "      <td id=\"T_1ded0_row2_col15\" class=\"data row2 col15\" >0</td>\n",
              "      <td id=\"T_1ded0_row2_col16\" class=\"data row2 col16\" >0</td>\n",
              "      <td id=\"T_1ded0_row2_col17\" class=\"data row2 col17\" >0</td>\n",
              "    </tr>\n",
              "    <tr>\n",
              "      <th id=\"T_1ded0_level0_row3\" class=\"row_heading level0 row3\" >3</th>\n",
              "      <td id=\"T_1ded0_row3_col0\" class=\"data row3 col0\" >0</td>\n",
              "      <td id=\"T_1ded0_row3_col1\" class=\"data row3 col1\" >93</td>\n",
              "      <td id=\"T_1ded0_row3_col2\" class=\"data row3 col2\" >244</td>\n",
              "      <td id=\"T_1ded0_row3_col3\" class=\"data row3 col3\" >249</td>\n",
              "      <td id=\"T_1ded0_row3_col4\" class=\"data row3 col4\" >253</td>\n",
              "      <td id=\"T_1ded0_row3_col5\" class=\"data row3 col5\" >187</td>\n",
              "      <td id=\"T_1ded0_row3_col6\" class=\"data row3 col6\" >46</td>\n",
              "      <td id=\"T_1ded0_row3_col7\" class=\"data row3 col7\" >10</td>\n",
              "      <td id=\"T_1ded0_row3_col8\" class=\"data row3 col8\" >8</td>\n",
              "      <td id=\"T_1ded0_row3_col9\" class=\"data row3 col9\" >4</td>\n",
              "      <td id=\"T_1ded0_row3_col10\" class=\"data row3 col10\" >10</td>\n",
              "      <td id=\"T_1ded0_row3_col11\" class=\"data row3 col11\" >194</td>\n",
              "      <td id=\"T_1ded0_row3_col12\" class=\"data row3 col12\" >253</td>\n",
              "      <td id=\"T_1ded0_row3_col13\" class=\"data row3 col13\" >253</td>\n",
              "      <td id=\"T_1ded0_row3_col14\" class=\"data row3 col14\" >233</td>\n",
              "      <td id=\"T_1ded0_row3_col15\" class=\"data row3 col15\" >0</td>\n",
              "      <td id=\"T_1ded0_row3_col16\" class=\"data row3 col16\" >0</td>\n",
              "      <td id=\"T_1ded0_row3_col17\" class=\"data row3 col17\" >0</td>\n",
              "    </tr>\n",
              "    <tr>\n",
              "      <th id=\"T_1ded0_level0_row4\" class=\"row_heading level0 row4\" >4</th>\n",
              "      <td id=\"T_1ded0_row4_col0\" class=\"data row4 col0\" >0</td>\n",
              "      <td id=\"T_1ded0_row4_col1\" class=\"data row4 col1\" >107</td>\n",
              "      <td id=\"T_1ded0_row4_col2\" class=\"data row4 col2\" >253</td>\n",
              "      <td id=\"T_1ded0_row4_col3\" class=\"data row4 col3\" >253</td>\n",
              "      <td id=\"T_1ded0_row4_col4\" class=\"data row4 col4\" >230</td>\n",
              "      <td id=\"T_1ded0_row4_col5\" class=\"data row4 col5\" >48</td>\n",
              "      <td id=\"T_1ded0_row4_col6\" class=\"data row4 col6\" >0</td>\n",
              "      <td id=\"T_1ded0_row4_col7\" class=\"data row4 col7\" >0</td>\n",
              "      <td id=\"T_1ded0_row4_col8\" class=\"data row4 col8\" >0</td>\n",
              "      <td id=\"T_1ded0_row4_col9\" class=\"data row4 col9\" >0</td>\n",
              "      <td id=\"T_1ded0_row4_col10\" class=\"data row4 col10\" >0</td>\n",
              "      <td id=\"T_1ded0_row4_col11\" class=\"data row4 col11\" >192</td>\n",
              "      <td id=\"T_1ded0_row4_col12\" class=\"data row4 col12\" >253</td>\n",
              "      <td id=\"T_1ded0_row4_col13\" class=\"data row4 col13\" >253</td>\n",
              "      <td id=\"T_1ded0_row4_col14\" class=\"data row4 col14\" >156</td>\n",
              "      <td id=\"T_1ded0_row4_col15\" class=\"data row4 col15\" >0</td>\n",
              "      <td id=\"T_1ded0_row4_col16\" class=\"data row4 col16\" >0</td>\n",
              "      <td id=\"T_1ded0_row4_col17\" class=\"data row4 col17\" >0</td>\n",
              "    </tr>\n",
              "    <tr>\n",
              "      <th id=\"T_1ded0_level0_row5\" class=\"row_heading level0 row5\" >5</th>\n",
              "      <td id=\"T_1ded0_row5_col0\" class=\"data row5 col0\" >0</td>\n",
              "      <td id=\"T_1ded0_row5_col1\" class=\"data row5 col1\" >3</td>\n",
              "      <td id=\"T_1ded0_row5_col2\" class=\"data row5 col2\" >20</td>\n",
              "      <td id=\"T_1ded0_row5_col3\" class=\"data row5 col3\" >20</td>\n",
              "      <td id=\"T_1ded0_row5_col4\" class=\"data row5 col4\" >15</td>\n",
              "      <td id=\"T_1ded0_row5_col5\" class=\"data row5 col5\" >0</td>\n",
              "      <td id=\"T_1ded0_row5_col6\" class=\"data row5 col6\" >0</td>\n",
              "      <td id=\"T_1ded0_row5_col7\" class=\"data row5 col7\" >0</td>\n",
              "      <td id=\"T_1ded0_row5_col8\" class=\"data row5 col8\" >0</td>\n",
              "      <td id=\"T_1ded0_row5_col9\" class=\"data row5 col9\" >0</td>\n",
              "      <td id=\"T_1ded0_row5_col10\" class=\"data row5 col10\" >43</td>\n",
              "      <td id=\"T_1ded0_row5_col11\" class=\"data row5 col11\" >224</td>\n",
              "      <td id=\"T_1ded0_row5_col12\" class=\"data row5 col12\" >253</td>\n",
              "      <td id=\"T_1ded0_row5_col13\" class=\"data row5 col13\" >245</td>\n",
              "      <td id=\"T_1ded0_row5_col14\" class=\"data row5 col14\" >74</td>\n",
              "      <td id=\"T_1ded0_row5_col15\" class=\"data row5 col15\" >0</td>\n",
              "      <td id=\"T_1ded0_row5_col16\" class=\"data row5 col16\" >0</td>\n",
              "      <td id=\"T_1ded0_row5_col17\" class=\"data row5 col17\" >0</td>\n",
              "    </tr>\n",
              "    <tr>\n",
              "      <th id=\"T_1ded0_level0_row6\" class=\"row_heading level0 row6\" >6</th>\n",
              "      <td id=\"T_1ded0_row6_col0\" class=\"data row6 col0\" >0</td>\n",
              "      <td id=\"T_1ded0_row6_col1\" class=\"data row6 col1\" >0</td>\n",
              "      <td id=\"T_1ded0_row6_col2\" class=\"data row6 col2\" >0</td>\n",
              "      <td id=\"T_1ded0_row6_col3\" class=\"data row6 col3\" >0</td>\n",
              "      <td id=\"T_1ded0_row6_col4\" class=\"data row6 col4\" >0</td>\n",
              "      <td id=\"T_1ded0_row6_col5\" class=\"data row6 col5\" >0</td>\n",
              "      <td id=\"T_1ded0_row6_col6\" class=\"data row6 col6\" >0</td>\n",
              "      <td id=\"T_1ded0_row6_col7\" class=\"data row6 col7\" >0</td>\n",
              "      <td id=\"T_1ded0_row6_col8\" class=\"data row6 col8\" >0</td>\n",
              "      <td id=\"T_1ded0_row6_col9\" class=\"data row6 col9\" >0</td>\n",
              "      <td id=\"T_1ded0_row6_col10\" class=\"data row6 col10\" >249</td>\n",
              "      <td id=\"T_1ded0_row6_col11\" class=\"data row6 col11\" >253</td>\n",
              "      <td id=\"T_1ded0_row6_col12\" class=\"data row6 col12\" >245</td>\n",
              "      <td id=\"T_1ded0_row6_col13\" class=\"data row6 col13\" >126</td>\n",
              "      <td id=\"T_1ded0_row6_col14\" class=\"data row6 col14\" >0</td>\n",
              "      <td id=\"T_1ded0_row6_col15\" class=\"data row6 col15\" >0</td>\n",
              "      <td id=\"T_1ded0_row6_col16\" class=\"data row6 col16\" >0</td>\n",
              "      <td id=\"T_1ded0_row6_col17\" class=\"data row6 col17\" >0</td>\n",
              "    </tr>\n",
              "    <tr>\n",
              "      <th id=\"T_1ded0_level0_row7\" class=\"row_heading level0 row7\" >7</th>\n",
              "      <td id=\"T_1ded0_row7_col0\" class=\"data row7 col0\" >0</td>\n",
              "      <td id=\"T_1ded0_row7_col1\" class=\"data row7 col1\" >0</td>\n",
              "      <td id=\"T_1ded0_row7_col2\" class=\"data row7 col2\" >0</td>\n",
              "      <td id=\"T_1ded0_row7_col3\" class=\"data row7 col3\" >0</td>\n",
              "      <td id=\"T_1ded0_row7_col4\" class=\"data row7 col4\" >0</td>\n",
              "      <td id=\"T_1ded0_row7_col5\" class=\"data row7 col5\" >0</td>\n",
              "      <td id=\"T_1ded0_row7_col6\" class=\"data row7 col6\" >0</td>\n",
              "      <td id=\"T_1ded0_row7_col7\" class=\"data row7 col7\" >14</td>\n",
              "      <td id=\"T_1ded0_row7_col8\" class=\"data row7 col8\" >101</td>\n",
              "      <td id=\"T_1ded0_row7_col9\" class=\"data row7 col9\" >223</td>\n",
              "      <td id=\"T_1ded0_row7_col10\" class=\"data row7 col10\" >253</td>\n",
              "      <td id=\"T_1ded0_row7_col11\" class=\"data row7 col11\" >248</td>\n",
              "      <td id=\"T_1ded0_row7_col12\" class=\"data row7 col12\" >124</td>\n",
              "      <td id=\"T_1ded0_row7_col13\" class=\"data row7 col13\" >0</td>\n",
              "      <td id=\"T_1ded0_row7_col14\" class=\"data row7 col14\" >0</td>\n",
              "      <td id=\"T_1ded0_row7_col15\" class=\"data row7 col15\" >0</td>\n",
              "      <td id=\"T_1ded0_row7_col16\" class=\"data row7 col16\" >0</td>\n",
              "      <td id=\"T_1ded0_row7_col17\" class=\"data row7 col17\" >0</td>\n",
              "    </tr>\n",
              "    <tr>\n",
              "      <th id=\"T_1ded0_level0_row8\" class=\"row_heading level0 row8\" >8</th>\n",
              "      <td id=\"T_1ded0_row8_col0\" class=\"data row8 col0\" >0</td>\n",
              "      <td id=\"T_1ded0_row8_col1\" class=\"data row8 col1\" >0</td>\n",
              "      <td id=\"T_1ded0_row8_col2\" class=\"data row8 col2\" >0</td>\n",
              "      <td id=\"T_1ded0_row8_col3\" class=\"data row8 col3\" >0</td>\n",
              "      <td id=\"T_1ded0_row8_col4\" class=\"data row8 col4\" >0</td>\n",
              "      <td id=\"T_1ded0_row8_col5\" class=\"data row8 col5\" >11</td>\n",
              "      <td id=\"T_1ded0_row8_col6\" class=\"data row8 col6\" >166</td>\n",
              "      <td id=\"T_1ded0_row8_col7\" class=\"data row8 col7\" >239</td>\n",
              "      <td id=\"T_1ded0_row8_col8\" class=\"data row8 col8\" >253</td>\n",
              "      <td id=\"T_1ded0_row8_col9\" class=\"data row8 col9\" >253</td>\n",
              "      <td id=\"T_1ded0_row8_col10\" class=\"data row8 col10\" >253</td>\n",
              "      <td id=\"T_1ded0_row8_col11\" class=\"data row8 col11\" >187</td>\n",
              "      <td id=\"T_1ded0_row8_col12\" class=\"data row8 col12\" >30</td>\n",
              "      <td id=\"T_1ded0_row8_col13\" class=\"data row8 col13\" >0</td>\n",
              "      <td id=\"T_1ded0_row8_col14\" class=\"data row8 col14\" >0</td>\n",
              "      <td id=\"T_1ded0_row8_col15\" class=\"data row8 col15\" >0</td>\n",
              "      <td id=\"T_1ded0_row8_col16\" class=\"data row8 col16\" >0</td>\n",
              "      <td id=\"T_1ded0_row8_col17\" class=\"data row8 col17\" >0</td>\n",
              "    </tr>\n",
              "    <tr>\n",
              "      <th id=\"T_1ded0_level0_row9\" class=\"row_heading level0 row9\" >9</th>\n",
              "      <td id=\"T_1ded0_row9_col0\" class=\"data row9 col0\" >0</td>\n",
              "      <td id=\"T_1ded0_row9_col1\" class=\"data row9 col1\" >0</td>\n",
              "      <td id=\"T_1ded0_row9_col2\" class=\"data row9 col2\" >0</td>\n",
              "      <td id=\"T_1ded0_row9_col3\" class=\"data row9 col3\" >0</td>\n",
              "      <td id=\"T_1ded0_row9_col4\" class=\"data row9 col4\" >0</td>\n",
              "      <td id=\"T_1ded0_row9_col5\" class=\"data row9 col5\" >16</td>\n",
              "      <td id=\"T_1ded0_row9_col6\" class=\"data row9 col6\" >248</td>\n",
              "      <td id=\"T_1ded0_row9_col7\" class=\"data row9 col7\" >250</td>\n",
              "      <td id=\"T_1ded0_row9_col8\" class=\"data row9 col8\" >253</td>\n",
              "      <td id=\"T_1ded0_row9_col9\" class=\"data row9 col9\" >253</td>\n",
              "      <td id=\"T_1ded0_row9_col10\" class=\"data row9 col10\" >253</td>\n",
              "      <td id=\"T_1ded0_row9_col11\" class=\"data row9 col11\" >253</td>\n",
              "      <td id=\"T_1ded0_row9_col12\" class=\"data row9 col12\" >232</td>\n",
              "      <td id=\"T_1ded0_row9_col13\" class=\"data row9 col13\" >213</td>\n",
              "      <td id=\"T_1ded0_row9_col14\" class=\"data row9 col14\" >111</td>\n",
              "      <td id=\"T_1ded0_row9_col15\" class=\"data row9 col15\" >2</td>\n",
              "      <td id=\"T_1ded0_row9_col16\" class=\"data row9 col16\" >0</td>\n",
              "      <td id=\"T_1ded0_row9_col17\" class=\"data row9 col17\" >0</td>\n",
              "    </tr>\n",
              "    <tr>\n",
              "      <th id=\"T_1ded0_level0_row10\" class=\"row_heading level0 row10\" >10</th>\n",
              "      <td id=\"T_1ded0_row10_col0\" class=\"data row10 col0\" >0</td>\n",
              "      <td id=\"T_1ded0_row10_col1\" class=\"data row10 col1\" >0</td>\n",
              "      <td id=\"T_1ded0_row10_col2\" class=\"data row10 col2\" >0</td>\n",
              "      <td id=\"T_1ded0_row10_col3\" class=\"data row10 col3\" >0</td>\n",
              "      <td id=\"T_1ded0_row10_col4\" class=\"data row10 col4\" >0</td>\n",
              "      <td id=\"T_1ded0_row10_col5\" class=\"data row10 col5\" >0</td>\n",
              "      <td id=\"T_1ded0_row10_col6\" class=\"data row10 col6\" >0</td>\n",
              "      <td id=\"T_1ded0_row10_col7\" class=\"data row10 col7\" >43</td>\n",
              "      <td id=\"T_1ded0_row10_col8\" class=\"data row10 col8\" >98</td>\n",
              "      <td id=\"T_1ded0_row10_col9\" class=\"data row10 col9\" >98</td>\n",
              "      <td id=\"T_1ded0_row10_col10\" class=\"data row10 col10\" >208</td>\n",
              "      <td id=\"T_1ded0_row10_col11\" class=\"data row10 col11\" >253</td>\n",
              "      <td id=\"T_1ded0_row10_col12\" class=\"data row10 col12\" >253</td>\n",
              "      <td id=\"T_1ded0_row10_col13\" class=\"data row10 col13\" >253</td>\n",
              "      <td id=\"T_1ded0_row10_col14\" class=\"data row10 col14\" >253</td>\n",
              "      <td id=\"T_1ded0_row10_col15\" class=\"data row10 col15\" >187</td>\n",
              "      <td id=\"T_1ded0_row10_col16\" class=\"data row10 col16\" >22</td>\n",
              "      <td id=\"T_1ded0_row10_col17\" class=\"data row10 col17\" >0</td>\n",
              "    </tr>\n",
              "  </tbody>\n",
              "</table>\n"
            ]
          },
          "metadata": {},
          "execution_count": 11
        }
      ]
    },
    {
      "cell_type": "code",
      "source": [
        "from fastai.vision.all import show_image\n",
        "seven_tensors = [((ToTensor()(Image.open(o)))*255).byte() for o in sevens]\n",
        "three_tensors = [((ToTensor()(Image.open(o)))*255).byte() for o in threes]\n",
        "\n",
        "show_image(three_tensors[0])"
      ],
      "metadata": {
        "id": "UPIX0G28EHDI",
        "colab": {
          "base_uri": "https://localhost:8080/",
          "height": 131
        },
        "outputId": "c6d6d502-fcab-484a-d80a-676d6de02bcf"
      },
      "execution_count": null,
      "outputs": [
        {
          "output_type": "execute_result",
          "data": {
            "text/plain": [
              "<Axes: >"
            ]
          },
          "metadata": {},
          "execution_count": 12
        },
        {
          "output_type": "display_data",
          "data": {
            "text/plain": [
              "<Figure size 100x100 with 1 Axes>"
            ],
            "image/png": "[encoded data removed]"
          },
          "metadata": {}
        }
      ]
    },
    {
      "cell_type": "code",
      "source": [
        "len(seven_tensors), len(three_tensors)"
      ],
      "metadata": {
        "colab": {
          "base_uri": "https://localhost:8080/"
        },
        "id": "S0l0O8hGukWM",
        "outputId": "e4df81f7-693b-4edc-bf82-af4cb8c102d8"
      },
      "execution_count": null,
      "outputs": [
        {
          "output_type": "execute_result",
          "data": {
            "text/plain": [
              "(6265, 6131)"
            ]
          },
          "metadata": {},
          "execution_count": 13
        }
      ]
    },
    {
      "cell_type": "code",
      "source": [
        "import torch\n",
        "\n",
        "stacked_threes = torch.stack(three_tensors).float()/255\n",
        "stacked_sevens = torch.stack(seven_tensors).float()/255\n",
        "\n",
        "stacked_threes.shape\n"
      ],
      "metadata": {
        "colab": {
          "base_uri": "https://localhost:8080/"
        },
        "id": "iIJKB-X4vFrR",
        "outputId": "255825f7-420d-46a5-9822-8c526be963f4"
      },
      "execution_count": null,
      "outputs": [
        {
          "output_type": "execute_result",
          "data": {
            "text/plain": [
              "torch.Size([6131, 1, 28, 28])"
            ]
          },
          "metadata": {},
          "execution_count": 14
        }
      ]
    },
    {
      "cell_type": "code",
      "source": [
        "len(stacked_threes.shape)"
      ],
      "metadata": {
        "colab": {
          "base_uri": "https://localhost:8080/"
        },
        "id": "jQ7-KpLlw5hc",
        "outputId": "cd9fbacc-4472-4e01-ee22-22b8e933eee1"
      },
      "execution_count": null,
      "outputs": [
        {
          "output_type": "execute_result",
          "data": {
            "text/plain": [
              "4"
            ]
          },
          "metadata": {},
          "execution_count": 15
        }
      ]
    },
    {
      "cell_type": "code",
      "source": [
        "stacked_threes.ndim"
      ],
      "metadata": {
        "colab": {
          "base_uri": "https://localhost:8080/"
        },
        "id": "gtiss0OvyY2I",
        "outputId": "6d3943b4-3c7e-4859-b535-d7ae8f62afb6"
      },
      "execution_count": null,
      "outputs": [
        {
          "output_type": "execute_result",
          "data": {
            "text/plain": [
              "4"
            ]
          },
          "metadata": {},
          "execution_count": 16
        }
      ]
    },
    {
      "cell_type": "code",
      "source": [
        "mean3 = stacked_threes.mean(0)\n",
        "show_image(mean3)"
      ],
      "metadata": {
        "colab": {
          "base_uri": "https://localhost:8080/",
          "height": 131
        },
        "id": "Ar6ywJVVzHPb",
        "outputId": "c4336eee-a846-4397-c18b-864283fc1500"
      },
      "execution_count": null,
      "outputs": [
        {
          "output_type": "execute_result",
          "data": {
            "text/plain": [
              "<Axes: >"
            ]
          },
          "metadata": {},
          "execution_count": 17
        },
        {
          "output_type": "display_data",
          "data": {
            "text/plain": [
              "<Figure size 100x100 with 1 Axes>"
            ],
            "image/png": "[encoded data removed]"
          },
          "metadata": {}
        }
      ]
    },
    {
      "cell_type": "code",
      "source": [
        "mean7 = stacked_sevens.mean(0)\n",
        "show_image(mean7)"
      ],
      "metadata": {
        "colab": {
          "base_uri": "https://localhost:8080/",
          "height": 131
        },
        "id": "NAShe-kB1CZS",
        "outputId": "0ec6a162-50fd-4a2c-c1ef-26a750c2230a"
      },
      "execution_count": null,
      "outputs": [
        {
          "output_type": "execute_result",
          "data": {
            "text/plain": [
              "<Axes: >"
            ]
          },
          "metadata": {},
          "execution_count": 18
        },
        {
          "output_type": "display_data",
          "data": {
            "text/plain": [
              "<Figure size 100x100 with 1 Axes>"
            ],
            "image/png": "[encoded data removed]"
          },
          "metadata": {}
        }
      ]
    },
    {
      "cell_type": "code",
      "source": [
        "stacked_threes[1]\n",
        "show_image(stacked_threes[1])"
      ],
      "metadata": {
        "colab": {
          "base_uri": "https://localhost:8080/",
          "height": 131
        },
        "id": "7XoH21JN1UmN",
        "outputId": "0d0854da-39be-4335-9514-d67cb15ecc16"
      },
      "execution_count": null,
      "outputs": [
        {
          "output_type": "execute_result",
          "data": {
            "text/plain": [
              "<Axes: >"
            ]
          },
          "metadata": {},
          "execution_count": 19
        },
        {
          "output_type": "display_data",
          "data": {
            "text/plain": [
              "<Figure size 100x100 with 1 Axes>"
            ],
            "image/png": "[encoded data removed]"
          },
          "metadata": {}
        }
      ]
    },
    {
      "cell_type": "code",
      "source": [
        "dist_3_abs = (stacked_threes[1] - mean3).abs().mean()\n",
        "dist_3_rmse = ((stacked_threes[1] - mean3)**2).mean().sqrt()\n",
        "dist_3_abs, dist_3_rmse"
      ],
      "metadata": {
        "colab": {
          "base_uri": "https://localhost:8080/"
        },
        "id": "_mSXqRy39G0m",
        "outputId": "00187764-5bc1-4090-8a1d-c4db707f3823"
      },
      "execution_count": null,
      "outputs": [
        {
          "output_type": "execute_result",
          "data": {
            "text/plain": [
              "(tensor(0.1114), tensor(0.2021))"
            ]
          },
          "metadata": {},
          "execution_count": 20
        }
      ]
    },
    {
      "cell_type": "code",
      "source": [
        "dist_7_abs = (stacked_threes[1] - mean7).abs().mean()\n",
        "dist_7_rmse = ((stacked_threes[1] - mean7)**2).mean().sqrt()\n",
        "dist_7_abs, dist_7_rmse"
      ],
      "metadata": {
        "colab": {
          "base_uri": "https://localhost:8080/"
        },
        "id": "fq9pmBmS99ph",
        "outputId": "c30fba54-83d4-4177-be7d-ea1eb0c4914a"
      },
      "execution_count": null,
      "outputs": [
        {
          "output_type": "execute_result",
          "data": {
            "text/plain": [
              "(tensor(0.1586), tensor(0.3021))"
            ]
          },
          "metadata": {},
          "execution_count": 21
        }
      ]
    },
    {
      "cell_type": "code",
      "source": [
        "import torch.nn.functional as F\n",
        "abs_loss = F.l1_loss(stacked_threes[1], mean3)\n",
        "rmse_loss = F.mse_loss(stacked_threes[1], mean3).sqrt()\n",
        "abs_loss, rmse_loss"
      ],
      "metadata": {
        "colab": {
          "base_uri": "https://localhost:8080/"
        },
        "id": "660qT_LT0qnY",
        "outputId": "d4207a73-7fee-459b-bbaa-e89045d55e04"
      },
      "execution_count": null,
      "outputs": [
        {
          "output_type": "execute_result",
          "data": {
            "text/plain": [
              "(tensor(0.1114), tensor(0.2021))"
            ]
          },
          "metadata": {},
          "execution_count": 22
        }
      ]
    },
    {
      "cell_type": "code",
      "source": [
        "path.ls()"
      ],
      "metadata": {
        "colab": {
          "base_uri": "https://localhost:8080/"
        },
        "id": "O0RbSAdf17un",
        "outputId": "817f88f4-db51-43ff-9c70-dee586258d7f"
      },
      "execution_count": null,
      "outputs": [
        {
          "output_type": "execute_result",
          "data": {
            "text/plain": [
              "(#3) [Path('/root/.fastai/data/mnist_sample/train'),Path('/root/.fastai/data/mnist_sample/labels.csv'),Path('/root/.fastai/data/mnist_sample/valid')]"
            ]
          },
          "metadata": {},
          "execution_count": 23
        }
      ]
    },
    {
      "cell_type": "code",
      "source": [
        "(path/'/root/.fastai/data/mnist_sample/valid').ls()"
      ],
      "metadata": {
        "colab": {
          "base_uri": "https://localhost:8080/"
        },
        "id": "APAcAyLFQ8L2",
        "outputId": "83d3c0cd-bb6a-482e-fae7-756462573b6c"
      },
      "execution_count": null,
      "outputs": [
        {
          "output_type": "execute_result",
          "data": {
            "text/plain": [
              "(#2) [Path('/root/.fastai/data/mnist_sample/valid/7'),Path('/root/.fastai/data/mnist_sample/valid/3')]"
            ]
          },
          "metadata": {},
          "execution_count": 24
        }
      ]
    },
    {
      "cell_type": "code",
      "source": [
        "valid_threes = (path/'/root/.fastai/data/mnist_sample/valid/3').ls().sorted()\n",
        "valid_sevens = (path/'/root/.fastai/data/mnist_sample/valid/7').ls().sorted()\n",
        "len(valid_threes), len(valid_sevens)"
      ],
      "metadata": {
        "colab": {
          "base_uri": "https://localhost:8080/"
        },
        "id": "umTqg54nRCMU",
        "outputId": "2e17a0be-3952-4e66-b313-fedcbc1ff2e2"
      },
      "execution_count": null,
      "outputs": [
        {
          "output_type": "execute_result",
          "data": {
            "text/plain": [
              "(1010, 1028)"
            ]
          },
          "metadata": {},
          "execution_count": 25
        }
      ]
    },
    {
      "cell_type": "code",
      "source": [
        "valid_threes[1]"
      ],
      "metadata": {
        "colab": {
          "base_uri": "https://localhost:8080/"
        },
        "id": "ZeabzBDsRsAK",
        "outputId": "091f51b8-9e4d-4690-c0c0-ca95391f9855"
      },
      "execution_count": null,
      "outputs": [
        {
          "output_type": "execute_result",
          "data": {
            "text/plain": [
              "Path('/root/.fastai/data/mnist_sample/valid/3/1028.png')"
            ]
          },
          "metadata": {},
          "execution_count": 26
        }
      ]
    },
    {
      "cell_type": "code",
      "source": [
        "Image.open(valid_threes[1])"
      ],
      "metadata": {
        "colab": {
          "base_uri": "https://localhost:8080/",
          "height": 45
        },
        "id": "Q8XOWWI3R4dP",
        "outputId": "0439ad30-799e-4e3c-d0b4-176a18a955a8"
      },
      "execution_count": null,
      "outputs": [
        {
          "output_type": "execute_result",
          "data": {
            "text/plain": [
              "<PIL.PngImagePlugin.PngImageFile image mode=L size=28x28>"
            ],
            "image/png": "[encoded data removed]",
            "image/jpeg": "[encoded data removed]"
          },
          "metadata": {},
          "execution_count": 27
        }
      ]
    },
    {
      "cell_type": "code",
      "source": [
        "valid_3_tensors = [(ToTensor()(Image.open(o))) for o in valid_threes]\n",
        "valid_7_tensors = [ (ToTensor()(Image.open(o))) for o in valid_sevens]\n"
      ],
      "metadata": {
        "id": "kx32kwEfR-3k"
      },
      "execution_count": null,
      "outputs": []
    },
    {
      "cell_type": "code",
      "source": [
        "stacked_3_valid = torch.stack(valid_3_tensors)\n",
        "stacked_7_valid = torch.stack(valid_7_tensors)"
      ],
      "metadata": {
        "id": "LK7r8KU3StsB"
      },
      "execution_count": null,
      "outputs": []
    },
    {
      "cell_type": "code",
      "source": [
        "stacked_3_valid.shape, stacked_7_valid.shape"
      ],
      "metadata": {
        "colab": {
          "base_uri": "https://localhost:8080/"
        },
        "id": "NB5fkiuQSwr1",
        "outputId": "105a16be-8459-4772-e12e-f120895cd9b7"
      },
      "execution_count": null,
      "outputs": [
        {
          "output_type": "execute_result",
          "data": {
            "text/plain": [
              "(torch.Size([1010, 1, 28, 28]), torch.Size([1028, 1, 28, 28]))"
            ]
          },
          "metadata": {},
          "execution_count": 30
        }
      ]
    },
    {
      "cell_type": "code",
      "source": [
        "def mnist_distance(a,b): return (a-b).abs().mean((-1,-2))"
      ],
      "metadata": {
        "id": "_3Y1z-NnTbGZ"
      },
      "execution_count": null,
      "outputs": []
    },
    {
      "cell_type": "code",
      "source": [
        "stacked_3_valid.shape, mean3.shape"
      ],
      "metadata": {
        "colab": {
          "base_uri": "https://localhost:8080/"
        },
        "id": "tUEQ4mWVKAcf",
        "outputId": "8bcd52ad-7cbf-465f-fd35-a0612e54716e"
      },
      "execution_count": null,
      "outputs": [
        {
          "output_type": "execute_result",
          "data": {
            "text/plain": [
              "(torch.Size([1010, 1, 28, 28]), torch.Size([1, 28, 28]))"
            ]
          },
          "metadata": {},
          "execution_count": 32
        }
      ]
    },
    {
      "cell_type": "code",
      "source": [],
      "metadata": {
        "id": "dAwdonqmKKeM"
      },
      "execution_count": null,
      "outputs": []
    },
    {
      "cell_type": "code",
      "source": [
        "dist = mnist_distance(stacked_3_valid,mean3)"
      ],
      "metadata": {
        "id": "9OnYK5UCT1jf"
      },
      "execution_count": null,
      "outputs": []
    },
    {
      "cell_type": "code",
      "source": [
        "dist[1]"
      ],
      "metadata": {
        "colab": {
          "base_uri": "https://localhost:8080/"
        },
        "id": "7gJTLnpXKpFi",
        "outputId": "6e4f8196-18ef-44c5-d3c3-f4209476a49f"
      },
      "execution_count": null,
      "outputs": [
        {
          "output_type": "execute_result",
          "data": {
            "text/plain": [
              "tensor([0.1623])"
            ]
          },
          "metadata": {},
          "execution_count": 34
        }
      ]
    },
    {
      "cell_type": "code",
      "source": [
        "def is_3(x,  mean3): return mnist_distance(x,mean3) < mnist_distance(x,mean7)"
      ],
      "metadata": {
        "id": "xqvMKzm5UBtP"
      },
      "execution_count": null,
      "outputs": []
    },
    {
      "cell_type": "code",
      "source": [
        "accuracy3 = is_3(stacked_3_valid, mean3).float().mean()"
      ],
      "metadata": {
        "id": "wfKfzsTIUjI-"
      },
      "execution_count": null,
      "outputs": []
    },
    {
      "cell_type": "code",
      "source": [
        "accuracy3"
      ],
      "metadata": {
        "colab": {
          "base_uri": "https://localhost:8080/"
        },
        "id": "Rf3_0B7EU50u",
        "outputId": "90fc97b2-336b-4e77-acf2-2769364a1e07"
      },
      "execution_count": null,
      "outputs": [
        {
          "output_type": "execute_result",
          "data": {
            "text/plain": [
              "tensor(0.9168)"
            ]
          },
          "metadata": {},
          "execution_count": 37
        }
      ]
    },
    {
      "cell_type": "code",
      "source": [
        "def is_7(x,mean7): return mnist_distance(x,mean3) > mnist_distance(x,mean7)"
      ],
      "metadata": {
        "id": "AUXZBmYeK69y"
      },
      "execution_count": null,
      "outputs": []
    },
    {
      "cell_type": "code",
      "source": [
        "accuracy7_ = is_7(stacked_7_valid,mean7).float().mean()\n",
        "accuracy7_"
      ],
      "metadata": {
        "colab": {
          "base_uri": "https://localhost:8080/"
        },
        "id": "q3vXj4BwLJCN",
        "outputId": "3eaa5e26-eb88-496d-a5f3-a521f0478fa1"
      },
      "execution_count": null,
      "outputs": [
        {
          "output_type": "execute_result",
          "data": {
            "text/plain": [
              "tensor(0.9854)"
            ]
          },
          "metadata": {},
          "execution_count": 39
        }
      ]
    },
    {
      "cell_type": "code",
      "source": [
        "accuracy7 = (1- is_3(stacked_7_valid,mean3).float()).mean()"
      ],
      "metadata": {
        "id": "ZuKWnJwDVY16"
      },
      "execution_count": null,
      "outputs": []
    },
    {
      "cell_type": "code",
      "source": [
        "accuracy7"
      ],
      "metadata": {
        "id": "kTf8i1REW3rQ",
        "outputId": "f5987e31-2614-47d3-de36-eced161dda4b",
        "colab": {
          "base_uri": "https://localhost:8080/"
        }
      },
      "execution_count": null,
      "outputs": [
        {
          "output_type": "execute_result",
          "data": {
            "text/plain": [
              "tensor(0.9854)"
            ]
          },
          "metadata": {},
          "execution_count": 41
        }
      ]
    },
    {
      "cell_type": "markdown",
      "source": [
        "what have i done so far?\n",
        "1. Downloaded the data,\n",
        "2. train and valid data,\n",
        "3. converted images to tensors,\n",
        "4. stacked all the images into a single tensor\n",
        "\n",
        "Pixel Similarity approach:\n",
        "1. computed mean,\n",
        "2. used mean abs error, root mean squared error\n",
        "\n",
        "But no training has happened here. there is no learning. there are no weight parameters initialized and updated based on learning"
      ],
      "metadata": {
        "id": "ZchDhm2aLdtS"
      }
    },
    {
      "cell_type": "markdown",
      "source": [
        "The Gradient Descent Process\n",
        "1. init\n",
        "2. predict\n",
        "3. loss\n",
        "4. gradient\n",
        "5. step\n",
        "6. repeat\n",
        "7. stop"
      ],
      "metadata": {
        "id": "QZiflKH8NS2h"
      }
    },
    {
      "cell_type": "code",
      "source": [
        "stacked_threes.shape"
      ],
      "metadata": {
        "id": "PAhZAPS3W40p",
        "colab": {
          "base_uri": "https://localhost:8080/"
        },
        "outputId": "6ea403df-923e-4bc5-8d8f-78be5a7b2df1"
      },
      "execution_count": null,
      "outputs": [
        {
          "output_type": "execute_result",
          "data": {
            "text/plain": [
              "torch.Size([6131, 1, 28, 28])"
            ]
          },
          "metadata": {},
          "execution_count": 42
        }
      ]
    },
    {
      "cell_type": "code",
      "source": [
        "stacked_sevens.shape"
      ],
      "metadata": {
        "colab": {
          "base_uri": "https://localhost:8080/"
        },
        "id": "mhna8fQGN5ru",
        "outputId": "b6c8929f-7ae3-46f7-c7b9-9d8987bb1698"
      },
      "execution_count": null,
      "outputs": [
        {
          "output_type": "execute_result",
          "data": {
            "text/plain": [
              "torch.Size([6265, 1, 28, 28])"
            ]
          },
          "metadata": {},
          "execution_count": 43
        }
      ]
    },
    {
      "cell_type": "code",
      "source": [
        "stacked_threes[1]"
      ],
      "metadata": {
        "colab": {
          "base_uri": "https://localhost:8080/"
        },
        "id": "9ANcgKNVPHIy",
        "outputId": "037a41ff-fdbb-4cdd-fecf-e1e7130b4a1b"
      },
      "execution_count": null,
      "outputs": [
        {
          "output_type": "execute_result",
          "data": {
            "text/plain": [
              "tensor([[[0.0000, 0.0000, 0.0000, 0.0000, 0.0000, 0.0000, 0.0000, 0.0000,\n",
              "          0.0000, 0.0000, 0.0000, 0.0000, 0.0000, 0.0000, 0.0000, 0.0000,\n",
              "          0.0000, 0.0000, 0.0000, 0.0000, 0.0000, 0.0000, 0.0000, 0.0000,\n",
              "          0.0000, 0.0000, 0.0000, 0.0000],\n",
              "         [0.0000, 0.0000, 0.0000, 0.0000, 0.0000, 0.0000, 0.0000, 0.0000,\n",
              "          0.0000, 0.0000, 0.0000, 0.0000, 0.0000, 0.0000, 0.0000, 0.0000,\n",
              "          0.0000, 0.0000, 0.0000, 0.0000, 0.0000, 0.0000, 0.0000, 0.0000,\n",
              "          0.0000, 0.0000, 0.0000, 0.0000],\n",
              "         [0.0000, 0.0000, 0.0000, 0.0000, 0.0000, 0.0000, 0.0000, 0.0000,\n",
              "          0.0000, 0.0000, 0.0000, 0.0000, 0.0000, 0.0000, 0.0000, 0.0000,\n",
              "          0.0000, 0.0000, 0.0000, 0.0000, 0.0000, 0.0000, 0.0000, 0.0000,\n",
              "          0.0000, 0.0000, 0.0000, 0.0000],\n",
              "         [0.0000, 0.0000, 0.0000, 0.0000, 0.0000, 0.0000, 0.0000, 0.0000,\n",
              "          0.0000, 0.0000, 0.0000, 0.0000, 0.0000, 0.0000, 0.0000, 0.0000,\n",
              "          0.0000, 0.0000, 0.0000, 0.0000, 0.0000, 0.0000, 0.0000, 0.0000,\n",
              "          0.0000, 0.0000, 0.0000, 0.0000],\n",
              "         [0.0000, 0.0000, 0.0000, 0.0000, 0.0000, 0.0000, 0.0000, 0.0000,\n",
              "          0.0000, 0.0000, 0.0000, 0.0000, 0.0000, 0.0000, 0.0000, 0.0000,\n",
              "          0.0000, 0.0000, 0.0000, 0.0000, 0.0000, 0.0000, 0.0000, 0.0000,\n",
              "          0.0000, 0.0000, 0.0000, 0.0000],\n",
              "         [0.0000, 0.0000, 0.0000, 0.0000, 0.0000, 0.0000, 0.0000, 0.0000,\n",
              "          0.0000, 0.1137, 0.5882, 0.7647, 0.9961, 1.0000, 0.9961, 0.6902,\n",
              "          0.7569, 0.5882, 0.3765, 0.0000, 0.0000, 0.0000, 0.0000, 0.0000,\n",
              "          0.0000, 0.0000, 0.0000, 0.0000],\n",
              "         [0.0000, 0.0000, 0.0000, 0.0000, 0.0000, 0.0000, 0.0000, 0.1882,\n",
              "          0.6510, 0.8784, 0.9922, 0.9922, 0.9176, 0.7686, 0.9922, 0.9922,\n",
              "          0.9922, 0.9922, 0.9137, 0.0000, 0.0000, 0.0000, 0.0000, 0.0000,\n",
              "          0.0000, 0.0000, 0.0000, 0.0000],\n",
              "         [0.0000, 0.0000, 0.0000, 0.0000, 0.0000, 0.3647, 0.9569, 0.9765,\n",
              "          0.9922, 0.7333, 0.1804, 0.0392, 0.0314, 0.0157, 0.0392, 0.7608,\n",
              "          0.9922, 0.9922, 0.9137, 0.0000, 0.0000, 0.0000, 0.0000, 0.0000,\n",
              "          0.0000, 0.0000, 0.0000, 0.0000],\n",
              "         [0.0000, 0.0000, 0.0000, 0.0000, 0.0000, 0.4196, 0.9922, 0.9922,\n",
              "          0.9020, 0.1882, 0.0000, 0.0000, 0.0000, 0.0000, 0.0000, 0.7529,\n",
              "          0.9922, 0.9922, 0.6118, 0.0000, 0.0000, 0.0000, 0.0000, 0.0000,\n",
              "          0.0000, 0.0000, 0.0000, 0.0000],\n",
              "         [0.0000, 0.0000, 0.0000, 0.0000, 0.0000, 0.0118, 0.0784, 0.0784,\n",
              "          0.0588, 0.0000, 0.0000, 0.0000, 0.0000, 0.0000, 0.1686, 0.8784,\n",
              "          0.9922, 0.9608, 0.2902, 0.0000, 0.0000, 0.0000, 0.0000, 0.0000,\n",
              "          0.0000, 0.0000, 0.0000, 0.0000],\n",
              "         [0.0000, 0.0000, 0.0000, 0.0000, 0.0000, 0.0000, 0.0000, 0.0000,\n",
              "          0.0000, 0.0000, 0.0000, 0.0000, 0.0000, 0.0000, 0.9765, 0.9922,\n",
              "          0.9608, 0.4941, 0.0000, 0.0000, 0.0000, 0.0000, 0.0000, 0.0000,\n",
              "          0.0000, 0.0000, 0.0000, 0.0000],\n",
              "         [0.0000, 0.0000, 0.0000, 0.0000, 0.0000, 0.0000, 0.0000, 0.0000,\n",
              "          0.0000, 0.0000, 0.0000, 0.0549, 0.3961, 0.8745, 0.9922, 0.9725,\n",
              "          0.4863, 0.0000, 0.0000, 0.0000, 0.0000, 0.0000, 0.0000, 0.0000,\n",
              "          0.0000, 0.0000, 0.0000, 0.0000],\n",
              "         [0.0000, 0.0000, 0.0000, 0.0000, 0.0000, 0.0000, 0.0000, 0.0000,\n",
              "          0.0000, 0.0431, 0.6510, 0.9373, 0.9922, 0.9922, 0.9922, 0.7333,\n",
              "          0.1176, 0.0000, 0.0000, 0.0000, 0.0000, 0.0000, 0.0000, 0.0000,\n",
              "          0.0000, 0.0000, 0.0000, 0.0000],\n",
              "         [0.0000, 0.0000, 0.0000, 0.0000, 0.0000, 0.0000, 0.0000, 0.0000,\n",
              "          0.0000, 0.0627, 0.9725, 0.9804, 0.9922, 0.9922, 0.9922, 0.9922,\n",
              "          0.9098, 0.8353, 0.4353, 0.0078, 0.0000, 0.0000, 0.0000, 0.0000,\n",
              "          0.0000, 0.0000, 0.0000, 0.0000],\n",
              "         [0.0000, 0.0000, 0.0000, 0.0000, 0.0000, 0.0000, 0.0000, 0.0000,\n",
              "          0.0000, 0.0000, 0.0000, 0.1686, 0.3843, 0.3843, 0.8157, 0.9922,\n",
              "          0.9922, 0.9922, 0.9922, 0.7333, 0.0863, 0.0000, 0.0000, 0.0000,\n",
              "          0.0000, 0.0000, 0.0000, 0.0000],\n",
              "         [0.0000, 0.0000, 0.0000, 0.0000, 0.0000, 0.0000, 0.0000, 0.0000,\n",
              "          0.0000, 0.0000, 0.0000, 0.0000, 0.0000, 0.0000, 0.0353, 0.2000,\n",
              "          0.4667, 0.9922, 0.9922, 0.9922, 0.2980, 0.0000, 0.0000, 0.0000,\n",
              "          0.0000, 0.0000, 0.0000, 0.0000],\n",
              "         [0.0000, 0.0000, 0.0000, 0.0000, 0.0000, 0.0000, 0.0000, 0.0000,\n",
              "          0.0000, 0.0000, 0.0000, 0.0000, 0.0000, 0.0000, 0.0000, 0.0000,\n",
              "          0.0039, 0.7176, 0.9922, 0.9922, 0.5451, 0.0000, 0.0000, 0.0000,\n",
              "          0.0000, 0.0000, 0.0000, 0.0000],\n",
              "         [0.0000, 0.0000, 0.0000, 0.0000, 0.0000, 0.0000, 0.0000, 0.0000,\n",
              "          0.0000, 0.0000, 0.0000, 0.0000, 0.0000, 0.0000, 0.0000, 0.0000,\n",
              "          0.0000, 0.7137, 0.9922, 0.9922, 0.4078, 0.0000, 0.0000, 0.0000,\n",
              "          0.0000, 0.0000, 0.0000, 0.0000],\n",
              "         [0.0000, 0.0000, 0.0000, 0.0000, 0.0000, 0.0000, 0.0000, 0.0000,\n",
              "          0.0000, 0.0000, 0.0000, 0.0000, 0.0000, 0.0000, 0.0000, 0.0000,\n",
              "          0.3333, 0.9765, 0.9922, 0.9922, 0.1412, 0.0000, 0.0000, 0.0000,\n",
              "          0.0000, 0.0000, 0.0000, 0.0000],\n",
              "         [0.0000, 0.0000, 0.0000, 0.0000, 0.0000, 0.0000, 0.0000, 0.0000,\n",
              "          0.0000, 0.0000, 0.0000, 0.0000, 0.0000, 0.0000, 0.0000, 0.2353,\n",
              "          0.8392, 0.9922, 0.9922, 0.6784, 0.0431, 0.0000, 0.0000, 0.0000,\n",
              "          0.0000, 0.0000, 0.0000, 0.0000],\n",
              "         [0.0000, 0.0000, 0.0000, 0.0000, 0.0000, 0.0000, 0.0000, 0.0000,\n",
              "          0.0000, 0.0000, 0.0000, 0.0000, 0.0000, 0.0000, 0.3843, 0.9686,\n",
              "          0.9922, 0.9922, 0.8863, 0.0353, 0.0000, 0.0000, 0.0000, 0.0000,\n",
              "          0.0000, 0.0000, 0.0000, 0.0000],\n",
              "         [0.0000, 0.0000, 0.0000, 0.0000, 0.0000, 0.0000, 0.0000, 0.0000,\n",
              "          0.0000, 0.0000, 0.0000, 0.0000, 0.1647, 0.5882, 0.9882, 0.9922,\n",
              "          0.9922, 0.9137, 0.2078, 0.0000, 0.0000, 0.0000, 0.0000, 0.0000,\n",
              "          0.0000, 0.0000, 0.0000, 0.0000],\n",
              "         [0.0000, 0.0000, 0.0000, 0.0000, 0.0000, 0.0000, 0.1647, 0.4510,\n",
              "          0.1647, 0.2353, 0.4510, 0.6235, 0.9412, 0.9922, 0.9922, 0.9804,\n",
              "          0.6863, 0.0980, 0.0000, 0.0000, 0.0000, 0.0000, 0.0000, 0.0000,\n",
              "          0.0000, 0.0000, 0.0000, 0.0000],\n",
              "         [0.0000, 0.0000, 0.0000, 0.0000, 0.0000, 0.0000, 0.7333, 0.9922,\n",
              "          0.9922, 0.9922, 0.9922, 0.9922, 0.9922, 0.9922, 0.7725, 0.3373,\n",
              "          0.0000, 0.0000, 0.0000, 0.0000, 0.0000, 0.0000, 0.0000, 0.0000,\n",
              "          0.0000, 0.0000, 0.0000, 0.0000],\n",
              "         [0.0000, 0.0000, 0.0000, 0.0000, 0.0000, 0.0000, 0.4039, 0.9922,\n",
              "          0.9922, 0.9922, 0.9922, 0.9922, 0.9098, 0.2627, 0.0039, 0.0000,\n",
              "          0.0000, 0.0000, 0.0000, 0.0000, 0.0000, 0.0000, 0.0000, 0.0000,\n",
              "          0.0000, 0.0000, 0.0000, 0.0000],\n",
              "         [0.0000, 0.0000, 0.0000, 0.0000, 0.0000, 0.0000, 0.0000, 0.0000,\n",
              "          0.0000, 0.0000, 0.0000, 0.0000, 0.0000, 0.0000, 0.0000, 0.0000,\n",
              "          0.0000, 0.0000, 0.0000, 0.0000, 0.0000, 0.0000, 0.0000, 0.0000,\n",
              "          0.0000, 0.0000, 0.0000, 0.0000],\n",
              "         [0.0000, 0.0000, 0.0000, 0.0000, 0.0000, 0.0000, 0.0000, 0.0000,\n",
              "          0.0000, 0.0000, 0.0000, 0.0000, 0.0000, 0.0000, 0.0000, 0.0000,\n",
              "          0.0000, 0.0000, 0.0000, 0.0000, 0.0000, 0.0000, 0.0000, 0.0000,\n",
              "          0.0000, 0.0000, 0.0000, 0.0000],\n",
              "         [0.0000, 0.0000, 0.0000, 0.0000, 0.0000, 0.0000, 0.0000, 0.0000,\n",
              "          0.0000, 0.0000, 0.0000, 0.0000, 0.0000, 0.0000, 0.0000, 0.0000,\n",
              "          0.0000, 0.0000, 0.0000, 0.0000, 0.0000, 0.0000, 0.0000, 0.0000,\n",
              "          0.0000, 0.0000, 0.0000, 0.0000]]])"
            ]
          },
          "metadata": {},
          "execution_count": 44
        }
      ]
    },
    {
      "cell_type": "code",
      "source": [
        "train_x= torch.cat([stacked_threes, stacked_sevens]).view(-1,28*28)"
      ],
      "metadata": {
        "id": "SiWqW2_jOGH7"
      },
      "execution_count": null,
      "outputs": []
    },
    {
      "cell_type": "code",
      "source": [
        "train_x.shape"
      ],
      "metadata": {
        "colab": {
          "base_uri": "https://localhost:8080/"
        },
        "id": "xai4iBIMO12A",
        "outputId": "ddc090f1-0116-4b6f-bd58-e89b9088a320"
      },
      "execution_count": null,
      "outputs": [
        {
          "output_type": "execute_result",
          "data": {
            "text/plain": [
              "torch.Size([12396, 784])"
            ]
          },
          "metadata": {},
          "execution_count": 46
        }
      ]
    },
    {
      "cell_type": "code",
      "source": [
        "from torch import tensor\n",
        "\n",
        "train_y = tensor([1]*len(threes) + [0]*len(sevens)).unsqueeze(1)\n"
      ],
      "metadata": {
        "id": "v18WayORO96M"
      },
      "execution_count": null,
      "outputs": []
    },
    {
      "cell_type": "code",
      "source": [
        "train_y.shape"
      ],
      "metadata": {
        "colab": {
          "base_uri": "https://localhost:8080/"
        },
        "id": "c7j5qrx4P9fS",
        "outputId": "cbbc5f06-cc22-4ab1-c692-c2d3147642f4"
      },
      "execution_count": null,
      "outputs": [
        {
          "output_type": "execute_result",
          "data": {
            "text/plain": [
              "torch.Size([12396, 1])"
            ]
          },
          "metadata": {},
          "execution_count": 48
        }
      ]
    },
    {
      "cell_type": "code",
      "source": [
        "dtset =list(zip(train_x,train_y))"
      ],
      "metadata": {
        "id": "Oj9qjkaeZ1tx"
      },
      "execution_count": null,
      "outputs": []
    },
    {
      "cell_type": "code",
      "source": [
        "dtset[0]"
      ],
      "metadata": {
        "colab": {
          "base_uri": "https://localhost:8080/"
        },
        "id": "yaFBnjvSFFNk",
        "outputId": "3c8769ae-9954-4d55-c8b3-1dd889e0a39a"
      },
      "execution_count": null,
      "outputs": [
        {
          "output_type": "execute_result",
          "data": {
            "text/plain": [
              "(tensor([0.0000, 0.0000, 0.0000, 0.0000, 0.0000, 0.0000, 0.0000, 0.0000, 0.0000,\n",
              "         0.0000, 0.0000, 0.0000, 0.0000, 0.0000, 0.0000, 0.0000, 0.0000, 0.0000,\n",
              "         0.0000, 0.0000, 0.0000, 0.0000, 0.0000, 0.0000, 0.0000, 0.0000, 0.0000,\n",
              "         0.0000, 0.0000, 0.0000, 0.0000, 0.0000, 0.0000, 0.0000, 0.0000, 0.0000,\n",
              "         0.0000, 0.0000, 0.0000, 0.0000, 0.0000, 0.0000, 0.0000, 0.0000, 0.0000,\n",
              "         0.0000, 0.0000, 0.0000, 0.0000, 0.0000, 0.0000, 0.0000, 0.0000, 0.0000,\n",
              "         0.0000, 0.0000, 0.0000, 0.0000, 0.0000, 0.0000, 0.0000, 0.0000, 0.0000,\n",
              "         0.0000, 0.0000, 0.0000, 0.0000, 0.0000, 0.0000, 0.0000, 0.0000, 0.0000,\n",
              "         0.0000, 0.0000, 0.0000, 0.0000, 0.0000, 0.0000, 0.0000, 0.0000, 0.0000,\n",
              "         0.0000, 0.0000, 0.0000, 0.0000, 0.0000, 0.0000, 0.0000, 0.0000, 0.0000,\n",
              "         0.0000, 0.0000, 0.0000, 0.0000, 0.0000, 0.0000, 0.0000, 0.0000, 0.0000,\n",
              "         0.0000, 0.0000, 0.0000, 0.0000, 0.0000, 0.0000, 0.0000, 0.0000, 0.0000,\n",
              "         0.0000, 0.0000, 0.0000, 0.0000, 0.0000, 0.0000, 0.0000, 0.0000, 0.0000,\n",
              "         0.0000, 0.0000, 0.0000, 0.0000, 0.0000, 0.0000, 0.1647, 0.4627, 0.8588,\n",
              "         0.6510, 0.4627, 0.4627, 0.0235, 0.0000, 0.0000, 0.0000, 0.0000, 0.0000,\n",
              "         0.0000, 0.0000, 0.0000, 0.0000, 0.0000, 0.0000, 0.0000, 0.0000, 0.0000,\n",
              "         0.0000, 0.0000, 0.0000, 0.0000, 0.0000, 0.0000, 0.4039, 0.9490, 0.9961,\n",
              "         0.9961, 0.9961, 0.9961, 0.9961, 0.2588, 0.0000, 0.0000, 0.0000, 0.0000,\n",
              "         0.0000, 0.0000, 0.0000, 0.0000, 0.0000, 0.0000, 0.0000, 0.0000, 0.0000,\n",
              "         0.0000, 0.0000, 0.0000, 0.0000, 0.0000, 0.0000, 0.0000, 0.0706, 0.9098,\n",
              "         0.9961, 0.9961, 0.9961, 0.9961, 0.9961, 0.9333, 0.2745, 0.0000, 0.0000,\n",
              "         0.0000, 0.0000, 0.0000, 0.0000, 0.0000, 0.0000, 0.0000, 0.0000, 0.0000,\n",
              "         0.0000, 0.0000, 0.0000, 0.0000, 0.0000, 0.0000, 0.0000, 0.0000, 0.0000,\n",
              "         0.4078, 0.9569, 0.9961, 0.8784, 0.9961, 0.9961, 0.9961, 0.5529, 0.0000,\n",
              "         0.0000, 0.0000, 0.0000, 0.0000, 0.0000, 0.0000, 0.0000, 0.0000, 0.0000,\n",
              "         0.0000, 0.0000, 0.0000, 0.0000, 0.0000, 0.0000, 0.0000, 0.0000, 0.0000,\n",
              "         0.0000, 0.0000, 0.8118, 0.9961, 0.8235, 0.9961, 0.9961, 0.9961, 0.1333,\n",
              "         0.0000, 0.0000, 0.0000, 0.0000, 0.0000, 0.0000, 0.0000, 0.0000, 0.0000,\n",
              "         0.0000, 0.0000, 0.0000, 0.0000, 0.0000, 0.0000, 0.0000, 0.0000, 0.0000,\n",
              "         0.0000, 0.0000, 0.0000, 0.3294, 0.8078, 0.9961, 0.9961, 0.9961, 0.9961,\n",
              "         0.1608, 0.0000, 0.0000, 0.0000, 0.0000, 0.0000, 0.0000, 0.0000, 0.0000,\n",
              "         0.0000, 0.0000, 0.0000, 0.0000, 0.0000, 0.0000, 0.0000, 0.0000, 0.0000,\n",
              "         0.0000, 0.0000, 0.0000, 0.0000, 0.0000, 0.0941, 0.8196, 0.9961, 0.9961,\n",
              "         0.9961, 0.6706, 0.0000, 0.0000, 0.0000, 0.0000, 0.0000, 0.0000, 0.0000,\n",
              "         0.0000, 0.0000, 0.0000, 0.0000, 0.0000, 0.0000, 0.0000, 0.0000, 0.0000,\n",
              "         0.0000, 0.0000, 0.0000, 0.0000, 0.0000, 0.3569, 0.5373, 0.9922, 0.9961,\n",
              "         0.9961, 0.9961, 0.4392, 0.0000, 0.0000, 0.0000, 0.0000, 0.0000, 0.0000,\n",
              "         0.0000, 0.0000, 0.0000, 0.0000, 0.0000, 0.0000, 0.0000, 0.0000, 0.0000,\n",
              "         0.0000, 0.0000, 0.0000, 0.0000, 0.1569, 0.8392, 0.9804, 0.9961, 0.9961,\n",
              "         0.9961, 0.9961, 0.9961, 0.1333, 0.0000, 0.0000, 0.0000, 0.0000, 0.0000,\n",
              "         0.0000, 0.0000, 0.0000, 0.0000, 0.0000, 0.0000, 0.0000, 0.0000, 0.0000,\n",
              "         0.0000, 0.0000, 0.0000, 0.0000, 0.0000, 0.3176, 0.9686, 0.9961, 0.9961,\n",
              "         0.9961, 0.9961, 0.9961, 0.9961, 0.5725, 0.0000, 0.0000, 0.0000, 0.0000,\n",
              "         0.0000, 0.0000, 0.0000, 0.0000, 0.0000, 0.0000, 0.0000, 0.0000, 0.0000,\n",
              "         0.0000, 0.0000, 0.0000, 0.0000, 0.0000, 0.0000, 0.0000, 0.4314, 0.9647,\n",
              "         0.9961, 0.9961, 0.9961, 0.9961, 0.9961, 0.6706, 0.0000, 0.0000, 0.0000,\n",
              "         0.0000, 0.0000, 0.0000, 0.0000, 0.0000, 0.0000, 0.0000, 0.0000, 0.0000,\n",
              "         0.0000, 0.0000, 0.0000, 0.0000, 0.0000, 0.0000, 0.0000, 0.0000, 0.0000,\n",
              "         0.2863, 0.3490, 0.3490, 0.3647, 0.9412, 0.9961, 0.6706, 0.0000, 0.0000,\n",
              "         0.0000, 0.0000, 0.0000, 0.0000, 0.0000, 0.0000, 0.0000, 0.0000, 0.0000,\n",
              "         0.0000, 0.0000, 0.0000, 0.0000, 0.0000, 0.0000, 0.0000, 0.0000, 0.0000,\n",
              "         0.0000, 0.0000, 0.0000, 0.0000, 0.0039, 0.5020, 0.9961, 0.8588, 0.1216,\n",
              "         0.0000, 0.0000, 0.0000, 0.0000, 0.0000, 0.0000, 0.0000, 0.0000, 0.0000,\n",
              "         0.0000, 0.0000, 0.0000, 0.0000, 0.0000, 0.0000, 0.0000, 0.0000, 0.0000,\n",
              "         0.0000, 0.0000, 0.0000, 0.0000, 0.0000, 0.0275, 0.9961, 0.9961, 0.8392,\n",
              "         0.1098, 0.0000, 0.0000, 0.0000, 0.0000, 0.0000, 0.0000, 0.0000, 0.0000,\n",
              "         0.0000, 0.0000, 0.0000, 0.0000, 0.0000, 0.0000, 0.0000, 0.0000, 0.0000,\n",
              "         0.0000, 0.0000, 0.0000, 0.0000, 0.0000, 0.0000, 0.5412, 0.9961, 0.9961,\n",
              "         0.4549, 0.0000, 0.0000, 0.0000, 0.0000, 0.0000, 0.0000, 0.0000, 0.0000,\n",
              "         0.0000, 0.0000, 0.0000, 0.0000, 0.0000, 0.0000, 0.0000, 0.0745, 0.6941,\n",
              "         0.3529, 0.0000, 0.0000, 0.0000, 0.0000, 0.0000, 0.0980, 0.9412, 0.9961,\n",
              "         0.9961, 0.1333, 0.0000, 0.0000, 0.0000, 0.0000, 0.0000, 0.0000, 0.0000,\n",
              "         0.0000, 0.0000, 0.0000, 0.0000, 0.0000, 0.0000, 0.0000, 0.0000, 0.6431,\n",
              "         0.9961, 0.8431, 0.2471, 0.1412, 0.0000, 0.2000, 0.3490, 0.8078, 0.9961,\n",
              "         0.9961, 0.5451, 0.0314, 0.0000, 0.0000, 0.0000, 0.0000, 0.0000, 0.0000,\n",
              "         0.0000, 0.0000, 0.0000, 0.0000, 0.0000, 0.0000, 0.0000, 0.0000, 0.0000,\n",
              "         0.2235, 0.7725, 0.9961, 0.9961, 0.8706, 0.7059, 0.9451, 0.9961, 0.9961,\n",
              "         0.9922, 0.8353, 0.0431, 0.0000, 0.0000, 0.0000, 0.0000, 0.0000, 0.0000,\n",
              "         0.0000, 0.0000, 0.0000, 0.0000, 0.0000, 0.0000, 0.0000, 0.0000, 0.0000,\n",
              "         0.0000, 0.0000, 0.5490, 0.4118, 0.9961, 0.9961, 0.9961, 0.9961, 0.9961,\n",
              "         0.9961, 0.9255, 0.0000, 0.0000, 0.0000, 0.0000, 0.0000, 0.0000, 0.0000,\n",
              "         0.0000, 0.0000, 0.0000, 0.0000, 0.0000, 0.0000, 0.0000, 0.0000, 0.0000,\n",
              "         0.0000, 0.0000, 0.0000, 0.0000, 0.0275, 0.4588, 0.4588, 0.6471, 0.9961,\n",
              "         0.9961, 0.9373, 0.1961, 0.0000, 0.0000, 0.0000, 0.0000, 0.0000, 0.0000,\n",
              "         0.0000, 0.0000, 0.0000, 0.0000, 0.0000, 0.0000, 0.0000, 0.0000, 0.0000,\n",
              "         0.0000, 0.0000, 0.0000, 0.0000, 0.0000, 0.0000, 0.0000, 0.0000, 0.0000,\n",
              "         0.0000, 0.0000, 0.0000, 0.0000, 0.0000, 0.0000, 0.0000, 0.0000, 0.0000,\n",
              "         0.0000, 0.0000, 0.0000, 0.0000, 0.0000, 0.0000, 0.0000, 0.0000, 0.0000,\n",
              "         0.0000, 0.0000, 0.0000, 0.0000, 0.0000, 0.0000, 0.0000, 0.0000, 0.0000,\n",
              "         0.0000, 0.0000, 0.0000, 0.0000, 0.0000, 0.0000, 0.0000, 0.0000, 0.0000,\n",
              "         0.0000, 0.0000, 0.0000, 0.0000, 0.0000, 0.0000, 0.0000, 0.0000, 0.0000,\n",
              "         0.0000, 0.0000, 0.0000, 0.0000, 0.0000, 0.0000, 0.0000, 0.0000, 0.0000,\n",
              "         0.0000, 0.0000, 0.0000, 0.0000, 0.0000, 0.0000, 0.0000, 0.0000, 0.0000,\n",
              "         0.0000, 0.0000, 0.0000, 0.0000, 0.0000, 0.0000, 0.0000, 0.0000, 0.0000,\n",
              "         0.0000, 0.0000, 0.0000, 0.0000, 0.0000, 0.0000, 0.0000, 0.0000, 0.0000,\n",
              "         0.0000, 0.0000, 0.0000, 0.0000, 0.0000, 0.0000, 0.0000, 0.0000, 0.0000,\n",
              "         0.0000, 0.0000, 0.0000, 0.0000, 0.0000, 0.0000, 0.0000, 0.0000, 0.0000,\n",
              "         0.0000]),\n",
              " tensor([1]))"
            ]
          },
          "metadata": {},
          "execution_count": 50
        }
      ]
    },
    {
      "cell_type": "code",
      "source": [
        "valid_threes_stacked = torch.stack(valid_3_tensors)\n",
        "valid_sevens_stacked = torch.stack(valid_7_tensors)"
      ],
      "metadata": {
        "id": "aU_TWjM7FIRO"
      },
      "execution_count": null,
      "outputs": []
    },
    {
      "cell_type": "code",
      "source": [
        "valid_x = torch.cat([valid_threes_stacked,valid_sevens_stacked]).view(-1,28*28)"
      ],
      "metadata": {
        "id": "aYFXJogpFZGz"
      },
      "execution_count": null,
      "outputs": []
    },
    {
      "cell_type": "code",
      "source": [
        "valid_x.shape"
      ],
      "metadata": {
        "colab": {
          "base_uri": "https://localhost:8080/"
        },
        "id": "4QecyRsuGKDT",
        "outputId": "2ff125e5-aa2b-4b85-c3a9-7c4161fcf4d7"
      },
      "execution_count": null,
      "outputs": [
        {
          "output_type": "execute_result",
          "data": {
            "text/plain": [
              "torch.Size([2038, 784])"
            ]
          },
          "metadata": {},
          "execution_count": 61
        }
      ]
    },
    {
      "cell_type": "code",
      "source": [
        "valid_y = tensor([1]*len(valid_3_tensors) + [0]*len(valid_7_tensors)).unsqueeze(1)"
      ],
      "metadata": {
        "id": "uBt7HR2tGaX4"
      },
      "execution_count": null,
      "outputs": []
    },
    {
      "cell_type": "code",
      "source": [
        "valid_y.shape"
      ],
      "metadata": {
        "colab": {
          "base_uri": "https://localhost:8080/"
        },
        "id": "jMMPNKo3GpbO",
        "outputId": "10dcb0fe-3524-4c02-e6ce-af2d2a49656d"
      },
      "execution_count": null,
      "outputs": [
        {
          "output_type": "execute_result",
          "data": {
            "text/plain": [
              "torch.Size([2038, 1])"
            ]
          },
          "metadata": {},
          "execution_count": 65
        }
      ]
    },
    {
      "cell_type": "code",
      "source": [
        "valid_dtset = list(zip(valid_x,valid_y))"
      ],
      "metadata": {
        "id": "1-y5vQ85GrFx"
      },
      "execution_count": null,
      "outputs": []
    },
    {
      "cell_type": "code",
      "source": [
        "valid_dtset[1]"
      ],
      "metadata": {
        "colab": {
          "base_uri": "https://localhost:8080/"
        },
        "id": "grRkYxltG5kw",
        "outputId": "d28e30b1-0756-41e5-b65b-e687f779b27e"
      },
      "execution_count": null,
      "outputs": [
        {
          "output_type": "execute_result",
          "data": {
            "text/plain": [
              "(tensor([0.0000, 0.0000, 0.0000, 0.0000, 0.0000, 0.0000, 0.0000, 0.0000, 0.0000,\n",
              "         0.0000, 0.0000, 0.0000, 0.0000, 0.0000, 0.0000, 0.0000, 0.0000, 0.0000,\n",
              "         0.0000, 0.0000, 0.0000, 0.0000, 0.0000, 0.0000, 0.0000, 0.0000, 0.0000,\n",
              "         0.0000, 0.0000, 0.0000, 0.0000, 0.0000, 0.0000, 0.0000, 0.0000, 0.0000,\n",
              "         0.0000, 0.0000, 0.0000, 0.0000, 0.0000, 0.0000, 0.0000, 0.0000, 0.0000,\n",
              "         0.0000, 0.0000, 0.0000, 0.0000, 0.0000, 0.0000, 0.0000, 0.0000, 0.0000,\n",
              "         0.0000, 0.0000, 0.0000, 0.0000, 0.0000, 0.0000, 0.0000, 0.0000, 0.0000,\n",
              "         0.0000, 0.0000, 0.0000, 0.0000, 0.0000, 0.0000, 0.0000, 0.0000, 0.0000,\n",
              "         0.0000, 0.0000, 0.0000, 0.0000, 0.0000, 0.0000, 0.0000, 0.0000, 0.0000,\n",
              "         0.0000, 0.0000, 0.0000, 0.0000, 0.0000, 0.0000, 0.0000, 0.0000, 0.0000,\n",
              "         0.0000, 0.0000, 0.0000, 0.0000, 0.0000, 0.0000, 0.0000, 0.0000, 0.0000,\n",
              "         0.0000, 0.0000, 0.0000, 0.0000, 0.0000, 0.0000, 0.0000, 0.0000, 0.0000,\n",
              "         0.0000, 0.0000, 0.0000, 0.0000, 0.0000, 0.0000, 0.0000, 0.0000, 0.0000,\n",
              "         0.0000, 0.0000, 0.0000, 0.0510, 0.0000, 0.0000, 0.0000, 0.0000, 0.0000,\n",
              "         0.0000, 0.0000, 0.0000, 0.0000, 0.0000, 0.0000, 0.0000, 0.0000, 0.0000,\n",
              "         0.0000, 0.0000, 0.0000, 0.0000, 0.0000, 0.0000, 0.0000, 0.0000, 0.0000,\n",
              "         0.0000, 0.0000, 0.3216, 0.6627, 0.8118, 0.6627, 0.6627, 0.6627, 0.6667,\n",
              "         0.3686, 0.2235, 0.0275, 0.0000, 0.0000, 0.0000, 0.0000, 0.0000, 0.0000,\n",
              "         0.0000, 0.0000, 0.0000, 0.0000, 0.0000, 0.0000, 0.0000, 0.0000, 0.0000,\n",
              "         0.0000, 0.0000, 0.3216, 0.9412, 0.9882, 0.9922, 0.9882, 0.9882, 0.9882,\n",
              "         0.9922, 0.9882, 0.9882, 0.7961, 0.2980, 0.0000, 0.0000, 0.0000, 0.0000,\n",
              "         0.0000, 0.0000, 0.0000, 0.0000, 0.0000, 0.0000, 0.0000, 0.0000, 0.0000,\n",
              "         0.0000, 0.0000, 0.0000, 0.6627, 0.8392, 0.5451, 0.5490, 0.5451, 0.6941,\n",
              "         0.9882, 0.9922, 0.9882, 0.9882, 0.9882, 0.9804, 0.2941, 0.0000, 0.0000,\n",
              "         0.0000, 0.0000, 0.0000, 0.0000, 0.0000, 0.0000, 0.0000, 0.0000, 0.0000,\n",
              "         0.0000, 0.0000, 0.0000, 0.0000, 0.0000, 0.0000, 0.0000, 0.0000, 0.0000,\n",
              "         0.0000, 0.0000, 0.0000, 0.2980, 0.6275, 0.9922, 1.0000, 0.3294, 0.0000,\n",
              "         0.0000, 0.0000, 0.0000, 0.0000, 0.0000, 0.0000, 0.0000, 0.0000, 0.0000,\n",
              "         0.0000, 0.0000, 0.0000, 0.0000, 0.0000, 0.0000, 0.0000, 0.0000, 0.0000,\n",
              "         0.0000, 0.0000, 0.0000, 0.0000, 0.0510, 0.6745, 0.9882, 0.9922, 0.3294,\n",
              "         0.0000, 0.0000, 0.0000, 0.0000, 0.0000, 0.0000, 0.0000, 0.0000, 0.0000,\n",
              "         0.0000, 0.0000, 0.0000, 0.0000, 0.0000, 0.0000, 0.0000, 0.0000, 0.0000,\n",
              "         0.0000, 0.0000, 0.0000, 0.0000, 0.3843, 0.8196, 0.9882, 0.9882, 0.9059,\n",
              "         0.0745, 0.0000, 0.0000, 0.0000, 0.0000, 0.0000, 0.0000, 0.0000, 0.0000,\n",
              "         0.0000, 0.0000, 0.0000, 0.0000, 0.0000, 0.0000, 0.0000, 0.1020, 0.4431,\n",
              "         0.4431, 0.6392, 0.4431, 0.5882, 0.8824, 0.9922, 0.9882, 0.9882, 0.9882,\n",
              "         0.4902, 0.0000, 0.0000, 0.0000, 0.0000, 0.0000, 0.0000, 0.0000, 0.0000,\n",
              "         0.0000, 0.0000, 0.0000, 0.0000, 0.0000, 0.0000, 0.0000, 0.8000, 0.9922,\n",
              "         0.9922, 0.9922, 0.9961, 0.9922, 0.9922, 0.9922, 0.9961, 0.9922, 0.9922,\n",
              "         0.9922, 0.9961, 0.6980, 0.4078, 0.0627, 0.0000, 0.0000, 0.0000, 0.0000,\n",
              "         0.0000, 0.0000, 0.0000, 0.0000, 0.0000, 0.0000, 0.0000, 0.0000, 0.9922,\n",
              "         0.9882, 0.9882, 0.8902, 0.8941, 0.9882, 0.9137, 0.7686, 0.7725, 0.7686,\n",
              "         0.8431, 0.9882, 0.9922, 0.9882, 0.9882, 0.8431, 0.2000, 0.0000, 0.0000,\n",
              "         0.0000, 0.0000, 0.0000, 0.0000, 0.0000, 0.0000, 0.0000, 0.0000, 0.0000,\n",
              "         0.2706, 0.3647, 0.2196, 0.1216, 0.1216, 0.2196, 0.1451, 0.0000, 0.0000,\n",
              "         0.0000, 0.0745, 0.2196, 0.4667, 0.8784, 0.9882, 0.9882, 0.9686, 0.6745,\n",
              "         0.0745, 0.0000, 0.0000, 0.0000, 0.0000, 0.0000, 0.0000, 0.0000, 0.0000,\n",
              "         0.0000, 0.0000, 0.0000, 0.0000, 0.0000, 0.0000, 0.0000, 0.0000, 0.0000,\n",
              "         0.0000, 0.0000, 0.0000, 0.0000, 0.0000, 0.0745, 0.4039, 0.9882, 0.9922,\n",
              "         0.9882, 0.6118, 0.0000, 0.0000, 0.0000, 0.0000, 0.0000, 0.0000, 0.0000,\n",
              "         0.0000, 0.0000, 0.0000, 0.0000, 0.0000, 0.0000, 0.0000, 0.0000, 0.0000,\n",
              "         0.0000, 0.0000, 0.0000, 0.0000, 0.0000, 0.0000, 0.0000, 0.0000, 0.0000,\n",
              "         0.7020, 0.9922, 0.9922, 0.4039, 0.0000, 0.0000, 0.0000, 0.0000, 0.0000,\n",
              "         0.0000, 0.0000, 0.0000, 0.0000, 0.0000, 0.0000, 0.0000, 0.0000, 0.0000,\n",
              "         0.0000, 0.0000, 0.0000, 0.0000, 0.0000, 0.0000, 0.0000, 0.0000, 0.0000,\n",
              "         0.0000, 0.0392, 0.7686, 0.9882, 0.9882, 0.0000, 0.0000, 0.0000, 0.0000,\n",
              "         0.0000, 0.0000, 0.0000, 0.0000, 0.0000, 0.0000, 0.4078, 0.7725, 0.4941,\n",
              "         0.0000, 0.0000, 0.0000, 0.0000, 0.0000, 0.0000, 0.0000, 0.0000, 0.0000,\n",
              "         0.0000, 0.0000, 0.0000, 0.6627, 0.9882, 0.9882, 0.0000, 0.0000, 0.0000,\n",
              "         0.0000, 0.0000, 0.0000, 0.0000, 0.0000, 0.0000, 0.0000, 0.7725, 0.9882,\n",
              "         0.9804, 0.4902, 0.0000, 0.0000, 0.0000, 0.0000, 0.0000, 0.0000, 0.0000,\n",
              "         0.0000, 0.0000, 0.2000, 0.4941, 0.9529, 0.9882, 0.9882, 0.0000, 0.0000,\n",
              "         0.0000, 0.0000, 0.0000, 0.0000, 0.0000, 0.0000, 0.0000, 0.0000, 0.4941,\n",
              "         0.9804, 0.9961, 0.9922, 0.9922, 0.7961, 0.5529, 0.5529, 0.4078, 0.1137,\n",
              "         0.1608, 0.8471, 0.9922, 0.9922, 0.9961, 0.9922, 0.9569, 0.6863, 0.0000,\n",
              "         0.0000, 0.0000, 0.0000, 0.0000, 0.0000, 0.0000, 0.0000, 0.0000, 0.0000,\n",
              "         0.0000, 0.2941, 0.7961, 0.9882, 0.9882, 0.9882, 0.9922, 0.9882, 0.9882,\n",
              "         0.9882, 0.9922, 0.9882, 0.9882, 0.9882, 0.9922, 0.8392, 0.5098, 0.0000,\n",
              "         0.0000, 0.0000, 0.0000, 0.0000, 0.0000, 0.0000, 0.0000, 0.0000, 0.0000,\n",
              "         0.0000, 0.0000, 0.0000, 0.0275, 0.2196, 0.3686, 0.6588, 0.6588, 0.8784,\n",
              "         0.8784, 0.6588, 0.9922, 0.9882, 0.8784, 0.6588, 0.2196, 0.0745, 0.0000,\n",
              "         0.0000, 0.0000, 0.0000, 0.0000, 0.0000, 0.0000, 0.0000, 0.0000, 0.0000,\n",
              "         0.0000, 0.0000, 0.0000, 0.0000, 0.0000, 0.0000, 0.0000, 0.0000, 0.0000,\n",
              "         0.0745, 0.0745, 0.0000, 0.1098, 0.1098, 0.0745, 0.0000, 0.0000, 0.0000,\n",
              "         0.0000, 0.0000, 0.0000, 0.0000, 0.0000, 0.0000, 0.0000, 0.0000, 0.0000,\n",
              "         0.0000, 0.0000, 0.0000, 0.0000, 0.0000, 0.0000, 0.0000, 0.0000, 0.0000,\n",
              "         0.0000, 0.0000, 0.0000, 0.0000, 0.0000, 0.0000, 0.0000, 0.0000, 0.0000,\n",
              "         0.0000, 0.0000, 0.0000, 0.0000, 0.0000, 0.0000, 0.0000, 0.0000, 0.0000,\n",
              "         0.0000, 0.0000, 0.0000, 0.0000, 0.0000, 0.0000, 0.0000, 0.0000, 0.0000,\n",
              "         0.0000, 0.0000, 0.0000, 0.0000, 0.0000, 0.0000, 0.0000, 0.0000, 0.0000,\n",
              "         0.0000, 0.0000, 0.0000, 0.0000, 0.0000, 0.0000, 0.0000, 0.0000, 0.0000,\n",
              "         0.0000, 0.0000, 0.0000, 0.0000, 0.0000, 0.0000, 0.0000, 0.0000, 0.0000,\n",
              "         0.0000, 0.0000, 0.0000, 0.0000, 0.0000, 0.0000, 0.0000, 0.0000, 0.0000,\n",
              "         0.0000, 0.0000, 0.0000, 0.0000, 0.0000, 0.0000, 0.0000, 0.0000, 0.0000,\n",
              "         0.0000, 0.0000, 0.0000, 0.0000, 0.0000, 0.0000, 0.0000, 0.0000, 0.0000,\n",
              "         0.0000, 0.0000, 0.0000, 0.0000, 0.0000, 0.0000, 0.0000, 0.0000, 0.0000,\n",
              "         0.0000, 0.0000, 0.0000, 0.0000, 0.0000, 0.0000, 0.0000, 0.0000, 0.0000,\n",
              "         0.0000]),\n",
              " tensor([1]))"
            ]
          },
          "metadata": {},
          "execution_count": 67
        }
      ]
    },
    {
      "cell_type": "code",
      "source": [
        "def init_parameters(size, std=1.0): return (torch.randn(size) * std).requires_grad_()"
      ],
      "metadata": {
        "id": "CDhsBIJpG7XE"
      },
      "execution_count": null,
      "outputs": []
    },
    {
      "cell_type": "code",
      "source": [
        "weights = init_parameters((28*28,1))"
      ],
      "metadata": {
        "id": "D--yEfBhHhjf"
      },
      "execution_count": null,
      "outputs": []
    },
    {
      "cell_type": "code",
      "source": [
        "weights.shape"
      ],
      "metadata": {
        "colab": {
          "base_uri": "https://localhost:8080/"
        },
        "id": "5KurWCZUIUBN",
        "outputId": "120d7889-1561-4a9c-99d4-796f28d290f9"
      },
      "execution_count": null,
      "outputs": [
        {
          "output_type": "execute_result",
          "data": {
            "text/plain": [
              "torch.Size([784, 1])"
            ]
          },
          "metadata": {},
          "execution_count": 77
        }
      ]
    },
    {
      "cell_type": "code",
      "source": [
        "bias = init_parameters(1)"
      ],
      "metadata": {
        "id": "lEOVuRQfIsKe"
      },
      "execution_count": null,
      "outputs": []
    },
    {
      "cell_type": "code",
      "source": [
        "bias"
      ],
      "metadata": {
        "colab": {
          "base_uri": "https://localhost:8080/"
        },
        "id": "jtzLxUJjI7B1",
        "outputId": "f486357e-cee4-4e4c-8b03-247e45f6432e"
      },
      "execution_count": null,
      "outputs": [
        {
          "output_type": "execute_result",
          "data": {
            "text/plain": [
              "tensor([-0.0928], requires_grad=True)"
            ]
          },
          "metadata": {},
          "execution_count": 79
        }
      ]
    },
    {
      "cell_type": "code",
      "source": [
        "(train_x[0] *weights.T).sum() + bias"
      ],
      "metadata": {
        "colab": {
          "base_uri": "https://localhost:8080/"
        },
        "id": "3NwG8oVNI7gX",
        "outputId": "7763848a-530a-48cd-d7ac-26995fca8bb5"
      },
      "execution_count": null,
      "outputs": [
        {
          "output_type": "execute_result",
          "data": {
            "text/plain": [
              "tensor([12.2680], grad_fn=<AddBackward0>)"
            ]
          },
          "metadata": {},
          "execution_count": 80
        }
      ]
    },
    {
      "cell_type": "code",
      "source": [
        "def linear1(xb): return xb@weights + bias"
      ],
      "metadata": {
        "id": "o-eorSvwJHJq"
      },
      "execution_count": null,
      "outputs": []
    },
    {
      "cell_type": "code",
      "source": [
        "preds = linear1(train_x)"
      ],
      "metadata": {
        "id": "NiuqIzdJJQ15"
      },
      "execution_count": null,
      "outputs": []
    },
    {
      "cell_type": "code",
      "source": [
        "((preds>0.0).float()==train_y).float().mean().item()"
      ],
      "metadata": {
        "colab": {
          "base_uri": "https://localhost:8080/"
        },
        "id": "YydssgphJS6K",
        "outputId": "236c8b05-89fc-401b-b4cb-b1f64c1b5ff5"
      },
      "execution_count": null,
      "outputs": [
        {
          "output_type": "execute_result",
          "data": {
            "text/plain": [
              "0.6258470416069031"
            ]
          },
          "metadata": {},
          "execution_count": 86
        }
      ]
    },
    {
      "cell_type": "code",
      "source": [
        "def mnist_loss(preds, targets): return torch.where(targets==1, 1-preds, preds)"
      ],
      "metadata": {
        "id": "2beWItoWJwIl"
      },
      "execution_count": null,
      "outputs": []
    },
    {
      "cell_type": "code",
      "source": [
        "import torch\n",
        "import matplotlib.pyplot as plt\n",
        "\n",
        "def plot_function(f, title='', min=-5, max=5, step=0.1):\n",
        "    x = torch.arange(min, max, step)\n",
        "    y = f(x)\n",
        "    plt.plot(x.numpy(), y.numpy())\n",
        "    plt.title(title)\n",
        "    plt.grid(True)\n",
        "    plt.xlabel(\"x\")\n",
        "    plt.ylabel(\"f(x)\")\n",
        "    plt.show()\n"
      ],
      "metadata": {
        "id": "Um29m0BRLhA9"
      },
      "execution_count": null,
      "outputs": []
    },
    {
      "cell_type": "code",
      "source": [
        "coll = range(15)\n",
        "from fastai.data.load import DataLoader\n",
        "dl = DataLoader(coll, batch_size=5, shuffle=True)\n"
      ],
      "metadata": {
        "id": "fkBjKc_ALVWz"
      },
      "execution_count": null,
      "outputs": []
    },
    {
      "cell_type": "code",
      "source": [],
      "metadata": {
        "id": "7636fex-_mr0"
      },
      "execution_count": null,
      "outputs": []
    },
    {
      "cell_type": "code",
      "source": [
        "plot_function(torch.sigmoid, title = 'sigmoid', min=-4, max=4)"
      ],
      "metadata": {
        "colab": {
          "base_uri": "https://localhost:8080/",
          "height": 472
        },
        "id": "hQxNFVRPKQuJ",
        "outputId": "f66e94ec-01ce-48d2-91f4-0c289abf3d31"
      },
      "execution_count": null,
      "outputs": [
        {
          "output_type": "display_data",
          "data": {
            "text/plain": [
              "<Figure size 640x480 with 1 Axes>"
            ],
            "image/png": "[encoded data removed]"
          },
          "metadata": {}
        }
      ]
    },
    {
      "cell_type": "markdown",
      "source": [
        "# full MNIST dataset"
      ],
      "metadata": {
        "id": "eI9LNhi65tXt"
      }
    },
    {
      "cell_type": "code",
      "source": [
        "from fastai.data.external import untar_data, URLs\n",
        "\n",
        "path = untar_data(URLs.MNIST)"
      ],
      "metadata": {
        "id": "ZOg0kT41_nz0",
        "colab": {
          "base_uri": "https://localhost:8080/",
          "height": 37
        },
        "outputId": "810a03ee-d9de-4d94-beca-ddf8fbf32aca"
      },
      "execution_count": 2,
      "outputs": [
        {
          "output_type": "display_data",
          "data": {
            "text/plain": [
              "<IPython.core.display.HTML object>"
            ],
            "text/html": [
              "\n",
              "<style>\n",
              "    /* Turns off some styling */\n",
              "    progress {\n",
              "        /* gets rid of default border in Firefox and Opera. */\n",
              "        border: none;\n",
              "        /* Needs to be in here for Safari polyfill so background images work as expected. */\n",
              "        background-size: auto;\n",
              "    }\n",
              "    progress:not([value]), progress:not([value])::-webkit-progress-bar {\n",
              "        background: repeating-linear-gradient(45deg, #7e7e7e, #7e7e7e 10px, #5c5c5c 10px, #5c5c5c 20px);\n",
              "    }\n",
              "    .progress-bar-interrupted, .progress-bar-interrupted::-webkit-progress-bar {\n",
              "        background: #F44336;\n",
              "    }\n",
              "</style>\n"
            ]
          },
          "metadata": {}
        },
        {
          "output_type": "display_data",
          "data": {
            "text/plain": [
              "<IPython.core.display.HTML object>"
            ],
            "text/html": [
              "\n",
              "    <div>\n",
              "      <progress value='15687680' class='' max='15683414' style='width:300px; height:20px; vertical-align: middle;'></progress>\n",
              "      100.03% [15687680/15683414 00:00&lt;00:00]\n",
              "    </div>\n",
              "    "
            ]
          },
          "metadata": {}
        }
      ]
    },
    {
      "cell_type": "code",
      "source": [
        "path.ls()"
      ],
      "metadata": {
        "colab": {
          "base_uri": "https://localhost:8080/"
        },
        "id": "tzITGZ2d6QKp",
        "outputId": "aff063e9-9b74-49f6-f3e5-4334a960a189"
      },
      "execution_count": 3,
      "outputs": [
        {
          "output_type": "execute_result",
          "data": {
            "text/plain": [
              "(#2) [Path('/root/.fastai/data/mnist_png/training'),Path('/root/.fastai/data/mnist_png/testing')]"
            ]
          },
          "metadata": {},
          "execution_count": 3
        }
      ]
    },
    {
      "cell_type": "code",
      "source": [
        "(path/'/root/.fastai/data/mnist_png/training').ls()"
      ],
      "metadata": {
        "colab": {
          "base_uri": "https://localhost:8080/"
        },
        "id": "nAq3I2hC6ccZ",
        "outputId": "11e72845-abce-4fe5-bab7-9df5f379fd52"
      },
      "execution_count": 4,
      "outputs": [
        {
          "output_type": "execute_result",
          "data": {
            "text/plain": [
              "(#10) [Path('/root/.fastai/data/mnist_png/training/8'),Path('/root/.fastai/data/mnist_png/training/6'),Path('/root/.fastai/data/mnist_png/training/7'),Path('/root/.fastai/data/mnist_png/training/5'),Path('/root/.fastai/data/mnist_png/training/2'),Path('/root/.fastai/data/mnist_png/training/3'),Path('/root/.fastai/data/mnist_png/training/0'),Path('/root/.fastai/data/mnist_png/training/9'),Path('/root/.fastai/data/mnist_png/training/1'),Path('/root/.fastai/data/mnist_png/training/4')]"
            ]
          },
          "metadata": {},
          "execution_count": 4
        }
      ]
    },
    {
      "cell_type": "code",
      "source": [
        "zeros = (path/'/root/.fastai/data/mnist_png/training/0').ls()\n",
        "ones = (path/'/root/.fastai/data/mnist_png/training/1').ls()\n",
        "twos = (path/'/root/.fastai/data/mnist_png/training/2').ls()\n",
        "threes = (path/'/root/.fastai/data/mnist_png/training/3').ls()\n",
        "fours = (path/'/root/.fastai/data/mnist_png/training/4').ls()\n",
        "fives = (path/'/root/.fastai/data/mnist_png/training/5').ls()\n",
        "sixes = (path/'/root/.fastai/data/mnist_png/training/6').ls()\n",
        "sevens = (path/'/root/.fastai/data/mnist_png/training/7').ls()\n",
        "eights = (path/'/root/.fastai/data/mnist_png/training/8').ls()\n",
        "nines = (path/'/root/.fastai/data/mnist_png/training/9').ls()"
      ],
      "metadata": {
        "id": "OUWzz6i_6rhA"
      },
      "execution_count": 5,
      "outputs": []
    },
    {
      "cell_type": "code",
      "source": [
        "from PIL import Image\n",
        "Image.open(zeros[0])"
      ],
      "metadata": {
        "colab": {
          "base_uri": "https://localhost:8080/",
          "height": 45
        },
        "id": "vPltMntL7E-d",
        "outputId": "dbecf100-5a39-4f7e-d557-5e0d3457f420"
      },
      "execution_count": 6,
      "outputs": [
        {
          "output_type": "execute_result",
          "data": {
            "text/plain": [
              "<PIL.PngImagePlugin.PngImageFile image mode=L size=28x28>"
            ],
            "image/png": "[encoded data removed]",
            "image/jpeg": "[encoded data removed]"
          },
          "metadata": {},
          "execution_count": 6
        }
      ]
    },
    {
      "cell_type": "code",
      "source": [],
      "metadata": {
        "id": "7BkEeYZS7yzI"
      },
      "execution_count": 6,
      "outputs": []
    },
    {
      "cell_type": "code",
      "source": [
        "from torchvision.transforms import ToTensor\n",
        "zeros_tensors = [ToTensor()(Image.open(o)) for o in zeros]\n",
        "ones_tensors = [ToTensor()(Image.open(o)) for o in ones]\n",
        "twos_tensors = [ToTensor()(Image.open(o)) for o in twos]\n",
        "threes_tensors = [ToTensor()(Image.open(o)) for o in threes]\n",
        "fours_tensors = [ToTensor()(Image.open(o)) for o in fours]\n",
        "fives_tensors = [ToTensor()(Image.open(o)) for o in fives]\n",
        "sixes_tensors = [ToTensor()(Image.open(o)) for o in sixes]\n",
        "sevens_tensors = [ToTensor()(Image.open(o)) for o in sevens]\n",
        "eights_tensors = [ToTensor()(Image.open(o)) for o in eights]\n",
        "nines_tensors = [ToTensor()(Image.open(o)) for o in nines]"
      ],
      "metadata": {
        "id": "jPgneOPjATZJ"
      },
      "execution_count": 7,
      "outputs": []
    },
    {
      "cell_type": "code",
      "source": [
        "import torch\n",
        "zeros_stack = torch.stack(zeros_tensors)\n",
        "ones_stack = torch.stack(ones_tensors)\n",
        "twos_stack = torch.stack(twos_tensors)\n",
        "threes_stack = torch.stack(threes_tensors)\n",
        "fours_stack = torch.stack(fours_tensors)\n",
        "fives_stack = torch.stack(fives_tensors)\n",
        "sixes_stack = torch.stack(sixes_tensors)\n",
        "sevens_stack = torch.stack(sevens_tensors)\n",
        "eights_stack = torch.stack(eights_tensors)\n",
        "nines_stack = torch.stack(nines_tensors)"
      ],
      "metadata": {
        "id": "PUYje_HA-2nZ"
      },
      "execution_count": 8,
      "outputs": []
    },
    {
      "cell_type": "code",
      "source": [
        "all_digits_stacked = [zeros_stack,ones_stack,twos_stack,threes_stack,fours_stack,fives_stack,sixes_stack,sevens_stack,eights_stack,nines_stack]"
      ],
      "metadata": {
        "id": "7k8R8JbaCYzv"
      },
      "execution_count": 9,
      "outputs": []
    },
    {
      "cell_type": "code",
      "source": [
        "from torch import tensor\n",
        "train_x = torch.cat(all_digits_stacked).view(-1,28*28)\n",
        "train_y = tensor([0]*len(zeros_tensors) + [1]*len(ones_tensors) + [2]*len(twos_tensors) + [3]*len(threes_tensors) + [4] *len(fours_tensors) + [5]*len(fives_tensors) + [6]*len(sixes_tensors)+ [7]*len(sevens_tensors) + [8]*len(eights_tensors) + [9]*len(nines_tensors))"
      ],
      "metadata": {
        "id": "wZl64LpkAwBZ"
      },
      "execution_count": 10,
      "outputs": []
    },
    {
      "cell_type": "code",
      "source": [
        "# import torch.nn.functional as F\n",
        "# train_y_onehot = F.one_hot(train_y.squeeze(), num_classes=10).float()"
      ],
      "metadata": {
        "id": "gwslQixyoKuC"
      },
      "execution_count": 11,
      "outputs": []
    },
    {
      "cell_type": "code",
      "source": [
        "# train_y_onehot.shape"
      ],
      "metadata": {
        "id": "7IVXu2rUodDO"
      },
      "execution_count": 12,
      "outputs": []
    },
    {
      "cell_type": "code",
      "source": [
        "train_x.shape"
      ],
      "metadata": {
        "colab": {
          "base_uri": "https://localhost:8080/"
        },
        "id": "ILUu9NR3CKxW",
        "outputId": "844a9dcf-1639-497b-b738-75ed979b7a3d"
      },
      "execution_count": 13,
      "outputs": [
        {
          "output_type": "execute_result",
          "data": {
            "text/plain": [
              "torch.Size([60000, 784])"
            ]
          },
          "metadata": {},
          "execution_count": 13
        }
      ]
    },
    {
      "cell_type": "code",
      "source": [
        "train_y.shape"
      ],
      "metadata": {
        "colab": {
          "base_uri": "https://localhost:8080/"
        },
        "id": "LZJDffGAGB0w",
        "outputId": "9266c834-6d30-44ec-86c1-d9f542a4cd2f"
      },
      "execution_count": 14,
      "outputs": [
        {
          "output_type": "execute_result",
          "data": {
            "text/plain": [
              "torch.Size([60000])"
            ]
          },
          "metadata": {},
          "execution_count": 14
        }
      ]
    },
    {
      "cell_type": "code",
      "source": [
        "train_x[0].shape"
      ],
      "metadata": {
        "colab": {
          "base_uri": "https://localhost:8080/"
        },
        "id": "dK4-6KqPGMRE",
        "outputId": "d87fb26a-9bc5-4ed6-acad-8b22e05d12a5"
      },
      "execution_count": 15,
      "outputs": [
        {
          "output_type": "execute_result",
          "data": {
            "text/plain": [
              "torch.Size([784])"
            ]
          },
          "metadata": {},
          "execution_count": 15
        }
      ]
    },
    {
      "cell_type": "markdown",
      "source": [
        "we have training_data (train_x, train_y)\n",
        "we need testing data as well.\n",
        "\n",
        "1. we should create dataloaders\n",
        "2. mini-batches\n",
        "3. SGD\n",
        "4. epochs\n",
        "\n",
        "-------------------------\n",
        "define the model.\n",
        "\n",
        "gradient descent method:\n",
        "1. initialize parameters\n",
        "2. predict\n",
        "3. calculate loss\n",
        "4. calculate gradients\n",
        "5. step (update parameters)\n",
        "6. repeat\n",
        "7. stop\n"
      ],
      "metadata": {
        "id": "JGuwOo-aHQ49"
      }
    },
    {
      "cell_type": "markdown",
      "source": [
        "# First Iteration"
      ],
      "metadata": {
        "id": "pvSEu4sNY6tf"
      }
    },
    {
      "cell_type": "markdown",
      "source": [
        "**batch size - 256**\n",
        "\n",
        "**neurons in hidden layer - 128->10**\n",
        "\n",
        "**2 layer nn**\n",
        "\n",
        "**learning rate -0.1**\n",
        "\n",
        "**validation data - 0.2**"
      ],
      "metadata": {
        "id": "FslDqxarXW_N"
      }
    },
    {
      "cell_type": "code",
      "source": [
        "from fastai.vision.all import *"
      ],
      "metadata": {
        "id": "mQpjsL4TNyid"
      },
      "execution_count": 16,
      "outputs": []
    },
    {
      "cell_type": "markdown",
      "source": [
        "define loss function\n"
      ],
      "metadata": {
        "id": "sPUvML2VNvwU"
      }
    },
    {
      "cell_type": "code",
      "source": [
        "import torch.nn as nn\n",
        "\n",
        "def mnist_loss(preds, targets):\n",
        "  criterion = nn.CrossEntropyLoss()\n",
        "  return criterion(preds, targets)"
      ],
      "metadata": {
        "id": "lFhxKO3INzov"
      },
      "execution_count": 17,
      "outputs": []
    },
    {
      "cell_type": "code",
      "source": [
        "import torch.nn.functional as F\n",
        "\n",
        "def init_parameters(size,std=1.0):\n",
        "  return (torch.randn(size)*std).requires_grad_()\n",
        "\n",
        "w1 = init_parameters((28*28,128))\n",
        "b1 = init_parameters((128))\n",
        "w2 = init_parameters((128,10))\n",
        "b2 = init_parameters(10)\n",
        "\n",
        "\n",
        "\n",
        "def simple_net_model(xb):\n",
        "  res = xb @ w1 + b1\n",
        "  res = F.relu(res)\n",
        "  res = res @ w2 + b2\n",
        "  return res\n",
        "\n"
      ],
      "metadata": {
        "id": "4Cx0MosaGW_q"
      },
      "execution_count": 18,
      "outputs": []
    },
    {
      "cell_type": "code",
      "source": [
        "from fastai.data.load import DataLoader\n",
        "from torch.utils.data import random_split\n",
        "\n",
        "ds = list(zip(train_x,train_y))\n",
        "train_len = int(0.8*len(ds))\n",
        "valid_len = len(ds) - train_len\n",
        "train_ds, valid_ds = random_split(ds, [train_len,valid_len])\n",
        "\n",
        "\n",
        "train_dls = DataLoader(\n",
        "    train_ds,\n",
        "    bs = 256,\n",
        "    shuffle=True,\n",
        "    drop_last=True,\n",
        "\n",
        ")\n",
        "valid_dls = DataLoader(\n",
        "    valid_ds,\n",
        "    bs=256,\n",
        "    shuffle=True,\n",
        "    drop_last=True\n",
        ")"
      ],
      "metadata": {
        "id": "rmzkNXWAQg5V"
      },
      "execution_count": 19,
      "outputs": []
    },
    {
      "cell_type": "code",
      "source": [
        "len(valid_ds)"
      ],
      "metadata": {
        "colab": {
          "base_uri": "https://localhost:8080/"
        },
        "id": "GWoUYZwZutF8",
        "outputId": "3f70fa53-86dc-4549-bf8d-285438f26afa"
      },
      "execution_count": 20,
      "outputs": [
        {
          "output_type": "execute_result",
          "data": {
            "text/plain": [
              "12000"
            ]
          },
          "metadata": {},
          "execution_count": 20
        }
      ]
    },
    {
      "cell_type": "markdown",
      "source": [
        "### Sample batch"
      ],
      "metadata": {
        "id": "dNGb2vWgfYPv"
      }
    },
    {
      "cell_type": "code",
      "source": [
        "xb,yb = first(dls)"
      ],
      "metadata": {
        "id": "OZaqVOJtSMN2"
      },
      "execution_count": null,
      "outputs": []
    },
    {
      "cell_type": "code",
      "source": [
        "yb = yb.squeeze(1)"
      ],
      "metadata": {
        "id": "jEG4Co49SOgM"
      },
      "execution_count": null,
      "outputs": []
    },
    {
      "cell_type": "code",
      "source": [
        "res = simple_net_model(xb)"
      ],
      "metadata": {
        "id": "PX4D5x82Snm1"
      },
      "execution_count": null,
      "outputs": []
    },
    {
      "cell_type": "code",
      "source": [
        "res.shape"
      ],
      "metadata": {
        "colab": {
          "base_uri": "https://localhost:8080/"
        },
        "id": "XW91QEGJUMR2",
        "outputId": "dcc7f073-b900-432e-fb64-6b9774aa389e"
      },
      "execution_count": null,
      "outputs": [
        {
          "output_type": "execute_result",
          "data": {
            "text/plain": [
              "torch.Size([512, 10])"
            ]
          },
          "metadata": {},
          "execution_count": 71
        }
      ]
    },
    {
      "cell_type": "code",
      "source": [
        "res"
      ],
      "metadata": {
        "colab": {
          "base_uri": "https://localhost:8080/"
        },
        "id": "GYSmFZBjUNyK",
        "outputId": "a0259481-eced-4192-f5af-94c89349f14f"
      },
      "execution_count": null,
      "outputs": [
        {
          "output_type": "execute_result",
          "data": {
            "text/plain": [
              "tensor([[  31.4630,  -25.2580, -152.4645,  ...,  -23.9729,  -51.7128,\n",
              "          -41.6734],\n",
              "        [ -23.7740,   14.2651,  -61.4093,  ...,  -12.0240, -101.0313,\n",
              "            3.2538],\n",
              "        [   1.2999,  -30.9505, -114.1091,  ...,   38.5006,  -76.0153,\n",
              "           -8.6094],\n",
              "        ...,\n",
              "        [ -63.3201,    6.5856, -126.2909,  ...,  -72.3750, -120.4562,\n",
              "           14.7107],\n",
              "        [  17.7572,  -22.0854,  -72.2498,  ...,  -61.5092,  -78.3192,\n",
              "           11.7325],\n",
              "        [   9.0785,    1.6489, -189.4030,  ...,   -1.4991,  -88.1430,\n",
              "          -57.8350]], grad_fn=<AddBackward0>)"
            ]
          },
          "metadata": {},
          "execution_count": 72
        }
      ]
    },
    {
      "cell_type": "code",
      "source": [
        "loss = mnist_loss(res, yb)\n",
        "loss"
      ],
      "metadata": {
        "colab": {
          "base_uri": "https://localhost:8080/"
        },
        "id": "OMeT82kbUOgB",
        "outputId": "57ab954e-f2f4-4cf8-8216-48e4fe733d02"
      },
      "execution_count": null,
      "outputs": [
        {
          "output_type": "execute_result",
          "data": {
            "text/plain": [
              "tensor(98.5975, grad_fn=<NllLossBackward0>)"
            ]
          },
          "metadata": {},
          "execution_count": 73
        }
      ]
    },
    {
      "cell_type": "code",
      "source": [
        "loss.backward()"
      ],
      "metadata": {
        "id": "C4oLrc6XUdPO"
      },
      "execution_count": null,
      "outputs": []
    },
    {
      "cell_type": "code",
      "source": [
        "w1.grad.shape, w1.grad.mean(), b1.grad"
      ],
      "metadata": {
        "colab": {
          "base_uri": "https://localhost:8080/"
        },
        "id": "AjS5UrjzU9t2",
        "outputId": "fa692892-a2ae-4b56-eebe-17787a759950"
      },
      "execution_count": null,
      "outputs": [
        {
          "output_type": "execute_result",
          "data": {
            "text/plain": [
              "(torch.Size([784, 128]),\n",
              " tensor(0.0190),\n",
              " tensor([-0.1052,  0.9909, -0.3247,  0.5931,  0.1592,  0.3908,  0.3065,  0.0762,\n",
              "          0.6013,  0.0140,  0.0103,  0.1351, -0.6762,  0.6282,  0.0291,  0.7181,\n",
              "         -0.0173,  0.3388,  0.0793, -0.2547,  0.0096, -0.0615,  0.0224, -0.1828,\n",
              "          0.9881,  0.0469, -0.0355,  0.3990, -0.6575, -0.0560,  0.7028,  0.0288,\n",
              "          0.8025,  0.0515,  0.4756, -0.0177, -0.1456,  0.1912,  0.3800,  0.3022,\n",
              "         -0.0666,  0.0036,  0.0299,  0.1049,  0.5522,  0.4913,  0.2586, -0.1912,\n",
              "          0.3990,  0.5030, -0.1753,  1.0848, -0.0724,  0.4740, -0.1816,  0.0119,\n",
              "          0.0411,  0.1543,  0.1535, -0.2382,  0.2960,  0.7033, -0.1072,  0.2896,\n",
              "         -0.0043, -0.2867,  0.7857,  0.7344,  0.2177, -0.5760, -0.4702,  0.1501,\n",
              "         -0.2762, -0.0274,  0.4489,  0.2648,  0.2851,  0.4971, -0.8483, -0.0960,\n",
              "          1.3834,  0.1455,  0.4489, -0.0173, -0.2818, -0.0166,  0.2675, -0.0202,\n",
              "          0.5433,  0.7706, -0.4364, -0.0394, -0.1442, -0.1154,  0.2874, -0.0292,\n",
              "         -0.0545,  0.6116,  0.0087, -0.0081,  0.1302,  0.0587,  0.0143,  0.5359,\n",
              "          0.3060, -0.0812, -0.0432, -0.4102,  0.0654,  1.1048, -0.4252,  0.1749,\n",
              "          0.0179,  0.4506, -0.1063,  0.2212,  0.7954,  0.1546,  0.7054, -0.8841,\n",
              "          0.0055, -0.0506, -0.2617, -0.2248, -0.4437,  0.2632,  0.6332, -0.0510]))"
            ]
          },
          "metadata": {},
          "execution_count": 75
        }
      ]
    },
    {
      "cell_type": "code",
      "source": [],
      "metadata": {
        "id": "Hn1CQBeOVC-F"
      },
      "execution_count": null,
      "outputs": []
    },
    {
      "cell_type": "code",
      "source": [],
      "metadata": {
        "id": "fXorpGN8g_9i"
      },
      "execution_count": null,
      "outputs": []
    },
    {
      "cell_type": "markdown",
      "source": [
        "### Full training"
      ],
      "metadata": {
        "id": "HzQUpY7RhCfB"
      }
    },
    {
      "cell_type": "code",
      "source": [
        "def calc_grad(xb,yb,model):\n",
        "  preds = model(xb)\n",
        "  loss = mnist_loss(preds,yb)\n",
        "  loss.backward()\n"
      ],
      "metadata": {
        "id": "_leGLV28iPQ9"
      },
      "execution_count": 21,
      "outputs": []
    },
    {
      "cell_type": "code",
      "source": [
        "class BasicOptimizer:\n",
        "  def __init__(self,params,lr) -> None:\n",
        "    self.params = list(params)\n",
        "    self.lr = lr\n",
        "  def step(self,*args, **kwargs):\n",
        "    for p in self.params:\n",
        "      p.data -= p.grad.data *self.lr\n",
        "  def zero_grad(self,*args, **kwargs):\n",
        "    for p in self.params:\n",
        "      p.grad = None\n",
        "\n",
        "\n",
        "\n",
        "params = [w1,b1,w2,b2]\n",
        "lr=0.1\n",
        "opt = BasicOptimizer(params,lr)\n",
        "def train_epoch(model):\n",
        "\n",
        "  for xb,yb in train_dls:\n",
        "    calc_grad(xb,yb,model)\n",
        "    opt.step()\n",
        "    opt.zero_grad()\n",
        "\n",
        "\n",
        "\n",
        "\n"
      ],
      "metadata": {
        "id": "gQgkIzgchFWx"
      },
      "execution_count": 22,
      "outputs": []
    },
    {
      "cell_type": "code",
      "source": [
        "def batch_accuracy(logits, yb):\n",
        "    \"\"\"\n",
        "    logits: Tensor of shape [batch_size, 10], raw model outputs\n",
        "    yb:     Tensor of shape [batch_size], integer labels 0–9\n",
        "    \"\"\"\n",
        "    # 1) predicted class is the index with highest logit\n",
        "    preds = logits.argmax(dim=1)        # shape [batch_size]\n",
        "\n",
        "    # 2) compare to ground truth\n",
        "    correct = (preds == yb)             # boolean tensor [batch_size]\n",
        "\n",
        "    # 3) convert to float and average\n",
        "    return correct.float().mean()\n",
        "\n",
        "def validate_epoch(model):\n",
        "  accs = [batch_accuracy(model(xb),yb) for xb,yb in valid_dls]\n",
        "  return round(torch.stack(accs).float().mean().item(),4)\n",
        "\n",
        "\n",
        "def train_model(epochs, model):\n",
        "  for i in range(epochs):\n",
        "    train_epoch(model)\n",
        "    print(validate_epoch(model), end= ' ')\n"
      ],
      "metadata": {
        "id": "UCMc5EOZjehZ"
      },
      "execution_count": 23,
      "outputs": []
    },
    {
      "cell_type": "code",
      "source": [
        "train_model(40, simple_net_model)"
      ],
      "metadata": {
        "colab": {
          "base_uri": "https://localhost:8080/"
        },
        "id": "llvWo0ctjms6",
        "outputId": "fa5910e1-e610-40c1-ff9b-baaf3105cf95"
      },
      "execution_count": 24,
      "outputs": [
        {
          "output_type": "stream",
          "name": "stdout",
          "text": [
            "0.8314 0.8587 0.8716 0.8833 0.8832 0.8882 0.8871 0.8953 0.8854 0.8922 0.9032 0.9009 0.8854 0.9041 0.9071 0.9058 0.9068 0.9131 0.9096 0.9111 0.9142 0.9153 0.9092 0.9081 0.917 0.9125 0.9046 0.9169 0.9181 0.919 0.9132 0.92 0.9196 0.9222 0.9197 0.9184 0.9176 0.9243 0.9197 0.9226 "
          ]
        }
      ]
    },
    {
      "cell_type": "markdown",
      "source": [
        "# Second Iteration"
      ],
      "metadata": {
        "id": "2zSf9ca1YykQ"
      }
    },
    {
      "cell_type": "markdown",
      "source": [
        "1. 3 layer\n",
        "2. hidden units/neurons -> 256->128->10\n",
        "3. batch size - 256\n",
        "4. learning rate - 0.1\n"
      ],
      "metadata": {
        "id": "6d_5GDu-bBp9"
      }
    },
    {
      "cell_type": "code",
      "source": [
        "simple_net = nn.Sequential(\n",
        "    nn.Linear(28*28,256),\n",
        "    nn.ReLU(),\n",
        "    nn.Linear(256,128),\n",
        "    nn.ReLU(),\n",
        "    nn.Linear(128,10)\n",
        ")"
      ],
      "metadata": {
        "id": "F7G_KOpXsbVt"
      },
      "execution_count": 25,
      "outputs": []
    },
    {
      "cell_type": "code",
      "source": [
        "dls_full = DataLoaders(train_dls, valid_dls)"
      ],
      "metadata": {
        "id": "ZEBNgPmPvyO8"
      },
      "execution_count": 26,
      "outputs": []
    },
    {
      "cell_type": "code",
      "source": [
        "learn = Learner(dls_full, simple_net, opt_func=SGD, loss_func=mnist_loss,metrics=batch_accuracy)\n",
        "learn.fit(40,0.1)"
      ],
      "metadata": {
        "colab": {
          "base_uri": "https://localhost:8080/",
          "height": 1000
        },
        "id": "qm4MXmt4uGEU",
        "outputId": "335a8799-04e6-4c14-fd6a-cce6051b447d"
      },
      "execution_count": 27,
      "outputs": [
        {
          "output_type": "display_data",
          "data": {
            "text/plain": [
              "<IPython.core.display.HTML object>"
            ],
            "text/html": [
              "\n",
              "<style>\n",
              "    /* Turns off some styling */\n",
              "    progress {\n",
              "        /* gets rid of default border in Firefox and Opera. */\n",
              "        border: none;\n",
              "        /* Needs to be in here for Safari polyfill so background images work as expected. */\n",
              "        background-size: auto;\n",
              "    }\n",
              "    progress:not([value]), progress:not([value])::-webkit-progress-bar {\n",
              "        background: repeating-linear-gradient(45deg, #7e7e7e, #7e7e7e 10px, #5c5c5c 10px, #5c5c5c 20px);\n",
              "    }\n",
              "    .progress-bar-interrupted, .progress-bar-interrupted::-webkit-progress-bar {\n",
              "        background: #F44336;\n",
              "    }\n",
              "</style>\n"
            ]
          },
          "metadata": {}
        },
        {
          "output_type": "display_data",
          "data": {
            "text/plain": [
              "<IPython.core.display.HTML object>"
            ],
            "text/html": [
              "<table border=\"1\" class=\"dataframe\">\n",
              "  <thead>\n",
              "    <tr style=\"text-align: left;\">\n",
              "      <th>epoch</th>\n",
              "      <th>train_loss</th>\n",
              "      <th>valid_loss</th>\n",
              "      <th>batch_accuracy</th>\n",
              "      <th>time</th>\n",
              "    </tr>\n",
              "  </thead>\n",
              "  <tbody>\n",
              "    <tr>\n",
              "      <td>0</td>\n",
              "      <td>0.671517</td>\n",
              "      <td>0.464733</td>\n",
              "      <td>0.868207</td>\n",
              "      <td>00:01</td>\n",
              "    </tr>\n",
              "    <tr>\n",
              "      <td>1</td>\n",
              "      <td>0.363887</td>\n",
              "      <td>0.337823</td>\n",
              "      <td>0.900815</td>\n",
              "      <td>00:01</td>\n",
              "    </tr>\n",
              "    <tr>\n",
              "      <td>2</td>\n",
              "      <td>0.290792</td>\n",
              "      <td>0.281029</td>\n",
              "      <td>0.919497</td>\n",
              "      <td>00:01</td>\n",
              "    </tr>\n",
              "    <tr>\n",
              "      <td>3</td>\n",
              "      <td>0.265236</td>\n",
              "      <td>0.251202</td>\n",
              "      <td>0.929093</td>\n",
              "      <td>00:02</td>\n",
              "    </tr>\n",
              "    <tr>\n",
              "      <td>4</td>\n",
              "      <td>0.223415</td>\n",
              "      <td>0.221677</td>\n",
              "      <td>0.935632</td>\n",
              "      <td>00:01</td>\n",
              "    </tr>\n",
              "    <tr>\n",
              "      <td>5</td>\n",
              "      <td>0.200381</td>\n",
              "      <td>0.200820</td>\n",
              "      <td>0.943274</td>\n",
              "      <td>00:01</td>\n",
              "    </tr>\n",
              "    <tr>\n",
              "      <td>6</td>\n",
              "      <td>0.175732</td>\n",
              "      <td>0.182203</td>\n",
              "      <td>0.947181</td>\n",
              "      <td>00:01</td>\n",
              "    </tr>\n",
              "    <tr>\n",
              "      <td>7</td>\n",
              "      <td>0.159894</td>\n",
              "      <td>0.173119</td>\n",
              "      <td>0.950493</td>\n",
              "      <td>00:01</td>\n",
              "    </tr>\n",
              "    <tr>\n",
              "      <td>8</td>\n",
              "      <td>0.151886</td>\n",
              "      <td>0.158360</td>\n",
              "      <td>0.952615</td>\n",
              "      <td>00:01</td>\n",
              "    </tr>\n",
              "    <tr>\n",
              "      <td>9</td>\n",
              "      <td>0.137609</td>\n",
              "      <td>0.145314</td>\n",
              "      <td>0.958815</td>\n",
              "      <td>00:02</td>\n",
              "    </tr>\n",
              "    <tr>\n",
              "      <td>10</td>\n",
              "      <td>0.122897</td>\n",
              "      <td>0.142615</td>\n",
              "      <td>0.958560</td>\n",
              "      <td>00:02</td>\n",
              "    </tr>\n",
              "    <tr>\n",
              "      <td>11</td>\n",
              "      <td>0.118850</td>\n",
              "      <td>0.136660</td>\n",
              "      <td>0.960853</td>\n",
              "      <td>00:01</td>\n",
              "    </tr>\n",
              "    <tr>\n",
              "      <td>12</td>\n",
              "      <td>0.101687</td>\n",
              "      <td>0.126555</td>\n",
              "      <td>0.963400</td>\n",
              "      <td>00:01</td>\n",
              "    </tr>\n",
              "    <tr>\n",
              "      <td>13</td>\n",
              "      <td>0.100085</td>\n",
              "      <td>0.122019</td>\n",
              "      <td>0.965523</td>\n",
              "      <td>00:01</td>\n",
              "    </tr>\n",
              "    <tr>\n",
              "      <td>14</td>\n",
              "      <td>0.090912</td>\n",
              "      <td>0.113555</td>\n",
              "      <td>0.967052</td>\n",
              "      <td>00:01</td>\n",
              "    </tr>\n",
              "    <tr>\n",
              "      <td>15</td>\n",
              "      <td>0.082869</td>\n",
              "      <td>0.108979</td>\n",
              "      <td>0.969939</td>\n",
              "      <td>00:02</td>\n",
              "    </tr>\n",
              "    <tr>\n",
              "      <td>16</td>\n",
              "      <td>0.078563</td>\n",
              "      <td>0.103730</td>\n",
              "      <td>0.970363</td>\n",
              "      <td>00:02</td>\n",
              "    </tr>\n",
              "    <tr>\n",
              "      <td>17</td>\n",
              "      <td>0.072062</td>\n",
              "      <td>0.104741</td>\n",
              "      <td>0.970533</td>\n",
              "      <td>00:01</td>\n",
              "    </tr>\n",
              "    <tr>\n",
              "      <td>18</td>\n",
              "      <td>0.070272</td>\n",
              "      <td>0.100615</td>\n",
              "      <td>0.971382</td>\n",
              "      <td>00:01</td>\n",
              "    </tr>\n",
              "    <tr>\n",
              "      <td>19</td>\n",
              "      <td>0.063563</td>\n",
              "      <td>0.101029</td>\n",
              "      <td>0.970109</td>\n",
              "      <td>00:01</td>\n",
              "    </tr>\n",
              "    <tr>\n",
              "      <td>20</td>\n",
              "      <td>0.057986</td>\n",
              "      <td>0.098643</td>\n",
              "      <td>0.971722</td>\n",
              "      <td>00:02</td>\n",
              "    </tr>\n",
              "    <tr>\n",
              "      <td>21</td>\n",
              "      <td>0.056540</td>\n",
              "      <td>0.092504</td>\n",
              "      <td>0.974015</td>\n",
              "      <td>00:02</td>\n",
              "    </tr>\n",
              "    <tr>\n",
              "      <td>22</td>\n",
              "      <td>0.054543</td>\n",
              "      <td>0.095757</td>\n",
              "      <td>0.972741</td>\n",
              "      <td>00:02</td>\n",
              "    </tr>\n",
              "    <tr>\n",
              "      <td>23</td>\n",
              "      <td>0.048475</td>\n",
              "      <td>0.094108</td>\n",
              "      <td>0.973675</td>\n",
              "      <td>00:01</td>\n",
              "    </tr>\n",
              "    <tr>\n",
              "      <td>24</td>\n",
              "      <td>0.048593</td>\n",
              "      <td>0.088302</td>\n",
              "      <td>0.973590</td>\n",
              "      <td>00:01</td>\n",
              "    </tr>\n",
              "    <tr>\n",
              "      <td>25</td>\n",
              "      <td>0.042403</td>\n",
              "      <td>0.090707</td>\n",
              "      <td>0.972656</td>\n",
              "      <td>00:01</td>\n",
              "    </tr>\n",
              "    <tr>\n",
              "      <td>26</td>\n",
              "      <td>0.040078</td>\n",
              "      <td>0.087746</td>\n",
              "      <td>0.973251</td>\n",
              "      <td>00:01</td>\n",
              "    </tr>\n",
              "    <tr>\n",
              "      <td>27</td>\n",
              "      <td>0.038621</td>\n",
              "      <td>0.085462</td>\n",
              "      <td>0.975204</td>\n",
              "      <td>00:02</td>\n",
              "    </tr>\n",
              "    <tr>\n",
              "      <td>28</td>\n",
              "      <td>0.034038</td>\n",
              "      <td>0.086069</td>\n",
              "      <td>0.974355</td>\n",
              "      <td>00:02</td>\n",
              "    </tr>\n",
              "    <tr>\n",
              "      <td>29</td>\n",
              "      <td>0.033375</td>\n",
              "      <td>0.085123</td>\n",
              "      <td>0.975289</td>\n",
              "      <td>00:01</td>\n",
              "    </tr>\n",
              "    <tr>\n",
              "      <td>30</td>\n",
              "      <td>0.032589</td>\n",
              "      <td>0.081931</td>\n",
              "      <td>0.974440</td>\n",
              "      <td>00:01</td>\n",
              "    </tr>\n",
              "    <tr>\n",
              "      <td>31</td>\n",
              "      <td>0.029397</td>\n",
              "      <td>0.084567</td>\n",
              "      <td>0.975713</td>\n",
              "      <td>00:01</td>\n",
              "    </tr>\n",
              "    <tr>\n",
              "      <td>32</td>\n",
              "      <td>0.028146</td>\n",
              "      <td>0.083346</td>\n",
              "      <td>0.975543</td>\n",
              "      <td>00:01</td>\n",
              "    </tr>\n",
              "    <tr>\n",
              "      <td>33</td>\n",
              "      <td>0.027650</td>\n",
              "      <td>0.082304</td>\n",
              "      <td>0.976223</td>\n",
              "      <td>00:01</td>\n",
              "    </tr>\n",
              "    <tr>\n",
              "      <td>34</td>\n",
              "      <td>0.024606</td>\n",
              "      <td>0.088844</td>\n",
              "      <td>0.973675</td>\n",
              "      <td>00:02</td>\n",
              "    </tr>\n",
              "    <tr>\n",
              "      <td>35</td>\n",
              "      <td>0.024670</td>\n",
              "      <td>0.081228</td>\n",
              "      <td>0.976393</td>\n",
              "      <td>00:01</td>\n",
              "    </tr>\n",
              "    <tr>\n",
              "      <td>36</td>\n",
              "      <td>0.022450</td>\n",
              "      <td>0.082872</td>\n",
              "      <td>0.975713</td>\n",
              "      <td>00:01</td>\n",
              "    </tr>\n",
              "    <tr>\n",
              "      <td>37</td>\n",
              "      <td>0.022500</td>\n",
              "      <td>0.083390</td>\n",
              "      <td>0.975628</td>\n",
              "      <td>00:01</td>\n",
              "    </tr>\n",
              "    <tr>\n",
              "      <td>38</td>\n",
              "      <td>0.019452</td>\n",
              "      <td>0.080411</td>\n",
              "      <td>0.977072</td>\n",
              "      <td>00:01</td>\n",
              "    </tr>\n",
              "    <tr>\n",
              "      <td>39</td>\n",
              "      <td>0.018072</td>\n",
              "      <td>0.081460</td>\n",
              "      <td>0.977412</td>\n",
              "      <td>00:01</td>\n",
              "    </tr>\n",
              "  </tbody>\n",
              "</table>"
            ]
          },
          "metadata": {}
        }
      ]
    },
    {
      "cell_type": "code",
      "source": [
        "plt.plot(L(learn.recorder.values).itemgot(2));"
      ],
      "metadata": {
        "colab": {
          "base_uri": "https://localhost:8080/",
          "height": 430
        },
        "id": "2q5E0fXEuXGS",
        "outputId": "d15ae061-2013-42f0-9fa5-9bccfa5017ac"
      },
      "execution_count": 28,
      "outputs": [
        {
          "output_type": "display_data",
          "data": {
            "text/plain": [
              "<Figure size 640x480 with 1 Axes>"
            ],
            "image/png": "[encoded data removed]"
          },
          "metadata": {}
        }
      ]
    },
    {
      "cell_type": "code",
      "source": [
        "learn.recorder.values[-1][2]"
      ],
      "metadata": {
        "colab": {
          "base_uri": "https://localhost:8080/"
        },
        "id": "2HaN80cDw-t5",
        "outputId": "eba79319-61eb-4ae2-943d-a7bcb0bce6d7"
      },
      "execution_count": 29,
      "outputs": [
        {
          "output_type": "execute_result",
          "data": {
            "text/plain": [
              "0.977411687374115"
            ]
          },
          "metadata": {},
          "execution_count": 29
        }
      ]
    },
    {
      "cell_type": "code",
      "source": [
        "learn.recorder.plot_loss()\n"
      ],
      "metadata": {
        "id": "n2_E_M5QxJps",
        "colab": {
          "base_uri": "https://localhost:8080/",
          "height": 489
        },
        "outputId": "21f8aba0-bce5-4213-810c-b93a8f530628"
      },
      "execution_count": 30,
      "outputs": [
        {
          "output_type": "execute_result",
          "data": {
            "text/plain": [
              "<Axes: title={'center': 'learning curve'}, xlabel='steps', ylabel='loss'>"
            ]
          },
          "metadata": {},
          "execution_count": 30
        },
        {
          "output_type": "display_data",
          "data": {
            "text/plain": [
              "<Figure size 640x480 with 1 Axes>"
            ],
            "image/png": "[encoded data removed]"
          },
          "metadata": {}
        }
      ]
    },
    {
      "cell_type": "code",
      "source": [
        "type(learn)"
      ],
      "metadata": {
        "colab": {
          "base_uri": "https://localhost:8080/",
          "height": 120
        },
        "id": "LRwQeZ75XIMq",
        "outputId": "67524d74-7360-413a-f414-e0f3cde0f529"
      },
      "execution_count": 36,
      "outputs": [
        {
          "output_type": "execute_result",
          "data": {
            "text/plain": [
              "fastai.learner.Learner"
            ],
            "text/html": [
              "<div style=\"max-width:800px; border: 1px solid var(--colab-border-color);\"><style>\n",
              "      pre.function-repr-contents {\n",
              "        overflow-x: auto;\n",
              "        padding: 8px 12px;\n",
              "        max-height: 500px;\n",
              "      }\n",
              "\n",
              "      pre.function-repr-contents.function-repr-contents-collapsed {\n",
              "        cursor: pointer;\n",
              "        max-height: 100px;\n",
              "      }\n",
              "    </style>\n",
              "    <pre style=\"white-space: initial; background:\n",
              "         var(--colab-secondary-surface-color); padding: 8px 12px;\n",
              "         border-bottom: 1px solid var(--colab-border-color);\"><b>fastai.learner.Learner</b><br/>def __call__(event_name)</pre><pre class=\"function-repr-contents function-repr-contents-collapsed\" style=\"\"><a class=\"filepath\" style=\"display:none\" href=\"#\">/usr/local/lib/python3.11/dist-packages/fastai/learner.py</a>Group together a `model`, some `dls` and a `loss_func` to handle training</pre>\n",
              "      <script>\n",
              "      if (google.colab.kernel.accessAllowed && google.colab.files && google.colab.files.view) {\n",
              "        for (const element of document.querySelectorAll('.filepath')) {\n",
              "          element.style.display = 'block'\n",
              "          element.onclick = (event) => {\n",
              "            event.preventDefault();\n",
              "            event.stopPropagation();\n",
              "            google.colab.files.view(element.textContent, 106);\n",
              "          };\n",
              "        }\n",
              "      }\n",
              "      for (const element of document.querySelectorAll('.function-repr-contents')) {\n",
              "        element.onclick = (event) => {\n",
              "          event.preventDefault();\n",
              "          event.stopPropagation();\n",
              "          element.classList.toggle('function-repr-contents-collapsed');\n",
              "        };\n",
              "      }\n",
              "      </script>\n",
              "      </div>"
            ]
          },
          "metadata": {},
          "execution_count": 36
        }
      ]
    },
    {
      "cell_type": "code",
      "source": [
        "(path/'/root/.fastai/data/mnist_png/testing').ls()"
      ],
      "metadata": {
        "colab": {
          "base_uri": "https://localhost:8080/"
        },
        "id": "XH3JjQ5PZRab",
        "outputId": "4cb756d3-0c8a-4276-9c88-c66da4c79306"
      },
      "execution_count": 38,
      "outputs": [
        {
          "output_type": "execute_result",
          "data": {
            "text/plain": [
              "(#10) [Path('/root/.fastai/data/mnist_png/testing/8'),Path('/root/.fastai/data/mnist_png/testing/6'),Path('/root/.fastai/data/mnist_png/testing/7'),Path('/root/.fastai/data/mnist_png/testing/5'),Path('/root/.fastai/data/mnist_png/testing/2'),Path('/root/.fastai/data/mnist_png/testing/3'),Path('/root/.fastai/data/mnist_png/testing/0'),Path('/root/.fastai/data/mnist_png/testing/9'),Path('/root/.fastai/data/mnist_png/testing/1'),Path('/root/.fastai/data/mnist_png/testing/4')]"
            ]
          },
          "metadata": {},
          "execution_count": 38
        }
      ]
    },
    {
      "cell_type": "code",
      "source": [
        "from torchvision.transforms import ToTensor\n",
        "zeros_tensors_test = torch.stack([ToTensor()(Image.open(o)) for o in (path/'/root/.fastai/data/mnist_png/testing/0').ls()])\n",
        "ones_tensors_test = torch.stack([ToTensor()(Image.open(o)) for o in (path/'/root/.fastai/data/mnist_png/testing/1').ls()])\n",
        "twos_tensors_test = torch.stack([ToTensor()(Image.open(o)) for o in (path/'/root/.fastai/data/mnist_png/testing/2').ls()])\n",
        "threes_tensors_test = torch.stack([ToTensor()(Image.open(o)) for o in (path/'/root/.fastai/data/mnist_png/testing/3').ls()])\n",
        "fours_tensors_test = torch.stack([ToTensor()(Image.open(o)) for o in (path/'/root/.fastai/data/mnist_png/testing/4').ls()])\n",
        "fives_tensors_test = torch.stack([ToTensor()(Image.open(o)) for o in (path/'/root/.fastai/data/mnist_png/testing/5').ls()])\n",
        "sixes_tensors_test = torch.stack([ToTensor()(Image.open(o)) for o in (path/'/root/.fastai/data/mnist_png/testing/6').ls()])\n",
        "sevens_tensors_test = torch.stack([ToTensor()(Image.open(o)) for o in (path/'/root/.fastai/data/mnist_png/testing/7').ls()])\n",
        "eights_tensors_test = torch.stack([ToTensor()(Image.open(o)) for o in (path/'/root/.fastai/data/mnist_png/testing/8').ls()])\n",
        "nines_tensors_test = torch.stack([ToTensor()(Image.open(o)) for o in (path/'/root/.fastai/data/mnist_png/testing/9').ls()])"
      ],
      "metadata": {
        "id": "OR5OJ6XcaVkj"
      },
      "execution_count": 39,
      "outputs": []
    },
    {
      "cell_type": "code",
      "source": [
        "test_x = torch.cat([zeros_tensors_test,ones_tensors_test,twos_tensors_test,threes_tensors_test,fours_tensors_test,fives_tensors_test,sixes_tensors_test,sevens_tensors_test,eights_tensors_test,nines_tensors_test]).view(-1,28*28)\n",
        "test_y = tensor([0]*len(zeros_tensors_test) + [1]*len(ones_tensors_test) + [2]*len(twos_tensors_test) + [3]*len(threes_tensors_test) + [4] *len(fours_tensors_test) + [5]*len(fives_tensors_test) + [6]*len(sixes_tensors_test)+ [7]*len(sevens_tensors_test) + [8]*len(eights_tensors_test) + [9]*len(nines_tensors_test))"
      ],
      "metadata": {
        "id": "D13-HhlybOqF"
      },
      "execution_count": 51,
      "outputs": []
    },
    {
      "cell_type": "code",
      "source": [
        "from torch.utils.data import TensorDataset, DataLoader\n",
        "\n",
        "test_ds = TensorDataset(test_x,test_y)\n",
        "test_dl = DataLoader(test_ds, batch_size=256, shuffle=False)\n",
        "\n",
        "test_loss, test_acc = learn.validate(dl=test_dl)\n",
        "print(f\"Test loss: {test_loss:.4f}, Test accuracy: {test_acc:.4f}\")"
      ],
      "metadata": {
        "colab": {
          "base_uri": "https://localhost:8080/",
          "height": 34
        },
        "id": "Jvvd36lXfoOT",
        "outputId": "06f8dfb7-f947-440a-e14a-891f69fc1b5f"
      },
      "execution_count": 52,
      "outputs": [
        {
          "output_type": "display_data",
          "data": {
            "text/plain": [
              "<IPython.core.display.HTML object>"
            ],
            "text/html": [
              "\n",
              "<style>\n",
              "    /* Turns off some styling */\n",
              "    progress {\n",
              "        /* gets rid of default border in Firefox and Opera. */\n",
              "        border: none;\n",
              "        /* Needs to be in here for Safari polyfill so background images work as expected. */\n",
              "        background-size: auto;\n",
              "    }\n",
              "    progress:not([value]), progress:not([value])::-webkit-progress-bar {\n",
              "        background: repeating-linear-gradient(45deg, #7e7e7e, #7e7e7e 10px, #5c5c5c 10px, #5c5c5c 20px);\n",
              "    }\n",
              "    .progress-bar-interrupted, .progress-bar-interrupted::-webkit-progress-bar {\n",
              "        background: #F44336;\n",
              "    }\n",
              "</style>\n"
            ]
          },
          "metadata": {}
        },
        {
          "output_type": "display_data",
          "data": {
            "text/plain": [
              "<IPython.core.display.HTML object>"
            ],
            "text/html": []
          },
          "metadata": {}
        },
        {
          "output_type": "stream",
          "name": "stdout",
          "text": [
            "Test loss: 0.0701, Test accuracy: 0.9779\n"
          ]
        }
      ]
    },
    {
      "cell_type": "code",
      "source": [
        "import torch\n",
        "\n",
        "model = learn.model.eval()\n",
        "with torch.no_grad():\n",
        "    logits = model(test_x)           # [N_test, 10]\n",
        "    preds  = logits.argmax(dim=1)    # [N_test]\n",
        "print(preds)  # a LongTensor of your predicted digits\n"
      ],
      "metadata": {
        "colab": {
          "base_uri": "https://localhost:8080/"
        },
        "id": "a0sNbKOKgQYj",
        "outputId": "3f63a5fe-06f1-4498-9e36-cf2339b48df9"
      },
      "execution_count": 54,
      "outputs": [
        {
          "output_type": "stream",
          "name": "stdout",
          "text": [
            "tensor([0, 0, 0,  ..., 9, 9, 9])\n"
          ]
        }
      ]
    },
    {
      "cell_type": "code",
      "source": [],
      "metadata": {
        "id": "FNsxVbt-dn8L"
      },
      "execution_count": null,
      "outputs": []
    }
  ]
}