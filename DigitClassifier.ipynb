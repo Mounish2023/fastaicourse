{
  "nbformat": 4,
  "nbformat_minor": 0,
  "metadata": {
    "colab": {
      "provenance": [],
      "authorship_tag": "ABX9TyNxHoQjSjD+jLSRnA1DvRD1",
      "include_colab_link": true
    },
    "kernelspec": {
      "name": "python3",
      "display_name": "Python 3"
    },
    "language_info": {
      "name": "python"
    }
  },
  "cells": [
    {
      "cell_type": "markdown",
      "metadata": {
        "id": "view-in-github",
        "colab_type": "text"
      },
      "source": [
        "<a href=\"https://colab.research.google.com/github/Mounish2023/fastaicourse/blob/main/DigitClassifier.ipynb\" target=\"_parent\"><img src=\"https://colab.research.google.com/assets/colab-badge.svg\" alt=\"Open In Colab\"/></a>"
      ]
    },
    {
      "cell_type": "code",
      "source": [
        "%pip install fastai --quiet"
      ],
      "metadata": {
        "colab": {
          "base_uri": "https://localhost:8080/"
        },
        "id": "HEFJdbeX849E",
        "outputId": "e029fa50-8a3d-4b12-83c2-233e4c55defb"
      },
      "execution_count": null,
      "outputs": [
        {
          "output_type": "stream",
          "name": "stdout",
          "text": [
            "\u001b[2K   \u001b[90m━━━━━━━━━━━━━━━━━━━━━━━━━━━━━━━━━━━━━━━━\u001b[0m \u001b[32m363.4/363.4 MB\u001b[0m \u001b[31m1.4 MB/s\u001b[0m eta \u001b[36m0:00:00\u001b[0m\n",
            "\u001b[2K   \u001b[90m━━━━━━━━━━━━━━━━━━━━━━━━━━━━━━━━━━━━━━━━\u001b[0m \u001b[32m13.8/13.8 MB\u001b[0m \u001b[31m105.2 MB/s\u001b[0m eta \u001b[36m0:00:00\u001b[0m\n",
            "\u001b[2K   \u001b[90m━━━━━━━━━━━━━━━━━━━━━━━━━━━━━━━━━━━━━━━━\u001b[0m \u001b[32m24.6/24.6 MB\u001b[0m \u001b[31m83.2 MB/s\u001b[0m eta \u001b[36m0:00:00\u001b[0m\n",
            "\u001b[2K   \u001b[90m━━━━━━━━━━━━━━━━━━━━━━━━━━━━━━━━━━━━━━━━\u001b[0m \u001b[32m883.7/883.7 kB\u001b[0m \u001b[31m50.4 MB/s\u001b[0m eta \u001b[36m0:00:00\u001b[0m\n",
            "\u001b[2K   \u001b[90m━━━━━━━━━━━━━━━━━━━━━━━━━━━━━━━━━━━━━━━━\u001b[0m \u001b[32m664.8/664.8 MB\u001b[0m \u001b[31m2.1 MB/s\u001b[0m eta \u001b[36m0:00:00\u001b[0m\n",
            "\u001b[2K   \u001b[90m━━━━━━━━━━━━━━━━━━━━━━━━━━━━━━━━━━━━━━━━\u001b[0m \u001b[32m211.5/211.5 MB\u001b[0m \u001b[31m5.2 MB/s\u001b[0m eta \u001b[36m0:00:00\u001b[0m\n",
            "\u001b[2K   \u001b[90m━━━━━━━━━━━━━━━━━━━━━━━━━━━━━━━━━━━━━━━━\u001b[0m \u001b[32m56.3/56.3 MB\u001b[0m \u001b[31m10.9 MB/s\u001b[0m eta \u001b[36m0:00:00\u001b[0m\n",
            "\u001b[2K   \u001b[90m━━━━━━━━━━━━━━━━━━━━━━━━━━━━━━━━━━━━━━━━\u001b[0m \u001b[32m127.9/127.9 MB\u001b[0m \u001b[31m8.0 MB/s\u001b[0m eta \u001b[36m0:00:00\u001b[0m\n",
            "\u001b[2K   \u001b[90m━━━━━━━━━━━━━━━━━━━━━━━━━━━━━━━━━━━━━━━━\u001b[0m \u001b[32m207.5/207.5 MB\u001b[0m \u001b[31m3.5 MB/s\u001b[0m eta \u001b[36m0:00:00\u001b[0m\n",
            "\u001b[2K   \u001b[90m━━━━━━━━━━━━━━━━━━━━━━━━━━━━━━━━━━━━━━━━\u001b[0m \u001b[32m21.1/21.1 MB\u001b[0m \u001b[31m38.5 MB/s\u001b[0m eta \u001b[36m0:00:00\u001b[0m\n",
            "\u001b[?25h"
          ]
        }
      ]
    },
    {
      "cell_type": "code",
      "execution_count": null,
      "metadata": {
        "colab": {
          "base_uri": "https://localhost:8080/",
          "height": 37
        },
        "id": "yDwktE8dfD77",
        "outputId": "7f7eebea-0ea2-4b46-a72c-e0c65dfb0775"
      },
      "outputs": [
        {
          "output_type": "display_data",
          "data": {
            "text/plain": [
              "<IPython.core.display.HTML object>"
            ],
            "text/html": [
              "\n",
              "<style>\n",
              "    /* Turns off some styling */\n",
              "    progress {\n",
              "        /* gets rid of default border in Firefox and Opera. */\n",
              "        border: none;\n",
              "        /* Needs to be in here for Safari polyfill so background images work as expected. */\n",
              "        background-size: auto;\n",
              "    }\n",
              "    progress:not([value]), progress:not([value])::-webkit-progress-bar {\n",
              "        background: repeating-linear-gradient(45deg, #7e7e7e, #7e7e7e 10px, #5c5c5c 10px, #5c5c5c 20px);\n",
              "    }\n",
              "    .progress-bar-interrupted, .progress-bar-interrupted::-webkit-progress-bar {\n",
              "        background: #F44336;\n",
              "    }\n",
              "</style>\n"
            ]
          },
          "metadata": {}
        },
        {
          "output_type": "display_data",
          "data": {
            "text/plain": [
              "<IPython.core.display.HTML object>"
            ],
            "text/html": [
              "\n",
              "    <div>\n",
              "      <progress value='3219456' class='' max='3214948' style='width:300px; height:20px; vertical-align: middle;'></progress>\n",
              "      100.14% [3219456/3214948 00:00&lt;00:00]\n",
              "    </div>\n",
              "    "
            ]
          },
          "metadata": {}
        }
      ],
      "source": [
        "from fastai.data.external import untar_data, URLs\n",
        "\n",
        "path = untar_data(URLs.MNIST_SAMPLE)"
      ]
    },
    {
      "cell_type": "code",
      "source": [
        "path.ls()"
      ],
      "metadata": {
        "colab": {
          "base_uri": "https://localhost:8080/"
        },
        "id": "RvVzWXjC8oel",
        "outputId": "c025fffc-a6df-42a4-a25d-d84b2fa31640"
      },
      "execution_count": null,
      "outputs": [
        {
          "output_type": "execute_result",
          "data": {
            "text/plain": [
              "(#3) [Path('/root/.fastai/data/mnist_sample/labels.csv'),Path('/root/.fastai/data/mnist_sample/valid'),Path('/root/.fastai/data/mnist_sample/train')]"
            ]
          },
          "metadata": {},
          "execution_count": 4
        }
      ]
    },
    {
      "cell_type": "code",
      "source": [
        "(path/'/root/.fastai/data/mnist_sample/train').ls()"
      ],
      "metadata": {
        "colab": {
          "base_uri": "https://localhost:8080/"
        },
        "id": "ZVRsDjAJ9sYx",
        "outputId": "f9a85c20-d9db-44e4-b30c-2e66c72f6419"
      },
      "execution_count": null,
      "outputs": [
        {
          "output_type": "execute_result",
          "data": {
            "text/plain": [
              "(#2) [Path('/root/.fastai/data/mnist_sample/train/3'),Path('/root/.fastai/data/mnist_sample/train/7')]"
            ]
          },
          "metadata": {},
          "execution_count": 5
        }
      ]
    },
    {
      "cell_type": "code",
      "source": [
        "sevens = (path/'/root/.fastai/data/mnist_sample/train/7').ls().sorted()\n",
        "threes = (path/'/root/.fastai/data/mnist_sample/train/3').ls().sorted()\n",
        "threes"
      ],
      "metadata": {
        "colab": {
          "base_uri": "https://localhost:8080/"
        },
        "id": "G9gaEc5x-Wuv",
        "outputId": "a6d8bd8e-e437-4b31-9198-50927e55ef6c"
      },
      "execution_count": null,
      "outputs": [
        {
          "output_type": "execute_result",
          "data": {
            "text/plain": [
              "(#6131) [Path('/root/.fastai/data/mnist_sample/train/3/10.png'),Path('/root/.fastai/data/mnist_sample/train/3/10000.png'),Path('/root/.fastai/data/mnist_sample/train/3/10011.png'),Path('/root/.fastai/data/mnist_sample/train/3/10031.png'),Path('/root/.fastai/data/mnist_sample/train/3/10034.png'),Path('/root/.fastai/data/mnist_sample/train/3/10042.png'),Path('/root/.fastai/data/mnist_sample/train/3/10052.png'),Path('/root/.fastai/data/mnist_sample/train/3/1007.png'),Path('/root/.fastai/data/mnist_sample/train/3/10074.png'),Path('/root/.fastai/data/mnist_sample/train/3/10091.png'),Path('/root/.fastai/data/mnist_sample/train/3/10093.png'),Path('/root/.fastai/data/mnist_sample/train/3/10097.png'),Path('/root/.fastai/data/mnist_sample/train/3/10099.png'),Path('/root/.fastai/data/mnist_sample/train/3/10116.png'),Path('/root/.fastai/data/mnist_sample/train/3/10125.png'),Path('/root/.fastai/data/mnist_sample/train/3/10137.png'),Path('/root/.fastai/data/mnist_sample/train/3/10141.png'),Path('/root/.fastai/data/mnist_sample/train/3/10144.png'),Path('/root/.fastai/data/mnist_sample/train/3/10155.png'),Path('/root/.fastai/data/mnist_sample/train/3/10161.png')...]"
            ]
          },
          "metadata": {},
          "execution_count": 6
        }
      ]
    },
    {
      "cell_type": "code",
      "source": [
        "from PIL import Image\n",
        "imag_path = threes[1]\n",
        "img = Image.open(imag_path)\n",
        "img"
      ],
      "metadata": {
        "colab": {
          "base_uri": "https://localhost:8080/",
          "height": 45
        },
        "id": "IajxdjgU-wLd",
        "outputId": "67856a37-3d3e-4b94-bfae-4de99ca05df5"
      },
      "execution_count": null,
      "outputs": [
        {
          "output_type": "execute_result",
          "data": {
            "text/plain": [
              "<PIL.PngImagePlugin.PngImageFile image mode=L size=28x28>"
            ],
            "image/png": "[encoded data removed]",
            "image/jpeg": "[encoded data removed]"
          },
          "metadata": {},
          "execution_count": 7
        }
      ]
    },
    {
      "cell_type": "code",
      "source": [
        "import numpy as np\n",
        "\n",
        "np.array(img)[4:10, 4:10]"
      ],
      "metadata": {
        "colab": {
          "base_uri": "https://localhost:8080/"
        },
        "id": "bLz3cDhw_T0b",
        "outputId": "b439e6bf-de0e-47d0-ab76-7f75f4beba6a"
      },
      "execution_count": null,
      "outputs": [
        {
          "output_type": "execute_result",
          "data": {
            "text/plain": [
              "array([[  0,   0,   0,   0,   0,   0],\n",
              "       [  0,   0,   0,   0,   0,  29],\n",
              "       [  0,   0,   0,  48, 166, 224],\n",
              "       [  0,  93, 244, 249, 253, 187],\n",
              "       [  0, 107, 253, 253, 230,  48],\n",
              "       [  0,   3,  20,  20,  15,   0]], dtype=uint8)"
            ]
          },
          "metadata": {},
          "execution_count": 8
        }
      ]
    },
    {
      "cell_type": "code",
      "source": [
        "from PIL import Image\n",
        "from torchvision.transforms import ToTensor\n",
        "\n",
        "# Load image as grayscale\n",
        "# img = Image.open(imag_path).convert('L')\n",
        "img = Image.open(imag_path)\n",
        "# Convert to float tensor (0–1 range)\n",
        "img_tensor = ToTensor()(img)\n",
        "\n",
        "# Scale to 0–255 and convert to uint8\n",
        "img_tensor = (img_tensor * 255).byte()\n",
        "\n",
        "# Extract the patch\n",
        "patch = img_tensor[0, 4:10, 4:10]  # [channel, height slice, width slice]\n",
        "print(patch)\n"
      ],
      "metadata": {
        "colab": {
          "base_uri": "https://localhost:8080/"
        },
        "id": "bUblNU3q_yYp",
        "outputId": "b378abe2-fd36-441b-b2f5-7ccf5081a4f3"
      },
      "execution_count": null,
      "outputs": [
        {
          "output_type": "stream",
          "name": "stdout",
          "text": [
            "tensor([[  0,   0,   0,   0,   0,   0],\n",
            "        [  0,   0,   0,   0,   0,  29],\n",
            "        [  0,   0,   0,  48, 166, 224],\n",
            "        [  0,  93, 244, 249, 253, 187],\n",
            "        [  0, 107, 253, 253, 230,  48],\n",
            "        [  0,   3,  20,  20,  15,   0]], dtype=torch.uint8)\n"
          ]
        }
      ]
    },
    {
      "cell_type": "code",
      "source": [
        "import pandas as pd\n",
        "df = pd.DataFrame(img_tensor[0,4:15,4:22])"
      ],
      "metadata": {
        "id": "Yy-8aOC3BktW"
      },
      "execution_count": null,
      "outputs": []
    },
    {
      "cell_type": "code",
      "source": [
        "df.style.set_properties(**{'font-size':'6pt'}).background_gradient('Greys')"
      ],
      "metadata": {
        "colab": {
          "base_uri": "https://localhost:8080/",
          "height": 394
        },
        "id": "X4offTEvD737",
        "outputId": "c7c33e61-3096-4843-9395-fd04dc0c7167"
      },
      "execution_count": null,
      "outputs": [
        {
          "output_type": "execute_result",
          "data": {
            "text/plain": [
              "<pandas.io.formats.style.Styler at 0x7865873c4950>"
            ],
            "text/html": [
              "<style type=\"text/css\">\n",
              "#T_4c10f_row0_col0, #T_4c10f_row0_col1, #T_4c10f_row0_col2, #T_4c10f_row0_col3, #T_4c10f_row0_col4, #T_4c10f_row0_col5, #T_4c10f_row0_col6, #T_4c10f_row0_col7, #T_4c10f_row0_col8, #T_4c10f_row0_col9, #T_4c10f_row0_col10, #T_4c10f_row0_col11, #T_4c10f_row0_col12, #T_4c10f_row0_col13, #T_4c10f_row0_col14, #T_4c10f_row0_col15, #T_4c10f_row0_col16, #T_4c10f_row0_col17, #T_4c10f_row1_col0, #T_4c10f_row1_col1, #T_4c10f_row1_col2, #T_4c10f_row1_col3, #T_4c10f_row1_col4, #T_4c10f_row1_col15, #T_4c10f_row1_col16, #T_4c10f_row1_col17, #T_4c10f_row2_col0, #T_4c10f_row2_col1, #T_4c10f_row2_col2, #T_4c10f_row2_col15, #T_4c10f_row2_col16, #T_4c10f_row2_col17, #T_4c10f_row3_col0, #T_4c10f_row3_col15, #T_4c10f_row3_col16, #T_4c10f_row3_col17, #T_4c10f_row4_col0, #T_4c10f_row4_col6, #T_4c10f_row4_col7, #T_4c10f_row4_col8, #T_4c10f_row4_col9, #T_4c10f_row4_col10, #T_4c10f_row4_col15, #T_4c10f_row4_col16, #T_4c10f_row4_col17, #T_4c10f_row5_col0, #T_4c10f_row5_col5, #T_4c10f_row5_col6, #T_4c10f_row5_col7, #T_4c10f_row5_col8, #T_4c10f_row5_col9, #T_4c10f_row5_col15, #T_4c10f_row5_col16, #T_4c10f_row5_col17, #T_4c10f_row6_col0, #T_4c10f_row6_col1, #T_4c10f_row6_col2, #T_4c10f_row6_col3, #T_4c10f_row6_col4, #T_4c10f_row6_col5, #T_4c10f_row6_col6, #T_4c10f_row6_col7, #T_4c10f_row6_col8, #T_4c10f_row6_col9, #T_4c10f_row6_col14, #T_4c10f_row6_col15, #T_4c10f_row6_col16, #T_4c10f_row6_col17, #T_4c10f_row7_col0, #T_4c10f_row7_col1, #T_4c10f_row7_col2, #T_4c10f_row7_col3, #T_4c10f_row7_col4, #T_4c10f_row7_col5, #T_4c10f_row7_col6, #T_4c10f_row7_col13, #T_4c10f_row7_col14, #T_4c10f_row7_col15, #T_4c10f_row7_col16, #T_4c10f_row7_col17, #T_4c10f_row8_col0, #T_4c10f_row8_col1, #T_4c10f_row8_col2, #T_4c10f_row8_col3, #T_4c10f_row8_col4, #T_4c10f_row8_col13, #T_4c10f_row8_col14, #T_4c10f_row8_col15, #T_4c10f_row8_col16, #T_4c10f_row8_col17, #T_4c10f_row9_col0, #T_4c10f_row9_col1, #T_4c10f_row9_col2, #T_4c10f_row9_col3, #T_4c10f_row9_col4, #T_4c10f_row9_col16, #T_4c10f_row9_col17, #T_4c10f_row10_col0, #T_4c10f_row10_col1, #T_4c10f_row10_col2, #T_4c10f_row10_col3, #T_4c10f_row10_col4, #T_4c10f_row10_col5, #T_4c10f_row10_col6, #T_4c10f_row10_col17 {\n",
              "  font-size: 6pt;\n",
              "  background-color: #ffffff;\n",
              "  color: #000000;\n",
              "}\n",
              "#T_4c10f_row1_col5 {\n",
              "  font-size: 6pt;\n",
              "  background-color: #efefef;\n",
              "  color: #000000;\n",
              "}\n",
              "#T_4c10f_row1_col6, #T_4c10f_row1_col13 {\n",
              "  font-size: 6pt;\n",
              "  background-color: #7c7c7c;\n",
              "  color: #f1f1f1;\n",
              "}\n",
              "#T_4c10f_row1_col7 {\n",
              "  font-size: 6pt;\n",
              "  background-color: #4a4a4a;\n",
              "  color: #f1f1f1;\n",
              "}\n",
              "#T_4c10f_row1_col8, #T_4c10f_row1_col9, #T_4c10f_row1_col10, #T_4c10f_row2_col5, #T_4c10f_row2_col6, #T_4c10f_row2_col7, #T_4c10f_row2_col11, #T_4c10f_row2_col12, #T_4c10f_row2_col13, #T_4c10f_row3_col4, #T_4c10f_row3_col12, #T_4c10f_row3_col13, #T_4c10f_row4_col1, #T_4c10f_row4_col2, #T_4c10f_row4_col3, #T_4c10f_row4_col12, #T_4c10f_row4_col13, #T_4c10f_row5_col12, #T_4c10f_row6_col11, #T_4c10f_row9_col11, #T_4c10f_row10_col11, #T_4c10f_row10_col12, #T_4c10f_row10_col13, #T_4c10f_row10_col14, #T_4c10f_row10_col15, #T_4c10f_row10_col16 {\n",
              "  font-size: 6pt;\n",
              "  background-color: #000000;\n",
              "  color: #f1f1f1;\n",
              "}\n",
              "#T_4c10f_row1_col11 {\n",
              "  font-size: 6pt;\n",
              "  background-color: #606060;\n",
              "  color: #f1f1f1;\n",
              "}\n",
              "#T_4c10f_row1_col12 {\n",
              "  font-size: 6pt;\n",
              "  background-color: #4d4d4d;\n",
              "  color: #f1f1f1;\n",
              "}\n",
              "#T_4c10f_row1_col14 {\n",
              "  font-size: 6pt;\n",
              "  background-color: #bbbbbb;\n",
              "  color: #000000;\n",
              "}\n",
              "#T_4c10f_row2_col3 {\n",
              "  font-size: 6pt;\n",
              "  background-color: #e4e4e4;\n",
              "  color: #000000;\n",
              "}\n",
              "#T_4c10f_row2_col4, #T_4c10f_row8_col6 {\n",
              "  font-size: 6pt;\n",
              "  background-color: #6b6b6b;\n",
              "  color: #f1f1f1;\n",
              "}\n",
              "#T_4c10f_row2_col8, #T_4c10f_row2_col14, #T_4c10f_row3_col14 {\n",
              "  font-size: 6pt;\n",
              "  background-color: #171717;\n",
              "  color: #f1f1f1;\n",
              "}\n",
              "#T_4c10f_row2_col9, #T_4c10f_row3_col11 {\n",
              "  font-size: 6pt;\n",
              "  background-color: #4b4b4b;\n",
              "  color: #f1f1f1;\n",
              "}\n",
              "#T_4c10f_row2_col10, #T_4c10f_row7_col10, #T_4c10f_row8_col8, #T_4c10f_row8_col10, #T_4c10f_row9_col8, #T_4c10f_row9_col10 {\n",
              "  font-size: 6pt;\n",
              "  background-color: #010101;\n",
              "  color: #f1f1f1;\n",
              "}\n",
              "#T_4c10f_row3_col1 {\n",
              "  font-size: 6pt;\n",
              "  background-color: #272727;\n",
              "  color: #f1f1f1;\n",
              "}\n",
              "#T_4c10f_row3_col2 {\n",
              "  font-size: 6pt;\n",
              "  background-color: #0a0a0a;\n",
              "  color: #f1f1f1;\n",
              "}\n",
              "#T_4c10f_row3_col3 {\n",
              "  font-size: 6pt;\n",
              "  background-color: #050505;\n",
              "  color: #f1f1f1;\n",
              "}\n",
              "#T_4c10f_row3_col5 {\n",
              "  font-size: 6pt;\n",
              "  background-color: #333333;\n",
              "  color: #f1f1f1;\n",
              "}\n",
              "#T_4c10f_row3_col6 {\n",
              "  font-size: 6pt;\n",
              "  background-color: #e6e6e6;\n",
              "  color: #000000;\n",
              "}\n",
              "#T_4c10f_row3_col7, #T_4c10f_row3_col10 {\n",
              "  font-size: 6pt;\n",
              "  background-color: #fafafa;\n",
              "  color: #000000;\n",
              "}\n",
              "#T_4c10f_row3_col8 {\n",
              "  font-size: 6pt;\n",
              "  background-color: #fbfbfb;\n",
              "  color: #000000;\n",
              "}\n",
              "#T_4c10f_row3_col9 {\n",
              "  font-size: 6pt;\n",
              "  background-color: #fdfdfd;\n",
              "  color: #000000;\n",
              "}\n",
              "#T_4c10f_row4_col4 {\n",
              "  font-size: 6pt;\n",
              "  background-color: #1b1b1b;\n",
              "  color: #f1f1f1;\n",
              "}\n",
              "#T_4c10f_row4_col5 {\n",
              "  font-size: 6pt;\n",
              "  background-color: #e0e0e0;\n",
              "  color: #000000;\n",
              "}\n",
              "#T_4c10f_row4_col11 {\n",
              "  font-size: 6pt;\n",
              "  background-color: #4e4e4e;\n",
              "  color: #f1f1f1;\n",
              "}\n",
              "#T_4c10f_row4_col14 {\n",
              "  font-size: 6pt;\n",
              "  background-color: #767676;\n",
              "  color: #f1f1f1;\n",
              "}\n",
              "#T_4c10f_row5_col1 {\n",
              "  font-size: 6pt;\n",
              "  background-color: #fcfcfc;\n",
              "  color: #000000;\n",
              "}\n",
              "#T_4c10f_row5_col2, #T_4c10f_row5_col3 {\n",
              "  font-size: 6pt;\n",
              "  background-color: #f6f6f6;\n",
              "  color: #000000;\n",
              "}\n",
              "#T_4c10f_row5_col4, #T_4c10f_row7_col7 {\n",
              "  font-size: 6pt;\n",
              "  background-color: #f8f8f8;\n",
              "  color: #000000;\n",
              "}\n",
              "#T_4c10f_row5_col10, #T_4c10f_row10_col7 {\n",
              "  font-size: 6pt;\n",
              "  background-color: #e8e8e8;\n",
              "  color: #000000;\n",
              "}\n",
              "#T_4c10f_row5_col11 {\n",
              "  font-size: 6pt;\n",
              "  background-color: #222222;\n",
              "  color: #f1f1f1;\n",
              "}\n",
              "#T_4c10f_row5_col13, #T_4c10f_row6_col12 {\n",
              "  font-size: 6pt;\n",
              "  background-color: #090909;\n",
              "  color: #f1f1f1;\n",
              "}\n",
              "#T_4c10f_row5_col14 {\n",
              "  font-size: 6pt;\n",
              "  background-color: #d0d0d0;\n",
              "  color: #000000;\n",
              "}\n",
              "#T_4c10f_row6_col10, #T_4c10f_row7_col11, #T_4c10f_row9_col6 {\n",
              "  font-size: 6pt;\n",
              "  background-color: #060606;\n",
              "  color: #f1f1f1;\n",
              "}\n",
              "#T_4c10f_row6_col13 {\n",
              "  font-size: 6pt;\n",
              "  background-color: #979797;\n",
              "  color: #f1f1f1;\n",
              "}\n",
              "#T_4c10f_row7_col8 {\n",
              "  font-size: 6pt;\n",
              "  background-color: #b6b6b6;\n",
              "  color: #000000;\n",
              "}\n",
              "#T_4c10f_row7_col9 {\n",
              "  font-size: 6pt;\n",
              "  background-color: #252525;\n",
              "  color: #f1f1f1;\n",
              "}\n",
              "#T_4c10f_row7_col12 {\n",
              "  font-size: 6pt;\n",
              "  background-color: #999999;\n",
              "  color: #f1f1f1;\n",
              "}\n",
              "#T_4c10f_row8_col5 {\n",
              "  font-size: 6pt;\n",
              "  background-color: #f9f9f9;\n",
              "  color: #000000;\n",
              "}\n",
              "#T_4c10f_row8_col7 {\n",
              "  font-size: 6pt;\n",
              "  background-color: #101010;\n",
              "  color: #f1f1f1;\n",
              "}\n",
              "#T_4c10f_row8_col9, #T_4c10f_row9_col9 {\n",
              "  font-size: 6pt;\n",
              "  background-color: #020202;\n",
              "  color: #f1f1f1;\n",
              "}\n",
              "#T_4c10f_row8_col11 {\n",
              "  font-size: 6pt;\n",
              "  background-color: #545454;\n",
              "  color: #f1f1f1;\n",
              "}\n",
              "#T_4c10f_row8_col12 {\n",
              "  font-size: 6pt;\n",
              "  background-color: #f1f1f1;\n",
              "  color: #000000;\n",
              "}\n",
              "#T_4c10f_row9_col5 {\n",
              "  font-size: 6pt;\n",
              "  background-color: #f7f7f7;\n",
              "  color: #000000;\n",
              "}\n",
              "#T_4c10f_row9_col7 {\n",
              "  font-size: 6pt;\n",
              "  background-color: #030303;\n",
              "  color: #f1f1f1;\n",
              "}\n",
              "#T_4c10f_row9_col12 {\n",
              "  font-size: 6pt;\n",
              "  background-color: #181818;\n",
              "  color: #f1f1f1;\n",
              "}\n",
              "#T_4c10f_row9_col13 {\n",
              "  font-size: 6pt;\n",
              "  background-color: #303030;\n",
              "  color: #f1f1f1;\n",
              "}\n",
              "#T_4c10f_row9_col14 {\n",
              "  font-size: 6pt;\n",
              "  background-color: #a9a9a9;\n",
              "  color: #f1f1f1;\n",
              "}\n",
              "#T_4c10f_row9_col15 {\n",
              "  font-size: 6pt;\n",
              "  background-color: #fefefe;\n",
              "  color: #000000;\n",
              "}\n",
              "#T_4c10f_row10_col8, #T_4c10f_row10_col9 {\n",
              "  font-size: 6pt;\n",
              "  background-color: #bababa;\n",
              "  color: #000000;\n",
              "}\n",
              "#T_4c10f_row10_col10 {\n",
              "  font-size: 6pt;\n",
              "  background-color: #393939;\n",
              "  color: #f1f1f1;\n",
              "}\n",
              "</style>\n",
              "<table id=\"T_4c10f\" class=\"dataframe\">\n",
              "  <thead>\n",
              "    <tr>\n",
              "      <th class=\"blank level0\" >&nbsp;</th>\n",
              "      <th id=\"T_4c10f_level0_col0\" class=\"col_heading level0 col0\" >0</th>\n",
              "      <th id=\"T_4c10f_level0_col1\" class=\"col_heading level0 col1\" >1</th>\n",
              "      <th id=\"T_4c10f_level0_col2\" class=\"col_heading level0 col2\" >2</th>\n",
              "      <th id=\"T_4c10f_level0_col3\" class=\"col_heading level0 col3\" >3</th>\n",
              "      <th id=\"T_4c10f_level0_col4\" class=\"col_heading level0 col4\" >4</th>\n",
              "      <th id=\"T_4c10f_level0_col5\" class=\"col_heading level0 col5\" >5</th>\n",
              "      <th id=\"T_4c10f_level0_col6\" class=\"col_heading level0 col6\" >6</th>\n",
              "      <th id=\"T_4c10f_level0_col7\" class=\"col_heading level0 col7\" >7</th>\n",
              "      <th id=\"T_4c10f_level0_col8\" class=\"col_heading level0 col8\" >8</th>\n",
              "      <th id=\"T_4c10f_level0_col9\" class=\"col_heading level0 col9\" >9</th>\n",
              "      <th id=\"T_4c10f_level0_col10\" class=\"col_heading level0 col10\" >10</th>\n",
              "      <th id=\"T_4c10f_level0_col11\" class=\"col_heading level0 col11\" >11</th>\n",
              "      <th id=\"T_4c10f_level0_col12\" class=\"col_heading level0 col12\" >12</th>\n",
              "      <th id=\"T_4c10f_level0_col13\" class=\"col_heading level0 col13\" >13</th>\n",
              "      <th id=\"T_4c10f_level0_col14\" class=\"col_heading level0 col14\" >14</th>\n",
              "      <th id=\"T_4c10f_level0_col15\" class=\"col_heading level0 col15\" >15</th>\n",
              "      <th id=\"T_4c10f_level0_col16\" class=\"col_heading level0 col16\" >16</th>\n",
              "      <th id=\"T_4c10f_level0_col17\" class=\"col_heading level0 col17\" >17</th>\n",
              "    </tr>\n",
              "  </thead>\n",
              "  <tbody>\n",
              "    <tr>\n",
              "      <th id=\"T_4c10f_level0_row0\" class=\"row_heading level0 row0\" >0</th>\n",
              "      <td id=\"T_4c10f_row0_col0\" class=\"data row0 col0\" >0</td>\n",
              "      <td id=\"T_4c10f_row0_col1\" class=\"data row0 col1\" >0</td>\n",
              "      <td id=\"T_4c10f_row0_col2\" class=\"data row0 col2\" >0</td>\n",
              "      <td id=\"T_4c10f_row0_col3\" class=\"data row0 col3\" >0</td>\n",
              "      <td id=\"T_4c10f_row0_col4\" class=\"data row0 col4\" >0</td>\n",
              "      <td id=\"T_4c10f_row0_col5\" class=\"data row0 col5\" >0</td>\n",
              "      <td id=\"T_4c10f_row0_col6\" class=\"data row0 col6\" >0</td>\n",
              "      <td id=\"T_4c10f_row0_col7\" class=\"data row0 col7\" >0</td>\n",
              "      <td id=\"T_4c10f_row0_col8\" class=\"data row0 col8\" >0</td>\n",
              "      <td id=\"T_4c10f_row0_col9\" class=\"data row0 col9\" >0</td>\n",
              "      <td id=\"T_4c10f_row0_col10\" class=\"data row0 col10\" >0</td>\n",
              "      <td id=\"T_4c10f_row0_col11\" class=\"data row0 col11\" >0</td>\n",
              "      <td id=\"T_4c10f_row0_col12\" class=\"data row0 col12\" >0</td>\n",
              "      <td id=\"T_4c10f_row0_col13\" class=\"data row0 col13\" >0</td>\n",
              "      <td id=\"T_4c10f_row0_col14\" class=\"data row0 col14\" >0</td>\n",
              "      <td id=\"T_4c10f_row0_col15\" class=\"data row0 col15\" >0</td>\n",
              "      <td id=\"T_4c10f_row0_col16\" class=\"data row0 col16\" >0</td>\n",
              "      <td id=\"T_4c10f_row0_col17\" class=\"data row0 col17\" >0</td>\n",
              "    </tr>\n",
              "    <tr>\n",
              "      <th id=\"T_4c10f_level0_row1\" class=\"row_heading level0 row1\" >1</th>\n",
              "      <td id=\"T_4c10f_row1_col0\" class=\"data row1 col0\" >0</td>\n",
              "      <td id=\"T_4c10f_row1_col1\" class=\"data row1 col1\" >0</td>\n",
              "      <td id=\"T_4c10f_row1_col2\" class=\"data row1 col2\" >0</td>\n",
              "      <td id=\"T_4c10f_row1_col3\" class=\"data row1 col3\" >0</td>\n",
              "      <td id=\"T_4c10f_row1_col4\" class=\"data row1 col4\" >0</td>\n",
              "      <td id=\"T_4c10f_row1_col5\" class=\"data row1 col5\" >29</td>\n",
              "      <td id=\"T_4c10f_row1_col6\" class=\"data row1 col6\" >150</td>\n",
              "      <td id=\"T_4c10f_row1_col7\" class=\"data row1 col7\" >195</td>\n",
              "      <td id=\"T_4c10f_row1_col8\" class=\"data row1 col8\" >254</td>\n",
              "      <td id=\"T_4c10f_row1_col9\" class=\"data row1 col9\" >255</td>\n",
              "      <td id=\"T_4c10f_row1_col10\" class=\"data row1 col10\" >254</td>\n",
              "      <td id=\"T_4c10f_row1_col11\" class=\"data row1 col11\" >176</td>\n",
              "      <td id=\"T_4c10f_row1_col12\" class=\"data row1 col12\" >193</td>\n",
              "      <td id=\"T_4c10f_row1_col13\" class=\"data row1 col13\" >150</td>\n",
              "      <td id=\"T_4c10f_row1_col14\" class=\"data row1 col14\" >96</td>\n",
              "      <td id=\"T_4c10f_row1_col15\" class=\"data row1 col15\" >0</td>\n",
              "      <td id=\"T_4c10f_row1_col16\" class=\"data row1 col16\" >0</td>\n",
              "      <td id=\"T_4c10f_row1_col17\" class=\"data row1 col17\" >0</td>\n",
              "    </tr>\n",
              "    <tr>\n",
              "      <th id=\"T_4c10f_level0_row2\" class=\"row_heading level0 row2\" >2</th>\n",
              "      <td id=\"T_4c10f_row2_col0\" class=\"data row2 col0\" >0</td>\n",
              "      <td id=\"T_4c10f_row2_col1\" class=\"data row2 col1\" >0</td>\n",
              "      <td id=\"T_4c10f_row2_col2\" class=\"data row2 col2\" >0</td>\n",
              "      <td id=\"T_4c10f_row2_col3\" class=\"data row2 col3\" >48</td>\n",
              "      <td id=\"T_4c10f_row2_col4\" class=\"data row2 col4\" >166</td>\n",
              "      <td id=\"T_4c10f_row2_col5\" class=\"data row2 col5\" >224</td>\n",
              "      <td id=\"T_4c10f_row2_col6\" class=\"data row2 col6\" >253</td>\n",
              "      <td id=\"T_4c10f_row2_col7\" class=\"data row2 col7\" >253</td>\n",
              "      <td id=\"T_4c10f_row2_col8\" class=\"data row2 col8\" >234</td>\n",
              "      <td id=\"T_4c10f_row2_col9\" class=\"data row2 col9\" >196</td>\n",
              "      <td id=\"T_4c10f_row2_col10\" class=\"data row2 col10\" >253</td>\n",
              "      <td id=\"T_4c10f_row2_col11\" class=\"data row2 col11\" >253</td>\n",
              "      <td id=\"T_4c10f_row2_col12\" class=\"data row2 col12\" >253</td>\n",
              "      <td id=\"T_4c10f_row2_col13\" class=\"data row2 col13\" >253</td>\n",
              "      <td id=\"T_4c10f_row2_col14\" class=\"data row2 col14\" >233</td>\n",
              "      <td id=\"T_4c10f_row2_col15\" class=\"data row2 col15\" >0</td>\n",
              "      <td id=\"T_4c10f_row2_col16\" class=\"data row2 col16\" >0</td>\n",
              "      <td id=\"T_4c10f_row2_col17\" class=\"data row2 col17\" >0</td>\n",
              "    </tr>\n",
              "    <tr>\n",
              "      <th id=\"T_4c10f_level0_row3\" class=\"row_heading level0 row3\" >3</th>\n",
              "      <td id=\"T_4c10f_row3_col0\" class=\"data row3 col0\" >0</td>\n",
              "      <td id=\"T_4c10f_row3_col1\" class=\"data row3 col1\" >93</td>\n",
              "      <td id=\"T_4c10f_row3_col2\" class=\"data row3 col2\" >244</td>\n",
              "      <td id=\"T_4c10f_row3_col3\" class=\"data row3 col3\" >249</td>\n",
              "      <td id=\"T_4c10f_row3_col4\" class=\"data row3 col4\" >253</td>\n",
              "      <td id=\"T_4c10f_row3_col5\" class=\"data row3 col5\" >187</td>\n",
              "      <td id=\"T_4c10f_row3_col6\" class=\"data row3 col6\" >46</td>\n",
              "      <td id=\"T_4c10f_row3_col7\" class=\"data row3 col7\" >10</td>\n",
              "      <td id=\"T_4c10f_row3_col8\" class=\"data row3 col8\" >8</td>\n",
              "      <td id=\"T_4c10f_row3_col9\" class=\"data row3 col9\" >4</td>\n",
              "      <td id=\"T_4c10f_row3_col10\" class=\"data row3 col10\" >10</td>\n",
              "      <td id=\"T_4c10f_row3_col11\" class=\"data row3 col11\" >194</td>\n",
              "      <td id=\"T_4c10f_row3_col12\" class=\"data row3 col12\" >253</td>\n",
              "      <td id=\"T_4c10f_row3_col13\" class=\"data row3 col13\" >253</td>\n",
              "      <td id=\"T_4c10f_row3_col14\" class=\"data row3 col14\" >233</td>\n",
              "      <td id=\"T_4c10f_row3_col15\" class=\"data row3 col15\" >0</td>\n",
              "      <td id=\"T_4c10f_row3_col16\" class=\"data row3 col16\" >0</td>\n",
              "      <td id=\"T_4c10f_row3_col17\" class=\"data row3 col17\" >0</td>\n",
              "    </tr>\n",
              "    <tr>\n",
              "      <th id=\"T_4c10f_level0_row4\" class=\"row_heading level0 row4\" >4</th>\n",
              "      <td id=\"T_4c10f_row4_col0\" class=\"data row4 col0\" >0</td>\n",
              "      <td id=\"T_4c10f_row4_col1\" class=\"data row4 col1\" >107</td>\n",
              "      <td id=\"T_4c10f_row4_col2\" class=\"data row4 col2\" >253</td>\n",
              "      <td id=\"T_4c10f_row4_col3\" class=\"data row4 col3\" >253</td>\n",
              "      <td id=\"T_4c10f_row4_col4\" class=\"data row4 col4\" >230</td>\n",
              "      <td id=\"T_4c10f_row4_col5\" class=\"data row4 col5\" >48</td>\n",
              "      <td id=\"T_4c10f_row4_col6\" class=\"data row4 col6\" >0</td>\n",
              "      <td id=\"T_4c10f_row4_col7\" class=\"data row4 col7\" >0</td>\n",
              "      <td id=\"T_4c10f_row4_col8\" class=\"data row4 col8\" >0</td>\n",
              "      <td id=\"T_4c10f_row4_col9\" class=\"data row4 col9\" >0</td>\n",
              "      <td id=\"T_4c10f_row4_col10\" class=\"data row4 col10\" >0</td>\n",
              "      <td id=\"T_4c10f_row4_col11\" class=\"data row4 col11\" >192</td>\n",
              "      <td id=\"T_4c10f_row4_col12\" class=\"data row4 col12\" >253</td>\n",
              "      <td id=\"T_4c10f_row4_col13\" class=\"data row4 col13\" >253</td>\n",
              "      <td id=\"T_4c10f_row4_col14\" class=\"data row4 col14\" >156</td>\n",
              "      <td id=\"T_4c10f_row4_col15\" class=\"data row4 col15\" >0</td>\n",
              "      <td id=\"T_4c10f_row4_col16\" class=\"data row4 col16\" >0</td>\n",
              "      <td id=\"T_4c10f_row4_col17\" class=\"data row4 col17\" >0</td>\n",
              "    </tr>\n",
              "    <tr>\n",
              "      <th id=\"T_4c10f_level0_row5\" class=\"row_heading level0 row5\" >5</th>\n",
              "      <td id=\"T_4c10f_row5_col0\" class=\"data row5 col0\" >0</td>\n",
              "      <td id=\"T_4c10f_row5_col1\" class=\"data row5 col1\" >3</td>\n",
              "      <td id=\"T_4c10f_row5_col2\" class=\"data row5 col2\" >20</td>\n",
              "      <td id=\"T_4c10f_row5_col3\" class=\"data row5 col3\" >20</td>\n",
              "      <td id=\"T_4c10f_row5_col4\" class=\"data row5 col4\" >15</td>\n",
              "      <td id=\"T_4c10f_row5_col5\" class=\"data row5 col5\" >0</td>\n",
              "      <td id=\"T_4c10f_row5_col6\" class=\"data row5 col6\" >0</td>\n",
              "      <td id=\"T_4c10f_row5_col7\" class=\"data row5 col7\" >0</td>\n",
              "      <td id=\"T_4c10f_row5_col8\" class=\"data row5 col8\" >0</td>\n",
              "      <td id=\"T_4c10f_row5_col9\" class=\"data row5 col9\" >0</td>\n",
              "      <td id=\"T_4c10f_row5_col10\" class=\"data row5 col10\" >43</td>\n",
              "      <td id=\"T_4c10f_row5_col11\" class=\"data row5 col11\" >224</td>\n",
              "      <td id=\"T_4c10f_row5_col12\" class=\"data row5 col12\" >253</td>\n",
              "      <td id=\"T_4c10f_row5_col13\" class=\"data row5 col13\" >245</td>\n",
              "      <td id=\"T_4c10f_row5_col14\" class=\"data row5 col14\" >74</td>\n",
              "      <td id=\"T_4c10f_row5_col15\" class=\"data row5 col15\" >0</td>\n",
              "      <td id=\"T_4c10f_row5_col16\" class=\"data row5 col16\" >0</td>\n",
              "      <td id=\"T_4c10f_row5_col17\" class=\"data row5 col17\" >0</td>\n",
              "    </tr>\n",
              "    <tr>\n",
              "      <th id=\"T_4c10f_level0_row6\" class=\"row_heading level0 row6\" >6</th>\n",
              "      <td id=\"T_4c10f_row6_col0\" class=\"data row6 col0\" >0</td>\n",
              "      <td id=\"T_4c10f_row6_col1\" class=\"data row6 col1\" >0</td>\n",
              "      <td id=\"T_4c10f_row6_col2\" class=\"data row6 col2\" >0</td>\n",
              "      <td id=\"T_4c10f_row6_col3\" class=\"data row6 col3\" >0</td>\n",
              "      <td id=\"T_4c10f_row6_col4\" class=\"data row6 col4\" >0</td>\n",
              "      <td id=\"T_4c10f_row6_col5\" class=\"data row6 col5\" >0</td>\n",
              "      <td id=\"T_4c10f_row6_col6\" class=\"data row6 col6\" >0</td>\n",
              "      <td id=\"T_4c10f_row6_col7\" class=\"data row6 col7\" >0</td>\n",
              "      <td id=\"T_4c10f_row6_col8\" class=\"data row6 col8\" >0</td>\n",
              "      <td id=\"T_4c10f_row6_col9\" class=\"data row6 col9\" >0</td>\n",
              "      <td id=\"T_4c10f_row6_col10\" class=\"data row6 col10\" >249</td>\n",
              "      <td id=\"T_4c10f_row6_col11\" class=\"data row6 col11\" >253</td>\n",
              "      <td id=\"T_4c10f_row6_col12\" class=\"data row6 col12\" >245</td>\n",
              "      <td id=\"T_4c10f_row6_col13\" class=\"data row6 col13\" >126</td>\n",
              "      <td id=\"T_4c10f_row6_col14\" class=\"data row6 col14\" >0</td>\n",
              "      <td id=\"T_4c10f_row6_col15\" class=\"data row6 col15\" >0</td>\n",
              "      <td id=\"T_4c10f_row6_col16\" class=\"data row6 col16\" >0</td>\n",
              "      <td id=\"T_4c10f_row6_col17\" class=\"data row6 col17\" >0</td>\n",
              "    </tr>\n",
              "    <tr>\n",
              "      <th id=\"T_4c10f_level0_row7\" class=\"row_heading level0 row7\" >7</th>\n",
              "      <td id=\"T_4c10f_row7_col0\" class=\"data row7 col0\" >0</td>\n",
              "      <td id=\"T_4c10f_row7_col1\" class=\"data row7 col1\" >0</td>\n",
              "      <td id=\"T_4c10f_row7_col2\" class=\"data row7 col2\" >0</td>\n",
              "      <td id=\"T_4c10f_row7_col3\" class=\"data row7 col3\" >0</td>\n",
              "      <td id=\"T_4c10f_row7_col4\" class=\"data row7 col4\" >0</td>\n",
              "      <td id=\"T_4c10f_row7_col5\" class=\"data row7 col5\" >0</td>\n",
              "      <td id=\"T_4c10f_row7_col6\" class=\"data row7 col6\" >0</td>\n",
              "      <td id=\"T_4c10f_row7_col7\" class=\"data row7 col7\" >14</td>\n",
              "      <td id=\"T_4c10f_row7_col8\" class=\"data row7 col8\" >101</td>\n",
              "      <td id=\"T_4c10f_row7_col9\" class=\"data row7 col9\" >223</td>\n",
              "      <td id=\"T_4c10f_row7_col10\" class=\"data row7 col10\" >253</td>\n",
              "      <td id=\"T_4c10f_row7_col11\" class=\"data row7 col11\" >248</td>\n",
              "      <td id=\"T_4c10f_row7_col12\" class=\"data row7 col12\" >124</td>\n",
              "      <td id=\"T_4c10f_row7_col13\" class=\"data row7 col13\" >0</td>\n",
              "      <td id=\"T_4c10f_row7_col14\" class=\"data row7 col14\" >0</td>\n",
              "      <td id=\"T_4c10f_row7_col15\" class=\"data row7 col15\" >0</td>\n",
              "      <td id=\"T_4c10f_row7_col16\" class=\"data row7 col16\" >0</td>\n",
              "      <td id=\"T_4c10f_row7_col17\" class=\"data row7 col17\" >0</td>\n",
              "    </tr>\n",
              "    <tr>\n",
              "      <th id=\"T_4c10f_level0_row8\" class=\"row_heading level0 row8\" >8</th>\n",
              "      <td id=\"T_4c10f_row8_col0\" class=\"data row8 col0\" >0</td>\n",
              "      <td id=\"T_4c10f_row8_col1\" class=\"data row8 col1\" >0</td>\n",
              "      <td id=\"T_4c10f_row8_col2\" class=\"data row8 col2\" >0</td>\n",
              "      <td id=\"T_4c10f_row8_col3\" class=\"data row8 col3\" >0</td>\n",
              "      <td id=\"T_4c10f_row8_col4\" class=\"data row8 col4\" >0</td>\n",
              "      <td id=\"T_4c10f_row8_col5\" class=\"data row8 col5\" >11</td>\n",
              "      <td id=\"T_4c10f_row8_col6\" class=\"data row8 col6\" >166</td>\n",
              "      <td id=\"T_4c10f_row8_col7\" class=\"data row8 col7\" >239</td>\n",
              "      <td id=\"T_4c10f_row8_col8\" class=\"data row8 col8\" >253</td>\n",
              "      <td id=\"T_4c10f_row8_col9\" class=\"data row8 col9\" >253</td>\n",
              "      <td id=\"T_4c10f_row8_col10\" class=\"data row8 col10\" >253</td>\n",
              "      <td id=\"T_4c10f_row8_col11\" class=\"data row8 col11\" >187</td>\n",
              "      <td id=\"T_4c10f_row8_col12\" class=\"data row8 col12\" >30</td>\n",
              "      <td id=\"T_4c10f_row8_col13\" class=\"data row8 col13\" >0</td>\n",
              "      <td id=\"T_4c10f_row8_col14\" class=\"data row8 col14\" >0</td>\n",
              "      <td id=\"T_4c10f_row8_col15\" class=\"data row8 col15\" >0</td>\n",
              "      <td id=\"T_4c10f_row8_col16\" class=\"data row8 col16\" >0</td>\n",
              "      <td id=\"T_4c10f_row8_col17\" class=\"data row8 col17\" >0</td>\n",
              "    </tr>\n",
              "    <tr>\n",
              "      <th id=\"T_4c10f_level0_row9\" class=\"row_heading level0 row9\" >9</th>\n",
              "      <td id=\"T_4c10f_row9_col0\" class=\"data row9 col0\" >0</td>\n",
              "      <td id=\"T_4c10f_row9_col1\" class=\"data row9 col1\" >0</td>\n",
              "      <td id=\"T_4c10f_row9_col2\" class=\"data row9 col2\" >0</td>\n",
              "      <td id=\"T_4c10f_row9_col3\" class=\"data row9 col3\" >0</td>\n",
              "      <td id=\"T_4c10f_row9_col4\" class=\"data row9 col4\" >0</td>\n",
              "      <td id=\"T_4c10f_row9_col5\" class=\"data row9 col5\" >16</td>\n",
              "      <td id=\"T_4c10f_row9_col6\" class=\"data row9 col6\" >248</td>\n",
              "      <td id=\"T_4c10f_row9_col7\" class=\"data row9 col7\" >250</td>\n",
              "      <td id=\"T_4c10f_row9_col8\" class=\"data row9 col8\" >253</td>\n",
              "      <td id=\"T_4c10f_row9_col9\" class=\"data row9 col9\" >253</td>\n",
              "      <td id=\"T_4c10f_row9_col10\" class=\"data row9 col10\" >253</td>\n",
              "      <td id=\"T_4c10f_row9_col11\" class=\"data row9 col11\" >253</td>\n",
              "      <td id=\"T_4c10f_row9_col12\" class=\"data row9 col12\" >232</td>\n",
              "      <td id=\"T_4c10f_row9_col13\" class=\"data row9 col13\" >213</td>\n",
              "      <td id=\"T_4c10f_row9_col14\" class=\"data row9 col14\" >111</td>\n",
              "      <td id=\"T_4c10f_row9_col15\" class=\"data row9 col15\" >2</td>\n",
              "      <td id=\"T_4c10f_row9_col16\" class=\"data row9 col16\" >0</td>\n",
              "      <td id=\"T_4c10f_row9_col17\" class=\"data row9 col17\" >0</td>\n",
              "    </tr>\n",
              "    <tr>\n",
              "      <th id=\"T_4c10f_level0_row10\" class=\"row_heading level0 row10\" >10</th>\n",
              "      <td id=\"T_4c10f_row10_col0\" class=\"data row10 col0\" >0</td>\n",
              "      <td id=\"T_4c10f_row10_col1\" class=\"data row10 col1\" >0</td>\n",
              "      <td id=\"T_4c10f_row10_col2\" class=\"data row10 col2\" >0</td>\n",
              "      <td id=\"T_4c10f_row10_col3\" class=\"data row10 col3\" >0</td>\n",
              "      <td id=\"T_4c10f_row10_col4\" class=\"data row10 col4\" >0</td>\n",
              "      <td id=\"T_4c10f_row10_col5\" class=\"data row10 col5\" >0</td>\n",
              "      <td id=\"T_4c10f_row10_col6\" class=\"data row10 col6\" >0</td>\n",
              "      <td id=\"T_4c10f_row10_col7\" class=\"data row10 col7\" >43</td>\n",
              "      <td id=\"T_4c10f_row10_col8\" class=\"data row10 col8\" >98</td>\n",
              "      <td id=\"T_4c10f_row10_col9\" class=\"data row10 col9\" >98</td>\n",
              "      <td id=\"T_4c10f_row10_col10\" class=\"data row10 col10\" >208</td>\n",
              "      <td id=\"T_4c10f_row10_col11\" class=\"data row10 col11\" >253</td>\n",
              "      <td id=\"T_4c10f_row10_col12\" class=\"data row10 col12\" >253</td>\n",
              "      <td id=\"T_4c10f_row10_col13\" class=\"data row10 col13\" >253</td>\n",
              "      <td id=\"T_4c10f_row10_col14\" class=\"data row10 col14\" >253</td>\n",
              "      <td id=\"T_4c10f_row10_col15\" class=\"data row10 col15\" >187</td>\n",
              "      <td id=\"T_4c10f_row10_col16\" class=\"data row10 col16\" >22</td>\n",
              "      <td id=\"T_4c10f_row10_col17\" class=\"data row10 col17\" >0</td>\n",
              "    </tr>\n",
              "  </tbody>\n",
              "</table>\n"
            ]
          },
          "metadata": {},
          "execution_count": 13
        }
      ]
    },
    {
      "cell_type": "code",
      "source": [],
      "metadata": {
        "id": "UPIX0G28EHDI"
      },
      "execution_count": null,
      "outputs": []
    }
  ]
}